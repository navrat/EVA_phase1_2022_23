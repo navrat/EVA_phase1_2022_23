{
  "cells": [
    {
      "cell_type": "markdown",
      "metadata": {
        "id": "view-in-github",
        "colab_type": "text"
      },
      "source": [
        "<a href=\"https://colab.research.google.com/github/navrat/EVA_phase1_2022_23/blob/main/EVA_session_2_5_Assignment/EVA_Session_2_5_Assignment.ipynb\" target=\"_parent\"><img src=\"https://colab.research.google.com/assets/colab-badge.svg\" alt=\"Open In Colab\"/></a>"
      ]
    },
    {
      "cell_type": "markdown",
      "source": [
        "# Breaking the code down into 3 problems:\n",
        "1. CNN based MNIST prediction\n",
        "2. Vanilla NN based sum prediction\n",
        "3. Combining MNIST and Random Number prediction into a unified network"
      ],
      "metadata": {
        "id": "GtM3NWMyM5zg"
      }
    },
    {
      "cell_type": "markdown",
      "source": [
        "### 1. Only MNIST prediction through a CNN"
      ],
      "metadata": {
        "id": "nOkXG-uiMwmu"
      }
    },
    {
      "cell_type": "code",
      "execution_count": 4,
      "metadata": {
        "id": "41y4dOtJU1Ld"
      },
      "outputs": [],
      "source": [
        "import numpy as np\n",
        "import torch\n",
        "import torchvision\n",
        "import matplotlib.pyplot as plt\n",
        "from time import time\n",
        "from torchvision import datasets, transforms\n",
        "from torch import nn, optim\n",
        "import torch.nn.functional as F\n"
      ]
    },
    {
      "cell_type": "code",
      "execution_count": 5,
      "metadata": {
        "id": "YwkbRWY5lgj5",
        "colab": {
          "base_uri": "https://localhost:8080/"
        },
        "outputId": "bfc74d1e-8cc7-4739-cd0c-edff43c80691"
      },
      "outputs": [
        {
          "output_type": "stream",
          "name": "stdout",
          "text": [
            "Looking in indexes: https://pypi.org/simple, https://us-python.pkg.dev/colab-wheels/public/simple/\n",
            "Collecting GPUtil\n",
            "  Downloading GPUtil-1.4.0.tar.gz (5.5 kB)\n",
            "  Preparing metadata (setup.py) ... \u001b[?25l\u001b[?25hdone\n",
            "Building wheels for collected packages: GPUtil\n",
            "  Building wheel for GPUtil (setup.py) ... \u001b[?25l\u001b[?25hdone\n",
            "  Created wheel for GPUtil: filename=GPUtil-1.4.0-py3-none-any.whl size=7409 sha256=317e56b46644c2baae0dd858ad05005c3c493c855cb59dfe9ae7955acb1da2e7\n",
            "  Stored in directory: /root/.cache/pip/wheels/ba/03/bb/7a97840eb54479b328672e15a536e49dc60da200fb21564d53\n",
            "Successfully built GPUtil\n",
            "Installing collected packages: GPUtil\n",
            "Successfully installed GPUtil-1.4.0\n",
            "__CUDNN VERSION: 8302\n",
            "__Number CUDA Devices: 1\n",
            "__CUDA Device Name: Tesla T4\n",
            "__CUDA Device Total Memory [GB]: 15.843721216\n"
          ]
        }
      ],
      "source": [
        "!pip install GPUtil\n",
        "import GPUtil \n",
        "GPUtil. getAvailable()\n",
        "import torch \n",
        "use_cuda = torch. cuda. is_available()\n",
        "if use_cuda:\n",
        "    print('__CUDNN VERSION:', torch.backends.cudnn.version())\n",
        "    print('__Number CUDA Devices:', torch.cuda.device_count())\n",
        "    print('__CUDA Device Name:',torch.cuda.get_device_name(0))\n",
        "    print('__CUDA Device Total Memory [GB]:',torch.cuda.get_device_properties(0).total_memory/1e9)"
      ]
    },
    {
      "cell_type": "code",
      "execution_count": 6,
      "metadata": {
        "colab": {
          "base_uri": "https://localhost:8080/"
        },
        "id": "7xmogPrFKPbI",
        "outputId": "6aefd744-8580-45d7-f646-57d60213a75b"
      },
      "outputs": [
        {
          "output_type": "execute_result",
          "data": {
            "text/plain": [
              "<torch._C.Generator at 0x7fde8e29e990>"
            ]
          },
          "metadata": {},
          "execution_count": 6
        }
      ],
      "source": [
        "n_epochs = 3\n",
        "batch_size_train = 64\n",
        "batch_size_test = 1000\n",
        "learning_rate = 0.01\n",
        "momentum = 0.5\n",
        "log_interval = 10\n",
        "\n",
        "random_seed = 1\n",
        "torch.backends.cudnn.enabled = False\n",
        "torch.manual_seed(random_seed)"
      ]
    },
    {
      "cell_type": "code",
      "execution_count": 7,
      "metadata": {
        "id": "LMqtDH1aKPd_",
        "colab": {
          "base_uri": "https://localhost:8080/",
          "height": 423,
          "referenced_widgets": [
            "024ba9105f3b42499c59478acaff87b5",
            "93867212439046f6a5b792cb81299cc5",
            "128003380ce44d5eafbaff2d692aa40c",
            "317289b8f0e94109b7af9debd8d25a89",
            "963f3b5d2ccb4358aef55a80661d3fb3",
            "22bde46c33ac47bda553b5ed2b5d3e84",
            "e3f3e5ace4104c6ab68cdcac25705400",
            "7bd4ce8464474680bafaadab1b8e5fe1",
            "d645e4e07cd14516b27662c789168526",
            "89b9af497c7f4a55b46d18b805c8a0af",
            "ed23c77ed8834712b0a94b322e63e3dc",
            "665f274254674a05b21998c30621518c",
            "57f29e5ad76b4efebbd4c537c4bb5a2e",
            "e21413f79eab450f9dbd0d7d0f981147",
            "eef987f101554a7b87139e1ca98bbfc5",
            "0d7faf9aba7b4b1495c3a616655c26c5",
            "3e353f14c8f1483f857486191ec52437",
            "5387429130cb421f9e863a92368b08a0",
            "b8cfa429caf34e87a1a093bf2430484c",
            "086d18ef76604c66a6b6438acd274bf8",
            "925a84c5aa774e288171f99a33b603fa",
            "50388ab7e56a4be7b7d3971746d18621",
            "a45201641f794826a5bc513152602954",
            "00b00c205a184ccba3ab78a173fd8c48",
            "ed286633163b45fea2e0f5768d80fc14",
            "9d15851f7b4f4646a021adfeed48bdbc",
            "bb16f4524e3d4fcf8e037d45eb350fb3",
            "1a36f633454f41988234a3319bef1241",
            "54250b491ab942e3b11d16c2e0667179",
            "677049a4484345ddadeaa7f42dc0dc38",
            "e44624c221f44935b2259f36f205f045",
            "11b86465455c46c8921ddd08ddfe1ba4",
            "0e93fbc5eb7241e7aed23d2d1412d08b",
            "efbb781e46804516839280ad12412df6",
            "db7d80566d2e4855af3540e0daa955e4",
            "0510b288bb1248a786915e268d060b48",
            "2fa6c3842bf54ff29aa0b378b7dce65d",
            "4339ca5d945641a49512aad619066402",
            "70646669334b48e0997aaae9df9de817",
            "b9542ebc85e44cb384678a51e47016f3",
            "d48d053b6acb40d0b3e3592c3adf7f4d",
            "4850a8bf0e494673b5b600a91649c79a",
            "dae3f501addf498a80239d0b83e467d7",
            "33651d59620c476cbb71cf8171f1f38a"
          ]
        },
        "outputId": "2b1827e7-e987-4e76-e445-5c5629c8aa94"
      },
      "outputs": [
        {
          "output_type": "stream",
          "name": "stdout",
          "text": [
            "Downloading http://yann.lecun.com/exdb/mnist/train-images-idx3-ubyte.gz\n",
            "Downloading http://yann.lecun.com/exdb/mnist/train-images-idx3-ubyte.gz to /files/MNIST/raw/train-images-idx3-ubyte.gz\n"
          ]
        },
        {
          "output_type": "display_data",
          "data": {
            "text/plain": [
              "  0%|          | 0/9912422 [00:00<?, ?it/s]"
            ],
            "application/vnd.jupyter.widget-view+json": {
              "version_major": 2,
              "version_minor": 0,
              "model_id": "024ba9105f3b42499c59478acaff87b5"
            }
          },
          "metadata": {}
        },
        {
          "output_type": "stream",
          "name": "stdout",
          "text": [
            "Extracting /files/MNIST/raw/train-images-idx3-ubyte.gz to /files/MNIST/raw\n",
            "\n",
            "Downloading http://yann.lecun.com/exdb/mnist/train-labels-idx1-ubyte.gz\n",
            "Downloading http://yann.lecun.com/exdb/mnist/train-labels-idx1-ubyte.gz to /files/MNIST/raw/train-labels-idx1-ubyte.gz\n"
          ]
        },
        {
          "output_type": "display_data",
          "data": {
            "text/plain": [
              "  0%|          | 0/28881 [00:00<?, ?it/s]"
            ],
            "application/vnd.jupyter.widget-view+json": {
              "version_major": 2,
              "version_minor": 0,
              "model_id": "665f274254674a05b21998c30621518c"
            }
          },
          "metadata": {}
        },
        {
          "output_type": "stream",
          "name": "stdout",
          "text": [
            "Extracting /files/MNIST/raw/train-labels-idx1-ubyte.gz to /files/MNIST/raw\n",
            "\n",
            "Downloading http://yann.lecun.com/exdb/mnist/t10k-images-idx3-ubyte.gz\n",
            "Downloading http://yann.lecun.com/exdb/mnist/t10k-images-idx3-ubyte.gz to /files/MNIST/raw/t10k-images-idx3-ubyte.gz\n"
          ]
        },
        {
          "output_type": "display_data",
          "data": {
            "text/plain": [
              "  0%|          | 0/1648877 [00:00<?, ?it/s]"
            ],
            "application/vnd.jupyter.widget-view+json": {
              "version_major": 2,
              "version_minor": 0,
              "model_id": "a45201641f794826a5bc513152602954"
            }
          },
          "metadata": {}
        },
        {
          "output_type": "stream",
          "name": "stdout",
          "text": [
            "Extracting /files/MNIST/raw/t10k-images-idx3-ubyte.gz to /files/MNIST/raw\n",
            "\n",
            "Downloading http://yann.lecun.com/exdb/mnist/t10k-labels-idx1-ubyte.gz\n",
            "Downloading http://yann.lecun.com/exdb/mnist/t10k-labels-idx1-ubyte.gz to /files/MNIST/raw/t10k-labels-idx1-ubyte.gz\n"
          ]
        },
        {
          "output_type": "display_data",
          "data": {
            "text/plain": [
              "  0%|          | 0/4542 [00:00<?, ?it/s]"
            ],
            "application/vnd.jupyter.widget-view+json": {
              "version_major": 2,
              "version_minor": 0,
              "model_id": "efbb781e46804516839280ad12412df6"
            }
          },
          "metadata": {}
        },
        {
          "output_type": "stream",
          "name": "stdout",
          "text": [
            "Extracting /files/MNIST/raw/t10k-labels-idx1-ubyte.gz to /files/MNIST/raw\n",
            "\n"
          ]
        }
      ],
      "source": [
        "train_loader = torch.utils.data.DataLoader(\n",
        "  torchvision.datasets.MNIST('/files/', train=True, download=True,\n",
        "                             transform=torchvision.transforms.Compose([\n",
        "                               torchvision.transforms.ToTensor(),\n",
        "                               torchvision.transforms.Normalize(\n",
        "                                 (0.1307,), (0.3081,))\n",
        "                             ])),\n",
        "  batch_size=batch_size_train, shuffle=True)\n",
        "\n",
        "test_loader = torch.utils.data.DataLoader(\n",
        "  torchvision.datasets.MNIST('/files/', train=False, download=True,\n",
        "                             transform=torchvision.transforms.Compose([\n",
        "                               torchvision.transforms.ToTensor(),\n",
        "                               torchvision.transforms.Normalize(\n",
        "                                 (0.1307,), (0.3081,))\n",
        "                             ])),\n",
        "  batch_size=batch_size_test, shuffle=True)"
      ]
    },
    {
      "cell_type": "code",
      "execution_count": 8,
      "metadata": {
        "id": "95LL-CbQKPgw"
      },
      "outputs": [],
      "source": [
        "examples = enumerate(test_loader)\n",
        "batch_idx, (example_data, example_targets) = next(examples)"
      ]
    },
    {
      "cell_type": "code",
      "execution_count": 9,
      "metadata": {
        "colab": {
          "base_uri": "https://localhost:8080/"
        },
        "id": "5eQ15TMlKPjb",
        "outputId": "dfecd1e1-f23a-416f-c4a8-6855610f830a"
      },
      "outputs": [
        {
          "output_type": "execute_result",
          "data": {
            "text/plain": [
              "torch.Size([1000, 1, 28, 28])"
            ]
          },
          "metadata": {},
          "execution_count": 9
        }
      ],
      "source": [
        "example_data.shape"
      ]
    },
    {
      "cell_type": "code",
      "execution_count": 10,
      "metadata": {
        "colab": {
          "base_uri": "https://localhost:8080/",
          "height": 551
        },
        "id": "8Ci1ZfoLKW5X",
        "outputId": "06e59bb5-dcdd-4b55-90b3-32fc608cf672"
      },
      "outputs": [
        {
          "output_type": "execute_result",
          "data": {
            "text/plain": [
              "<Figure size 432x288 with 6 Axes>"
            ],
            "image/png": "[encoded data removed]"
          },
          "metadata": {},
          "execution_count": 10
        },
        {
          "output_type": "display_data",
          "data": {
            "text/plain": [
              "<Figure size 432x288 with 6 Axes>"
            ],
            "image/png": "[encoded data removed]"
          },
          "metadata": {}
        }
      ],
      "source": [
        "import matplotlib.pyplot as plt\n",
        "\n",
        "fig = plt.figure()\n",
        "for i in range(6):\n",
        "  plt.subplot(2,3,i+1)\n",
        "  plt.tight_layout()\n",
        "  plt.imshow(example_data[i][0], cmap='gray', interpolation='none')\n",
        "  plt.title(\"Ground Truth: {}\".format(example_targets[i]))\n",
        "  plt.xticks([])\n",
        "  plt.yticks([])\n",
        "fig"
      ]
    },
    {
      "cell_type": "code",
      "execution_count": 10,
      "metadata": {
        "id": "Ardc6_vyMV8b"
      },
      "outputs": [],
      "source": []
    },
    {
      "cell_type": "code",
      "execution_count": 11,
      "metadata": {
        "id": "5tDVfgoXKXB4"
      },
      "outputs": [],
      "source": [
        "class Net(nn.Module):\n",
        "    def __init__(self):\n",
        "        super(Net, self).__init__()\n",
        "        self.conv1 = nn.Conv2d(1, 32, 3, padding=1) # convolution layer with 32 of 3*3 kernels. 1*28*28 (1*30*30 with padding) - 32*28*28 - RF = 3*3\n",
        "        self.conv2 = nn.Conv2d(32, 64, 3, padding=1) # convolution layer with 64 of 3*3 kernels.  32*28*28 (1*30*30 with padding) - 64*28*28 - RF = 5*5\n",
        "        self.pool1 = nn.MaxPool2d(2, 2) # max pooling using a 2*2 kernel. 64*28*28 - 64*14*14 - RF = 10*10\n",
        "        self.conv3 = nn.Conv2d(64, 128, 3, padding=1) # convolution layer with 128 of 3*3 kernels.  64*14*14 (64*16*16 with padding) - 128*14*14 - RF = 12*12\n",
        "        self.conv4 = nn.Conv2d(128, 256, 3, padding=1) # convolution layer with 256 of 3*3 kernels.  128*14*14 (128*16*16 with padding) - 256*14*14 - RF = 14*14\n",
        "        self.pool2 = nn.MaxPool2d(2, 2) # max pooling using a 2*2 kernel. 256*14*14 - 256*7*7 - RF = 28*28\n",
        "        self.conv5 = nn.Conv2d(256, 512, 3)# convolution layer with 512 of 3*3 kernels.  256*7*7 - 512*5*5 - RF = 30*30 (larger than image size?)\n",
        "        self.conv6 = nn.Conv2d(512, 1024, 3)# convolution layer with 1024 of 3*3 kernels.  512*5*5 - 1024*3*3 - RF = 32*32 (larger than image size?)\n",
        "        self.conv7 = nn.Conv2d(1024, 10, 3)# convolution layer with 10 of 3*3 kernels.  1024*3*3 - 10*1*1 - RF = 34*34 (larger than image size?)\n",
        "    def forward(self, x): # module to implement the sequential neural network\n",
        "        x = self.pool1(F.relu(self.conv2(F.relu(self.conv1(x))))) # sequence of conv1 taking input imagge and output activated by rely, passes to conv2 activated by relu and pooled. \n",
        "        x = self.pool2(F.relu(self.conv4(F.relu(self.conv3(x))))) # sequence of taking above output and passing to conv3 and output activated by rely, passes to conv4 activated by relu and pooled. \n",
        "        x = F.relu(self.conv6(F.relu(self.conv5(x)))) # sequence of taking above output and passing to conv5 and output activated by relu. passes to conv6 and activated by relu.\n",
        "        x = self.conv7(x)# sequence of taking above output and passing to conv7 and output activated by relu\n",
        "        x = x.view(-1, 10) # flattening the output to 1-d (original vs. addition of lin)\n",
        "        return F.log_softmax(x) # return the logged softmax of the 1-d"
      ]
    },
    {
      "cell_type": "code",
      "execution_count": 12,
      "metadata": {
        "id": "K6u2qvIQKXJv"
      },
      "outputs": [],
      "source": [
        "network = Net()\n",
        "optimizer = optim.SGD(network.parameters(), lr=learning_rate,\n",
        "                      momentum=momentum)"
      ]
    },
    {
      "cell_type": "code",
      "source": [
        "example_data[0].shape"
      ],
      "metadata": {
        "colab": {
          "base_uri": "https://localhost:8080/"
        },
        "id": "RqbbP9lCv84b",
        "outputId": "b64a6d2c-0187-49db-aa01-299624d47ac7"
      },
      "execution_count": 13,
      "outputs": [
        {
          "output_type": "execute_result",
          "data": {
            "text/plain": [
              "torch.Size([1, 28, 28])"
            ]
          },
          "metadata": {},
          "execution_count": 13
        }
      ]
    },
    {
      "cell_type": "code",
      "execution_count": 14,
      "metadata": {
        "id": "kfUkISOpKPlv"
      },
      "outputs": [],
      "source": [
        "train_losses = []\n",
        "train_counter = []\n",
        "test_losses = []\n",
        "test_counter = [i*len(train_loader.dataset) for i in range(n_epochs + 1)]"
      ]
    },
    {
      "cell_type": "code",
      "execution_count": 15,
      "metadata": {
        "id": "2FuecJyZKPoh"
      },
      "outputs": [],
      "source": [
        "def train(epoch):\n",
        "  network.train()\n",
        "  for batch_idx, (data, target) in enumerate(train_loader):\n",
        "    optimizer.zero_grad()\n",
        "    output = network(data)\n",
        "    loss = F.nll_loss(output, target)\n",
        "    loss.backward()\n",
        "    optimizer.step()\n",
        "    if batch_idx % log_interval == 0:\n",
        "      print('Train Epoch: {} [{}/{} ({:.0f}%)]\\tLoss: {:.6f}'.format(\n",
        "        epoch, batch_idx * len(data), len(train_loader.dataset),\n",
        "        100. * batch_idx / len(train_loader), loss.item()))\n",
        "      train_losses.append(loss.item())\n",
        "      train_counter.append(\n",
        "        (batch_idx*64) + ((epoch-1)*len(train_loader.dataset)))\n",
        "      torch.save(network.state_dict(), '/model.pth')\n",
        "      torch.save(optimizer.state_dict(), '/optimizer.pth')"
      ]
    },
    {
      "cell_type": "code",
      "execution_count": 16,
      "metadata": {
        "id": "TcoJOz1kKjJX"
      },
      "outputs": [],
      "source": [
        "def test():\n",
        "  network.eval()\n",
        "  test_loss = 0\n",
        "  correct = 0\n",
        "  with torch.no_grad():\n",
        "    for data, target in test_loader:\n",
        "      output = network(data)\n",
        "      test_loss += F.nll_loss(output, target, size_average=False).item()\n",
        "      pred = output.data.max(1, keepdim=True)[1]\n",
        "      correct += pred.eq(target.data.view_as(pred)).sum()\n",
        "  test_loss /= len(test_loader.dataset)\n",
        "  test_losses.append(test_loss)\n",
        "  print('\\nTest set: Avg. loss: {:.4f}, Accuracy: {}/{} ({:.0f}%)\\n'.format(\n",
        "    test_loss, correct, len(test_loader.dataset),\n",
        "    100. * correct / len(test_loader.dataset)))"
      ]
    },
    {
      "cell_type": "code",
      "execution_count": 17,
      "metadata": {
        "colab": {
          "base_uri": "https://localhost:8080/"
        },
        "id": "ABIDzhe2KjSp",
        "outputId": "071341a0-d793-4e4f-b5b1-0776927fd2a1"
      },
      "outputs": [
        {
          "output_type": "stream",
          "name": "stderr",
          "text": [
            "<ipython-input-11-5dd3686f6f5e>:19: UserWarning: Implicit dimension choice for log_softmax has been deprecated. Change the call to include dim=X as an argument.\n",
            "  return F.log_softmax(x) # return the logged softmax of the 1-d\n",
            "/usr/local/lib/python3.8/dist-packages/torch/nn/_reduction.py:42: UserWarning: size_average and reduce args will be deprecated, please use reduction='sum' instead.\n",
            "  warnings.warn(warning.format(ret))\n"
          ]
        },
        {
          "output_type": "stream",
          "name": "stdout",
          "text": [
            "\n",
            "Test set: Avg. loss: 2.3022, Accuracy: 1090/10000 (11%)\n",
            "\n",
            "Train Epoch: 1 [0/60000 (0%)]\tLoss: 2.303934\n",
            "Train Epoch: 1 [640/60000 (1%)]\tLoss: 2.300914\n",
            "Train Epoch: 1 [1280/60000 (2%)]\tLoss: 2.298610\n",
            "Train Epoch: 1 [1920/60000 (3%)]\tLoss: 2.296788\n",
            "Train Epoch: 1 [2560/60000 (4%)]\tLoss: 2.291762\n",
            "Train Epoch: 1 [3200/60000 (5%)]\tLoss: 2.289384\n",
            "Train Epoch: 1 [3840/60000 (6%)]\tLoss: 2.284298\n",
            "Train Epoch: 1 [4480/60000 (7%)]\tLoss: 2.276219\n",
            "Train Epoch: 1 [5120/60000 (9%)]\tLoss: 2.272397\n",
            "Train Epoch: 1 [5760/60000 (10%)]\tLoss: 2.266490\n",
            "Train Epoch: 1 [6400/60000 (11%)]\tLoss: 2.236381\n",
            "Train Epoch: 1 [7040/60000 (12%)]\tLoss: 2.205398\n",
            "Train Epoch: 1 [7680/60000 (13%)]\tLoss: 2.067671\n",
            "Train Epoch: 1 [8320/60000 (14%)]\tLoss: 1.804862\n",
            "Train Epoch: 1 [8960/60000 (15%)]\tLoss: 1.061278\n",
            "Train Epoch: 1 [9600/60000 (16%)]\tLoss: 0.925063\n",
            "Train Epoch: 1 [10240/60000 (17%)]\tLoss: 0.828784\n",
            "Train Epoch: 1 [10880/60000 (18%)]\tLoss: 0.822502\n",
            "Train Epoch: 1 [11520/60000 (19%)]\tLoss: 0.616835\n",
            "Train Epoch: 1 [12160/60000 (20%)]\tLoss: 0.342771\n",
            "Train Epoch: 1 [12800/60000 (21%)]\tLoss: 0.516727\n",
            "Train Epoch: 1 [13440/60000 (22%)]\tLoss: 0.403024\n",
            "Train Epoch: 1 [14080/60000 (23%)]\tLoss: 0.337771\n",
            "Train Epoch: 1 [14720/60000 (25%)]\tLoss: 0.556614\n",
            "Train Epoch: 1 [15360/60000 (26%)]\tLoss: 0.564726\n",
            "Train Epoch: 1 [16000/60000 (27%)]\tLoss: 0.241469\n",
            "Train Epoch: 1 [16640/60000 (28%)]\tLoss: 0.265981\n",
            "Train Epoch: 1 [17280/60000 (29%)]\tLoss: 0.323348\n",
            "Train Epoch: 1 [17920/60000 (30%)]\tLoss: 0.231525\n",
            "Train Epoch: 1 [18560/60000 (31%)]\tLoss: 0.366792\n",
            "Train Epoch: 1 [19200/60000 (32%)]\tLoss: 0.329431\n",
            "Train Epoch: 1 [19840/60000 (33%)]\tLoss: 0.332405\n",
            "Train Epoch: 1 [20480/60000 (34%)]\tLoss: 0.198026\n",
            "Train Epoch: 1 [21120/60000 (35%)]\tLoss: 0.251597\n",
            "Train Epoch: 1 [21760/60000 (36%)]\tLoss: 0.273394\n",
            "Train Epoch: 1 [22400/60000 (37%)]\tLoss: 0.257645\n",
            "Train Epoch: 1 [23040/60000 (38%)]\tLoss: 0.454542\n",
            "Train Epoch: 1 [23680/60000 (39%)]\tLoss: 0.175078\n",
            "Train Epoch: 1 [24320/60000 (41%)]\tLoss: 0.301094\n",
            "Train Epoch: 1 [24960/60000 (42%)]\tLoss: 0.197508\n",
            "Train Epoch: 1 [25600/60000 (43%)]\tLoss: 0.177531\n",
            "Train Epoch: 1 [26240/60000 (44%)]\tLoss: 0.322689\n",
            "Train Epoch: 1 [26880/60000 (45%)]\tLoss: 0.395373\n",
            "Train Epoch: 1 [27520/60000 (46%)]\tLoss: 0.193654\n",
            "Train Epoch: 1 [28160/60000 (47%)]\tLoss: 0.073566\n",
            "Train Epoch: 1 [28800/60000 (48%)]\tLoss: 0.080764\n",
            "Train Epoch: 1 [29440/60000 (49%)]\tLoss: 0.169445\n",
            "Train Epoch: 1 [30080/60000 (50%)]\tLoss: 0.243306\n",
            "Train Epoch: 1 [30720/60000 (51%)]\tLoss: 0.063805\n",
            "Train Epoch: 1 [31360/60000 (52%)]\tLoss: 0.287331\n",
            "Train Epoch: 1 [32000/60000 (53%)]\tLoss: 0.311528\n",
            "Train Epoch: 1 [32640/60000 (54%)]\tLoss: 0.227485\n",
            "Train Epoch: 1 [33280/60000 (55%)]\tLoss: 0.268198\n",
            "Train Epoch: 1 [33920/60000 (57%)]\tLoss: 0.154216\n",
            "Train Epoch: 1 [34560/60000 (58%)]\tLoss: 0.332811\n",
            "Train Epoch: 1 [35200/60000 (59%)]\tLoss: 0.274502\n",
            "Train Epoch: 1 [35840/60000 (60%)]\tLoss: 0.367237\n",
            "Train Epoch: 1 [36480/60000 (61%)]\tLoss: 0.197111\n",
            "Train Epoch: 1 [37120/60000 (62%)]\tLoss: 0.282388\n",
            "Train Epoch: 1 [37760/60000 (63%)]\tLoss: 0.103212\n",
            "Train Epoch: 1 [38400/60000 (64%)]\tLoss: 0.088213\n",
            "Train Epoch: 1 [39040/60000 (65%)]\tLoss: 0.085954\n",
            "Train Epoch: 1 [39680/60000 (66%)]\tLoss: 0.135419\n",
            "Train Epoch: 1 [40320/60000 (67%)]\tLoss: 0.171274\n",
            "Train Epoch: 1 [40960/60000 (68%)]\tLoss: 0.194741\n",
            "Train Epoch: 1 [41600/60000 (69%)]\tLoss: 0.335606\n",
            "Train Epoch: 1 [42240/60000 (70%)]\tLoss: 0.086583\n",
            "Train Epoch: 1 [42880/60000 (71%)]\tLoss: 0.181977\n",
            "Train Epoch: 1 [43520/60000 (72%)]\tLoss: 0.053216\n",
            "Train Epoch: 1 [44160/60000 (74%)]\tLoss: 0.219829\n",
            "Train Epoch: 1 [44800/60000 (75%)]\tLoss: 0.035751\n",
            "Train Epoch: 1 [45440/60000 (76%)]\tLoss: 0.182878\n",
            "Train Epoch: 1 [46080/60000 (77%)]\tLoss: 0.187063\n",
            "Train Epoch: 1 [46720/60000 (78%)]\tLoss: 0.215580\n",
            "Train Epoch: 1 [47360/60000 (79%)]\tLoss: 0.069995\n",
            "Train Epoch: 1 [48000/60000 (80%)]\tLoss: 0.118417\n",
            "Train Epoch: 1 [48640/60000 (81%)]\tLoss: 0.064371\n",
            "Train Epoch: 1 [49280/60000 (82%)]\tLoss: 0.127094\n",
            "Train Epoch: 1 [49920/60000 (83%)]\tLoss: 0.145982\n",
            "Train Epoch: 1 [50560/60000 (84%)]\tLoss: 0.096102\n",
            "Train Epoch: 1 [51200/60000 (85%)]\tLoss: 0.057831\n",
            "Train Epoch: 1 [51840/60000 (86%)]\tLoss: 0.081645\n",
            "Train Epoch: 1 [52480/60000 (87%)]\tLoss: 0.119556\n",
            "Train Epoch: 1 [53120/60000 (88%)]\tLoss: 0.040498\n",
            "Train Epoch: 1 [53760/60000 (90%)]\tLoss: 0.090277\n",
            "Train Epoch: 1 [54400/60000 (91%)]\tLoss: 0.066658\n",
            "Train Epoch: 1 [55040/60000 (92%)]\tLoss: 0.135658\n",
            "Train Epoch: 1 [55680/60000 (93%)]\tLoss: 0.127634\n",
            "Train Epoch: 1 [56320/60000 (94%)]\tLoss: 0.085835\n",
            "Train Epoch: 1 [56960/60000 (95%)]\tLoss: 0.059171\n",
            "Train Epoch: 1 [57600/60000 (96%)]\tLoss: 0.190425\n",
            "Train Epoch: 1 [58240/60000 (97%)]\tLoss: 0.089566\n",
            "Train Epoch: 1 [58880/60000 (98%)]\tLoss: 0.033777\n",
            "Train Epoch: 1 [59520/60000 (99%)]\tLoss: 0.124064\n",
            "\n",
            "Test set: Avg. loss: 0.0829, Accuracy: 9732/10000 (97%)\n",
            "\n",
            "Train Epoch: 2 [0/60000 (0%)]\tLoss: 0.156501\n",
            "Train Epoch: 2 [640/60000 (1%)]\tLoss: 0.235866\n",
            "Train Epoch: 2 [1280/60000 (2%)]\tLoss: 0.201055\n",
            "Train Epoch: 2 [1920/60000 (3%)]\tLoss: 0.148672\n",
            "Train Epoch: 2 [2560/60000 (4%)]\tLoss: 0.095481\n",
            "Train Epoch: 2 [3200/60000 (5%)]\tLoss: 0.119141\n",
            "Train Epoch: 2 [3840/60000 (6%)]\tLoss: 0.120136\n",
            "Train Epoch: 2 [4480/60000 (7%)]\tLoss: 0.113987\n",
            "Train Epoch: 2 [5120/60000 (9%)]\tLoss: 0.053408\n",
            "Train Epoch: 2 [5760/60000 (10%)]\tLoss: 0.080282\n",
            "Train Epoch: 2 [6400/60000 (11%)]\tLoss: 0.072094\n",
            "Train Epoch: 2 [7040/60000 (12%)]\tLoss: 0.046260\n",
            "Train Epoch: 2 [7680/60000 (13%)]\tLoss: 0.055449\n",
            "Train Epoch: 2 [8320/60000 (14%)]\tLoss: 0.040512\n",
            "Train Epoch: 2 [8960/60000 (15%)]\tLoss: 0.069869\n",
            "Train Epoch: 2 [9600/60000 (16%)]\tLoss: 0.059858\n",
            "Train Epoch: 2 [10240/60000 (17%)]\tLoss: 0.078114\n",
            "Train Epoch: 2 [10880/60000 (18%)]\tLoss: 0.078593\n",
            "Train Epoch: 2 [11520/60000 (19%)]\tLoss: 0.049782\n",
            "Train Epoch: 2 [12160/60000 (20%)]\tLoss: 0.060845\n",
            "Train Epoch: 2 [12800/60000 (21%)]\tLoss: 0.089975\n",
            "Train Epoch: 2 [13440/60000 (22%)]\tLoss: 0.130528\n",
            "Train Epoch: 2 [14080/60000 (23%)]\tLoss: 0.092679\n",
            "Train Epoch: 2 [14720/60000 (25%)]\tLoss: 0.164548\n",
            "Train Epoch: 2 [15360/60000 (26%)]\tLoss: 0.068432\n",
            "Train Epoch: 2 [16000/60000 (27%)]\tLoss: 0.084231\n",
            "Train Epoch: 2 [16640/60000 (28%)]\tLoss: 0.007200\n",
            "Train Epoch: 2 [17280/60000 (29%)]\tLoss: 0.094570\n",
            "Train Epoch: 2 [17920/60000 (30%)]\tLoss: 0.180875\n",
            "Train Epoch: 2 [18560/60000 (31%)]\tLoss: 0.075637\n",
            "Train Epoch: 2 [19200/60000 (32%)]\tLoss: 0.067525\n",
            "Train Epoch: 2 [19840/60000 (33%)]\tLoss: 0.041243\n",
            "Train Epoch: 2 [20480/60000 (34%)]\tLoss: 0.268274\n",
            "Train Epoch: 2 [21120/60000 (35%)]\tLoss: 0.041311\n",
            "Train Epoch: 2 [21760/60000 (36%)]\tLoss: 0.027074\n",
            "Train Epoch: 2 [22400/60000 (37%)]\tLoss: 0.057247\n",
            "Train Epoch: 2 [23040/60000 (38%)]\tLoss: 0.048127\n",
            "Train Epoch: 2 [23680/60000 (39%)]\tLoss: 0.159558\n",
            "Train Epoch: 2 [24320/60000 (41%)]\tLoss: 0.102103\n",
            "Train Epoch: 2 [24960/60000 (42%)]\tLoss: 0.049552\n",
            "Train Epoch: 2 [25600/60000 (43%)]\tLoss: 0.045028\n",
            "Train Epoch: 2 [26240/60000 (44%)]\tLoss: 0.168096\n",
            "Train Epoch: 2 [26880/60000 (45%)]\tLoss: 0.134155\n",
            "Train Epoch: 2 [27520/60000 (46%)]\tLoss: 0.139307\n",
            "Train Epoch: 2 [28160/60000 (47%)]\tLoss: 0.143357\n",
            "Train Epoch: 2 [28800/60000 (48%)]\tLoss: 0.101576\n",
            "Train Epoch: 2 [29440/60000 (49%)]\tLoss: 0.049652\n",
            "Train Epoch: 2 [30080/60000 (50%)]\tLoss: 0.091364\n",
            "Train Epoch: 2 [30720/60000 (51%)]\tLoss: 0.033167\n",
            "Train Epoch: 2 [31360/60000 (52%)]\tLoss: 0.102985\n",
            "Train Epoch: 2 [32000/60000 (53%)]\tLoss: 0.040689\n",
            "Train Epoch: 2 [32640/60000 (54%)]\tLoss: 0.083737\n",
            "Train Epoch: 2 [33280/60000 (55%)]\tLoss: 0.062516\n",
            "Train Epoch: 2 [33920/60000 (57%)]\tLoss: 0.101032\n",
            "Train Epoch: 2 [34560/60000 (58%)]\tLoss: 0.072376\n",
            "Train Epoch: 2 [35200/60000 (59%)]\tLoss: 0.032779\n",
            "Train Epoch: 2 [35840/60000 (60%)]\tLoss: 0.108714\n",
            "Train Epoch: 2 [36480/60000 (61%)]\tLoss: 0.204708\n",
            "Train Epoch: 2 [37120/60000 (62%)]\tLoss: 0.034313\n",
            "Train Epoch: 2 [37760/60000 (63%)]\tLoss: 0.035780\n",
            "Train Epoch: 2 [38400/60000 (64%)]\tLoss: 0.013544\n",
            "Train Epoch: 2 [39040/60000 (65%)]\tLoss: 0.113471\n",
            "Train Epoch: 2 [39680/60000 (66%)]\tLoss: 0.055942\n",
            "Train Epoch: 2 [40320/60000 (67%)]\tLoss: 0.059828\n",
            "Train Epoch: 2 [40960/60000 (68%)]\tLoss: 0.068363\n",
            "Train Epoch: 2 [41600/60000 (69%)]\tLoss: 0.126197\n",
            "Train Epoch: 2 [42240/60000 (70%)]\tLoss: 0.008807\n",
            "Train Epoch: 2 [42880/60000 (71%)]\tLoss: 0.112359\n",
            "Train Epoch: 2 [43520/60000 (72%)]\tLoss: 0.012825\n",
            "Train Epoch: 2 [44160/60000 (74%)]\tLoss: 0.095930\n",
            "Train Epoch: 2 [44800/60000 (75%)]\tLoss: 0.089289\n",
            "Train Epoch: 2 [45440/60000 (76%)]\tLoss: 0.044871\n",
            "Train Epoch: 2 [46080/60000 (77%)]\tLoss: 0.077623\n",
            "Train Epoch: 2 [46720/60000 (78%)]\tLoss: 0.007018\n",
            "Train Epoch: 2 [47360/60000 (79%)]\tLoss: 0.090451\n",
            "Train Epoch: 2 [48000/60000 (80%)]\tLoss: 0.131076\n",
            "Train Epoch: 2 [48640/60000 (81%)]\tLoss: 0.014159\n",
            "Train Epoch: 2 [49280/60000 (82%)]\tLoss: 0.150259\n",
            "Train Epoch: 2 [49920/60000 (83%)]\tLoss: 0.043369\n",
            "Train Epoch: 2 [50560/60000 (84%)]\tLoss: 0.119928\n",
            "Train Epoch: 2 [51200/60000 (85%)]\tLoss: 0.034525\n",
            "Train Epoch: 2 [51840/60000 (86%)]\tLoss: 0.085939\n",
            "Train Epoch: 2 [52480/60000 (87%)]\tLoss: 0.097790\n",
            "Train Epoch: 2 [53120/60000 (88%)]\tLoss: 0.080986\n",
            "Train Epoch: 2 [53760/60000 (90%)]\tLoss: 0.020296\n",
            "Train Epoch: 2 [54400/60000 (91%)]\tLoss: 0.065601\n",
            "Train Epoch: 2 [55040/60000 (92%)]\tLoss: 0.004939\n",
            "Train Epoch: 2 [55680/60000 (93%)]\tLoss: 0.050725\n",
            "Train Epoch: 2 [56320/60000 (94%)]\tLoss: 0.015726\n",
            "Train Epoch: 2 [56960/60000 (95%)]\tLoss: 0.065356\n",
            "Train Epoch: 2 [57600/60000 (96%)]\tLoss: 0.063975\n",
            "Train Epoch: 2 [58240/60000 (97%)]\tLoss: 0.110467\n",
            "Train Epoch: 2 [58880/60000 (98%)]\tLoss: 0.041465\n",
            "Train Epoch: 2 [59520/60000 (99%)]\tLoss: 0.165802\n",
            "\n",
            "Test set: Avg. loss: 0.0627, Accuracy: 9805/10000 (98%)\n",
            "\n",
            "Train Epoch: 3 [0/60000 (0%)]\tLoss: 0.018307\n",
            "Train Epoch: 3 [640/60000 (1%)]\tLoss: 0.015867\n",
            "Train Epoch: 3 [1280/60000 (2%)]\tLoss: 0.017583\n",
            "Train Epoch: 3 [1920/60000 (3%)]\tLoss: 0.023884\n",
            "Train Epoch: 3 [2560/60000 (4%)]\tLoss: 0.028948\n",
            "Train Epoch: 3 [3200/60000 (5%)]\tLoss: 0.087257\n",
            "Train Epoch: 3 [3840/60000 (6%)]\tLoss: 0.049317\n",
            "Train Epoch: 3 [4480/60000 (7%)]\tLoss: 0.132559\n",
            "Train Epoch: 3 [5120/60000 (9%)]\tLoss: 0.020770\n",
            "Train Epoch: 3 [5760/60000 (10%)]\tLoss: 0.047705\n",
            "Train Epoch: 3 [6400/60000 (11%)]\tLoss: 0.025827\n",
            "Train Epoch: 3 [7040/60000 (12%)]\tLoss: 0.007263\n",
            "Train Epoch: 3 [7680/60000 (13%)]\tLoss: 0.036453\n",
            "Train Epoch: 3 [8320/60000 (14%)]\tLoss: 0.074026\n",
            "Train Epoch: 3 [8960/60000 (15%)]\tLoss: 0.074713\n",
            "Train Epoch: 3 [9600/60000 (16%)]\tLoss: 0.062392\n",
            "Train Epoch: 3 [10240/60000 (17%)]\tLoss: 0.062805\n",
            "Train Epoch: 3 [10880/60000 (18%)]\tLoss: 0.075246\n",
            "Train Epoch: 3 [11520/60000 (19%)]\tLoss: 0.029645\n",
            "Train Epoch: 3 [12160/60000 (20%)]\tLoss: 0.038381\n",
            "Train Epoch: 3 [12800/60000 (21%)]\tLoss: 0.114319\n",
            "Train Epoch: 3 [13440/60000 (22%)]\tLoss: 0.088248\n",
            "Train Epoch: 3 [14080/60000 (23%)]\tLoss: 0.049354\n",
            "Train Epoch: 3 [14720/60000 (25%)]\tLoss: 0.048064\n",
            "Train Epoch: 3 [15360/60000 (26%)]\tLoss: 0.005727\n",
            "Train Epoch: 3 [16000/60000 (27%)]\tLoss: 0.073963\n",
            "Train Epoch: 3 [16640/60000 (28%)]\tLoss: 0.025122\n",
            "Train Epoch: 3 [17280/60000 (29%)]\tLoss: 0.017295\n",
            "Train Epoch: 3 [17920/60000 (30%)]\tLoss: 0.027386\n",
            "Train Epoch: 3 [18560/60000 (31%)]\tLoss: 0.014433\n",
            "Train Epoch: 3 [19200/60000 (32%)]\tLoss: 0.102474\n",
            "Train Epoch: 3 [19840/60000 (33%)]\tLoss: 0.066685\n",
            "Train Epoch: 3 [20480/60000 (34%)]\tLoss: 0.103145\n",
            "Train Epoch: 3 [21120/60000 (35%)]\tLoss: 0.022443\n",
            "Train Epoch: 3 [21760/60000 (36%)]\tLoss: 0.015089\n",
            "Train Epoch: 3 [22400/60000 (37%)]\tLoss: 0.137704\n",
            "Train Epoch: 3 [23040/60000 (38%)]\tLoss: 0.028895\n",
            "Train Epoch: 3 [23680/60000 (39%)]\tLoss: 0.120792\n",
            "Train Epoch: 3 [24320/60000 (41%)]\tLoss: 0.011516\n",
            "Train Epoch: 3 [24960/60000 (42%)]\tLoss: 0.062130\n",
            "Train Epoch: 3 [25600/60000 (43%)]\tLoss: 0.012149\n",
            "Train Epoch: 3 [26240/60000 (44%)]\tLoss: 0.023826\n",
            "Train Epoch: 3 [26880/60000 (45%)]\tLoss: 0.007261\n",
            "Train Epoch: 3 [27520/60000 (46%)]\tLoss: 0.023763\n",
            "Train Epoch: 3 [28160/60000 (47%)]\tLoss: 0.002525\n",
            "Train Epoch: 3 [28800/60000 (48%)]\tLoss: 0.085514\n",
            "Train Epoch: 3 [29440/60000 (49%)]\tLoss: 0.051252\n",
            "Train Epoch: 3 [30080/60000 (50%)]\tLoss: 0.167237\n",
            "Train Epoch: 3 [30720/60000 (51%)]\tLoss: 0.137552\n",
            "Train Epoch: 3 [31360/60000 (52%)]\tLoss: 0.103306\n",
            "Train Epoch: 3 [32000/60000 (53%)]\tLoss: 0.020019\n",
            "Train Epoch: 3 [32640/60000 (54%)]\tLoss: 0.021814\n",
            "Train Epoch: 3 [33280/60000 (55%)]\tLoss: 0.031230\n",
            "Train Epoch: 3 [33920/60000 (57%)]\tLoss: 0.024143\n",
            "Train Epoch: 3 [34560/60000 (58%)]\tLoss: 0.212251\n",
            "Train Epoch: 3 [35200/60000 (59%)]\tLoss: 0.072110\n",
            "Train Epoch: 3 [35840/60000 (60%)]\tLoss: 0.016472\n",
            "Train Epoch: 3 [36480/60000 (61%)]\tLoss: 0.060420\n",
            "Train Epoch: 3 [37120/60000 (62%)]\tLoss: 0.083760\n",
            "Train Epoch: 3 [37760/60000 (63%)]\tLoss: 0.028262\n",
            "Train Epoch: 3 [38400/60000 (64%)]\tLoss: 0.006678\n",
            "Train Epoch: 3 [39040/60000 (65%)]\tLoss: 0.011537\n",
            "Train Epoch: 3 [39680/60000 (66%)]\tLoss: 0.043241\n",
            "Train Epoch: 3 [40320/60000 (67%)]\tLoss: 0.005935\n",
            "Train Epoch: 3 [40960/60000 (68%)]\tLoss: 0.091525\n",
            "Train Epoch: 3 [41600/60000 (69%)]\tLoss: 0.017701\n",
            "Train Epoch: 3 [42240/60000 (70%)]\tLoss: 0.021431\n",
            "Train Epoch: 3 [42880/60000 (71%)]\tLoss: 0.127847\n",
            "Train Epoch: 3 [43520/60000 (72%)]\tLoss: 0.004546\n",
            "Train Epoch: 3 [44160/60000 (74%)]\tLoss: 0.006561\n",
            "Train Epoch: 3 [44800/60000 (75%)]\tLoss: 0.120740\n",
            "Train Epoch: 3 [45440/60000 (76%)]\tLoss: 0.021318\n",
            "Train Epoch: 3 [46080/60000 (77%)]\tLoss: 0.020241\n",
            "Train Epoch: 3 [46720/60000 (78%)]\tLoss: 0.024181\n",
            "Train Epoch: 3 [47360/60000 (79%)]\tLoss: 0.041165\n",
            "Train Epoch: 3 [48000/60000 (80%)]\tLoss: 0.005075\n",
            "Train Epoch: 3 [48640/60000 (81%)]\tLoss: 0.103811\n",
            "Train Epoch: 3 [49280/60000 (82%)]\tLoss: 0.016644\n",
            "Train Epoch: 3 [49920/60000 (83%)]\tLoss: 0.008015\n",
            "Train Epoch: 3 [50560/60000 (84%)]\tLoss: 0.095480\n",
            "Train Epoch: 3 [51200/60000 (85%)]\tLoss: 0.083567\n",
            "Train Epoch: 3 [51840/60000 (86%)]\tLoss: 0.067729\n",
            "Train Epoch: 3 [52480/60000 (87%)]\tLoss: 0.037276\n",
            "Train Epoch: 3 [53120/60000 (88%)]\tLoss: 0.009540\n",
            "Train Epoch: 3 [53760/60000 (90%)]\tLoss: 0.054243\n",
            "Train Epoch: 3 [54400/60000 (91%)]\tLoss: 0.014982\n",
            "Train Epoch: 3 [55040/60000 (92%)]\tLoss: 0.018238\n",
            "Train Epoch: 3 [55680/60000 (93%)]\tLoss: 0.026199\n",
            "Train Epoch: 3 [56320/60000 (94%)]\tLoss: 0.082715\n",
            "Train Epoch: 3 [56960/60000 (95%)]\tLoss: 0.043855\n",
            "Train Epoch: 3 [57600/60000 (96%)]\tLoss: 0.051907\n",
            "Train Epoch: 3 [58240/60000 (97%)]\tLoss: 0.068854\n",
            "Train Epoch: 3 [58880/60000 (98%)]\tLoss: 0.065899\n",
            "Train Epoch: 3 [59520/60000 (99%)]\tLoss: 0.076337\n",
            "\n",
            "Test set: Avg. loss: 0.0459, Accuracy: 9847/10000 (98%)\n",
            "\n"
          ]
        }
      ],
      "source": [
        "test()\n",
        "for epoch in range(1, n_epochs + 1):\n",
        "  train(epoch)\n",
        "  test()"
      ]
    },
    {
      "cell_type": "code",
      "execution_count": 18,
      "metadata": {
        "colab": {
          "base_uri": "https://localhost:8080/",
          "height": 541
        },
        "id": "n_kVGqGtKpFv",
        "outputId": "50f653b1-66e6-47b6-f8c3-97e58fa3f98c"
      },
      "outputs": [
        {
          "output_type": "execute_result",
          "data": {
            "text/plain": [
              "<Figure size 432x288 with 1 Axes>"
            ],
            "image/png": "[encoded data removed]"
          },
          "metadata": {},
          "execution_count": 18
        },
        {
          "output_type": "display_data",
          "data": {
            "text/plain": [
              "<Figure size 432x288 with 1 Axes>"
            ],
            "image/png": "[encoded data removed]"
          },
          "metadata": {
            "needs_background": "light"
          }
        }
      ],
      "source": [
        "fig = plt.figure()\n",
        "plt.plot(train_counter, train_losses, color='blue')\n",
        "plt.scatter(test_counter, test_losses, color='red')\n",
        "plt.legend(['Train Loss', 'Test Loss'], loc='upper right')\n",
        "plt.xlabel('number of training examples seen')\n",
        "plt.ylabel('negative log likelihood loss')\n",
        "fig"
      ]
    },
    {
      "cell_type": "code",
      "source": [],
      "metadata": {
        "id": "h851ybdi7u33"
      },
      "execution_count": null,
      "outputs": []
    },
    {
      "cell_type": "markdown",
      "source": [
        "### Linear addition through a vanilla neural network"
      ],
      "metadata": {
        "id": "APe0sz_9NWWy"
      }
    },
    {
      "cell_type": "code",
      "source": [
        "train_loader = torch.utils.data.DataLoader(\n",
        "  torchvision.datasets.MNIST('/files/', train=True, download=True,\n",
        "                             transform=torchvision.transforms.Compose([\n",
        "                               torchvision.transforms.ToTensor(),\n",
        "                               torchvision.transforms.Normalize(\n",
        "                                 (0.1307,), (0.3081,))\n",
        "                             ])),\n",
        "  batch_size=batch_size_train, shuffle=True)\n",
        "\n",
        "test_loader = torch.utils.data.DataLoader(\n",
        "  torchvision.datasets.MNIST('/files/', train=False, download=True,\n",
        "                             transform=torchvision.transforms.Compose([\n",
        "                               torchvision.transforms.ToTensor(),\n",
        "                               torchvision.transforms.Normalize(\n",
        "                                 (0.1307,), (0.3081,))\n",
        "                             ])),\n",
        "  batch_size=batch_size_test, shuffle=True)"
      ],
      "metadata": {
        "id": "m81jUpdIOiPB"
      },
      "execution_count": null,
      "outputs": []
    },
    {
      "cell_type": "code",
      "source": [],
      "metadata": {
        "id": "zXUo6eC9OiTw"
      },
      "execution_count": null,
      "outputs": []
    },
    {
      "cell_type": "code",
      "source": [
        "class Net(nn.Module):\n",
        "    def __init__(self):\n",
        "        super(Net, self).__init__()\n",
        "        # Add layers here\n",
        "        self.fc1 = nn.Linear(2, 1)  # 2 input units, 1 output unit\n",
        "\n",
        "    def forward(self, x):\n",
        "        # Define the forward pass here\n",
        "        x = self.fc1(x)\n",
        "        return x\n",
        "net = Net()"
      ],
      "metadata": {
        "colab": {
          "base_uri": "https://localhost:8080/",
          "height": 235
        },
        "id": "CX8zznlpNY5Y",
        "outputId": "2d4c8e46-e49d-4847-90b7-398a81e1a3bb"
      },
      "execution_count": 2,
      "outputs": [
        {
          "output_type": "error",
          "ename": "NameError",
          "evalue": "ignored",
          "traceback": [
            "\u001b[0;31m---------------------------------------------------------------------------\u001b[0m",
            "\u001b[0;31mNameError\u001b[0m                                 Traceback (most recent call last)",
            "\u001b[0;32m<ipython-input-2-b2f3166e311f>\u001b[0m in \u001b[0;36m<module>\u001b[0;34m\u001b[0m\n\u001b[0;32m----> 1\u001b[0;31m \u001b[0;32mclass\u001b[0m \u001b[0mNet\u001b[0m\u001b[0;34m(\u001b[0m\u001b[0mnn\u001b[0m\u001b[0;34m.\u001b[0m\u001b[0mModule\u001b[0m\u001b[0;34m)\u001b[0m\u001b[0;34m:\u001b[0m\u001b[0;34m\u001b[0m\u001b[0;34m\u001b[0m\u001b[0m\n\u001b[0m\u001b[1;32m      2\u001b[0m     \u001b[0;32mdef\u001b[0m \u001b[0m__init__\u001b[0m\u001b[0;34m(\u001b[0m\u001b[0mself\u001b[0m\u001b[0;34m)\u001b[0m\u001b[0;34m:\u001b[0m\u001b[0;34m\u001b[0m\u001b[0;34m\u001b[0m\u001b[0m\n\u001b[1;32m      3\u001b[0m         \u001b[0msuper\u001b[0m\u001b[0;34m(\u001b[0m\u001b[0mNet\u001b[0m\u001b[0;34m,\u001b[0m \u001b[0mself\u001b[0m\u001b[0;34m)\u001b[0m\u001b[0;34m.\u001b[0m\u001b[0m__init__\u001b[0m\u001b[0;34m(\u001b[0m\u001b[0;34m)\u001b[0m\u001b[0;34m\u001b[0m\u001b[0;34m\u001b[0m\u001b[0m\n\u001b[1;32m      4\u001b[0m         \u001b[0;31m# Add layers here\u001b[0m\u001b[0;34m\u001b[0m\u001b[0;34m\u001b[0m\u001b[0;34m\u001b[0m\u001b[0m\n\u001b[1;32m      5\u001b[0m         \u001b[0mself\u001b[0m\u001b[0;34m.\u001b[0m\u001b[0mfc1\u001b[0m \u001b[0;34m=\u001b[0m \u001b[0mnn\u001b[0m\u001b[0;34m.\u001b[0m\u001b[0mLinear\u001b[0m\u001b[0;34m(\u001b[0m\u001b[0;36m2\u001b[0m\u001b[0;34m,\u001b[0m \u001b[0;36m1\u001b[0m\u001b[0;34m)\u001b[0m  \u001b[0;31m# 2 input units, 1 output unit\u001b[0m\u001b[0;34m\u001b[0m\u001b[0;34m\u001b[0m\u001b[0m\n",
            "\u001b[0;31mNameError\u001b[0m: name 'nn' is not defined"
          ]
        }
      ]
    },
    {
      "cell_type": "code",
      "source": [
        "criterion = nn.MSELoss()\n",
        "optimizer = optim.SGD(net.parameters(), lr=0.01)\n"
      ],
      "metadata": {
        "colab": {
          "base_uri": "https://localhost:8080/",
          "height": 183
        },
        "id": "fm9lTiYuNavQ",
        "outputId": "ebfa8b59-573c-4032-9f47-d3a30ad6363a"
      },
      "execution_count": 3,
      "outputs": [
        {
          "output_type": "error",
          "ename": "NameError",
          "evalue": "ignored",
          "traceback": [
            "\u001b[0;31m---------------------------------------------------------------------------\u001b[0m",
            "\u001b[0;31mNameError\u001b[0m                                 Traceback (most recent call last)",
            "\u001b[0;32m<ipython-input-3-108eebf83869>\u001b[0m in \u001b[0;36m<module>\u001b[0;34m\u001b[0m\n\u001b[0;32m----> 1\u001b[0;31m \u001b[0mcriterion\u001b[0m \u001b[0;34m=\u001b[0m \u001b[0mnn\u001b[0m\u001b[0;34m.\u001b[0m\u001b[0mMSELoss\u001b[0m\u001b[0;34m(\u001b[0m\u001b[0;34m)\u001b[0m\u001b[0;34m\u001b[0m\u001b[0;34m\u001b[0m\u001b[0m\n\u001b[0m\u001b[1;32m      2\u001b[0m \u001b[0moptimizer\u001b[0m \u001b[0;34m=\u001b[0m \u001b[0moptim\u001b[0m\u001b[0;34m.\u001b[0m\u001b[0mSGD\u001b[0m\u001b[0;34m(\u001b[0m\u001b[0mnet\u001b[0m\u001b[0;34m.\u001b[0m\u001b[0mparameters\u001b[0m\u001b[0;34m(\u001b[0m\u001b[0;34m)\u001b[0m\u001b[0;34m,\u001b[0m \u001b[0mlr\u001b[0m\u001b[0;34m=\u001b[0m\u001b[0;36m0.01\u001b[0m\u001b[0;34m)\u001b[0m\u001b[0;34m\u001b[0m\u001b[0;34m\u001b[0m\u001b[0m\n",
            "\u001b[0;31mNameError\u001b[0m: name 'nn' is not defined"
          ]
        }
      ]
    },
    {
      "cell_type": "code",
      "source": [
        "# Convert data to tensors\n",
        "X = torch.Tensor([[2, 3], [3, 4], [4, 5], [5, 6], [6, 7], [7, 8]])\n",
        "y = torch.Tensor([[5], [7], [9], [11], [13], [15]])\n",
        "\n",
        "# Train the model\n",
        "for epoch in range(10):\n",
        "    # Zero the gradients\n",
        "    optimizer.zero_grad()\n",
        "\n",
        "    # Forward pass\n",
        "    outputs = net(X)\n",
        "    loss = criterion(outputs, y)\n",
        "\n",
        "    # Backward pass and optimization\n",
        "    loss.backward()\n",
        "    optimizer.step()\n"
      ],
      "metadata": {
        "id": "TGkzy0Y5Ndqa"
      },
      "execution_count": null,
      "outputs": []
    },
    {
      "cell_type": "code",
      "source": [
        "input_set = [8,9]\n",
        "x_test = torch.Tensor([input_set])\n",
        "y_pred = net(x_test)\n",
        "print(y_pred)  \n",
        "print(sum(input_set))"
      ],
      "metadata": {
        "id": "MTIC3gtqNdtE"
      },
      "execution_count": null,
      "outputs": []
    },
    {
      "cell_type": "code",
      "source": [
        "input_set = [18,91]\n",
        "x_test = torch.Tensor([input_set])\n",
        "y_pred = net(x_test)\n",
        "print(y_pred)  \n",
        "print(sum(input_set))"
      ],
      "metadata": {
        "id": "gmB9gmUmNdvm"
      },
      "execution_count": null,
      "outputs": []
    },
    {
      "cell_type": "code",
      "source": [],
      "metadata": {
        "id": "2G7P6cCrNd0V"
      },
      "execution_count": null,
      "outputs": []
    },
    {
      "cell_type": "markdown",
      "source": [
        "### 3. combining the MNIST prediction with sum prediction"
      ],
      "metadata": {
        "id": "MzTdprFfNlVn"
      }
    },
    {
      "cell_type": "code",
      "source": [],
      "metadata": {
        "id": "qz-DxpzONd40"
      },
      "execution_count": null,
      "outputs": []
    },
    {
      "cell_type": "code",
      "source": [],
      "metadata": {
        "id": "v63iM1qfNq1D"
      },
      "execution_count": null,
      "outputs": []
    },
    {
      "cell_type": "code",
      "source": [],
      "metadata": {
        "id": "NMxV-UN_Nq6D"
      },
      "execution_count": null,
      "outputs": []
    },
    {
      "cell_type": "code",
      "source": [
        "class MNISTModel(nn.Module):\n",
        "    def __init__(self):\n",
        "        super().__init__()\n",
        "        self.conv1 = nn.Conv2d(1, 16, kernel_size=3, stride=1, padding=1)\n",
        "        self.conv2 = nn.Conv2d(16, 32, kernel_size=3, stride=1, padding=1)\n",
        "        self.conv3 = nn.Conv2d(32, 64, kernel_size=3, stride=1, padding=1)\n",
        "        self.fc1 = nn.Linear(3 * 3 * 64, 128)\n",
        "        self.fc2 = nn.Linear(128, 10)\n",
        "        self.fc3 = nn.Linear(128, 1)\n",
        "\n",
        "    def forward(self, x, y):\n",
        "        x = x.view(-1, 1, 28, 28)\n",
        "        x = self.conv1(x)\n",
        "        x = torch.relu(x)\n",
        "        x = self.conv2(x)\n",
        "        x = torch.relu(x)\n",
        "        x = self.conv3(x)\n",
        "        x = torch.relu(x)\n",
        "        x = x.view(-1, 3 * 3 * 64)\n",
        "        x = self.fc1(x)\n",
        "        x = torch.relu(x)\n",
        "        digit_prediction = self.fc2(x)\n",
        "        sum_prediction = self.fc3(x) + y\n",
        "        return digit_prediction, sum_prediction\n"
      ],
      "metadata": {
        "id": "kD870l59Nq8_"
      },
      "execution_count": null,
      "outputs": []
    },
    {
      "cell_type": "code",
      "source": [
        "model = MNISTModel()\n",
        "x = torch.randn(64, 28, 28)  # batch of MNIST images\n",
        "y = torch.randn(64, 1)  # batch of random numbers\n",
        "digit_prediction, sum_prediction = model(x, y)\n"
      ],
      "metadata": {
        "id": "mTFs6vD3Nq_s"
      },
      "execution_count": null,
      "outputs": []
    }
  ],
  "metadata": {
    "accelerator": "GPU",
    "colab": {
      "provenance": [],
      "authorship_tag": "ABX9TyNrvkMMKwJ9ZV1ltrdJ+8ih",
      "include_colab_link": true
    },
    "gpuClass": "standard",
    "kernelspec": {
      "display_name": "Python 3",
      "name": "python3"
    },
    "language_info": {
      "name": "python"
    },
    "widgets": {
      "application/vnd.jupyter.widget-state+json": {
        "024ba9105f3b42499c59478acaff87b5": {
          "model_module": "@jupyter-widgets/controls",
          "model_name": "HBoxModel",
          "model_module_version": "1.5.0",
          "state": {
            "_dom_classes": [],
            "_model_module": "@jupyter-widgets/controls",
            "_model_module_version": "1.5.0",
            "_model_name": "HBoxModel",
            "_view_count": null,
            "_view_module": "@jupyter-widgets/controls",
            "_view_module_version": "1.5.0",
            "_view_name": "HBoxView",
            "box_style": "",
            "children": [
              "IPY_MODEL_93867212439046f6a5b792cb81299cc5",
              "IPY_MODEL_128003380ce44d5eafbaff2d692aa40c",
              "IPY_MODEL_317289b8f0e94109b7af9debd8d25a89"
            ],
            "layout": "IPY_MODEL_963f3b5d2ccb4358aef55a80661d3fb3"
          }
        },
        "93867212439046f6a5b792cb81299cc5": {
          "model_module": "@jupyter-widgets/controls",
          "model_name": "HTMLModel",
          "model_module_version": "1.5.0",
          "state": {
            "_dom_classes": [],
            "_model_module": "@jupyter-widgets/controls",
            "_model_module_version": "1.5.0",
            "_model_name": "HTMLModel",
            "_view_count": null,
            "_view_module": "@jupyter-widgets/controls",
            "_view_module_version": "1.5.0",
            "_view_name": "HTMLView",
            "description": "",
            "description_tooltip": null,
            "layout": "IPY_MODEL_22bde46c33ac47bda553b5ed2b5d3e84",
            "placeholder": "​",
            "style": "IPY_MODEL_e3f3e5ace4104c6ab68cdcac25705400",
            "value": "100%"
          }
        },
        "128003380ce44d5eafbaff2d692aa40c": {
          "model_module": "@jupyter-widgets/controls",
          "model_name": "FloatProgressModel",
          "model_module_version": "1.5.0",
          "state": {
            "_dom_classes": [],
            "_model_module": "@jupyter-widgets/controls",
            "_model_module_version": "1.5.0",
            "_model_name": "FloatProgressModel",
            "_view_count": null,
            "_view_module": "@jupyter-widgets/controls",
            "_view_module_version": "1.5.0",
            "_view_name": "ProgressView",
            "bar_style": "success",
            "description": "",
            "description_tooltip": null,
            "layout": "IPY_MODEL_7bd4ce8464474680bafaadab1b8e5fe1",
            "max": 9912422,
            "min": 0,
            "orientation": "horizontal",
            "style": "IPY_MODEL_d645e4e07cd14516b27662c789168526",
            "value": 9912422
          }
        },
        "317289b8f0e94109b7af9debd8d25a89": {
          "model_module": "@jupyter-widgets/controls",
          "model_name": "HTMLModel",
          "model_module_version": "1.5.0",
          "state": {
            "_dom_classes": [],
            "_model_module": "@jupyter-widgets/controls",
            "_model_module_version": "1.5.0",
            "_model_name": "HTMLModel",
            "_view_count": null,
            "_view_module": "@jupyter-widgets/controls",
            "_view_module_version": "1.5.0",
            "_view_name": "HTMLView",
            "description": "",
            "description_tooltip": null,
            "layout": "IPY_MODEL_89b9af497c7f4a55b46d18b805c8a0af",
            "placeholder": "​",
            "style": "IPY_MODEL_ed23c77ed8834712b0a94b322e63e3dc",
            "value": " 9912422/9912422 [00:00&lt;00:00, 66171083.07it/s]"
          }
        },
        "963f3b5d2ccb4358aef55a80661d3fb3": {
          "model_module": "@jupyter-widgets/base",
          "model_name": "LayoutModel",
          "model_module_version": "1.2.0",
          "state": {
            "_model_module": "@jupyter-widgets/base",
            "_model_module_version": "1.2.0",
            "_model_name": "LayoutModel",
            "_view_count": null,
            "_view_module": "@jupyter-widgets/base",
            "_view_module_version": "1.2.0",
            "_view_name": "LayoutView",
            "align_content": null,
            "align_items": null,
            "align_self": null,
            "border": null,
            "bottom": null,
            "display": null,
            "flex": null,
            "flex_flow": null,
            "grid_area": null,
            "grid_auto_columns": null,
            "grid_auto_flow": null,
            "grid_auto_rows": null,
            "grid_column": null,
            "grid_gap": null,
            "grid_row": null,
            "grid_template_areas": null,
            "grid_template_columns": null,
            "grid_template_rows": null,
            "height": null,
            "justify_content": null,
            "justify_items": null,
            "left": null,
            "margin": null,
            "max_height": null,
            "max_width": null,
            "min_height": null,
            "min_width": null,
            "object_fit": null,
            "object_position": null,
            "order": null,
            "overflow": null,
            "overflow_x": null,
            "overflow_y": null,
            "padding": null,
            "right": null,
            "top": null,
            "visibility": null,
            "width": null
          }
        },
        "22bde46c33ac47bda553b5ed2b5d3e84": {
          "model_module": "@jupyter-widgets/base",
          "model_name": "LayoutModel",
          "model_module_version": "1.2.0",
          "state": {
            "_model_module": "@jupyter-widgets/base",
            "_model_module_version": "1.2.0",
            "_model_name": "LayoutModel",
            "_view_count": null,
            "_view_module": "@jupyter-widgets/base",
            "_view_module_version": "1.2.0",
            "_view_name": "LayoutView",
            "align_content": null,
            "align_items": null,
            "align_self": null,
            "border": null,
            "bottom": null,
            "display": null,
            "flex": null,
            "flex_flow": null,
            "grid_area": null,
            "grid_auto_columns": null,
            "grid_auto_flow": null,
            "grid_auto_rows": null,
            "grid_column": null,
            "grid_gap": null,
            "grid_row": null,
            "grid_template_areas": null,
            "grid_template_columns": null,
            "grid_template_rows": null,
            "height": null,
            "justify_content": null,
            "justify_items": null,
            "left": null,
            "margin": null,
            "max_height": null,
            "max_width": null,
            "min_height": null,
            "min_width": null,
            "object_fit": null,
            "object_position": null,
            "order": null,
            "overflow": null,
            "overflow_x": null,
            "overflow_y": null,
            "padding": null,
            "right": null,
            "top": null,
            "visibility": null,
            "width": null
          }
        },
        "e3f3e5ace4104c6ab68cdcac25705400": {
          "model_module": "@jupyter-widgets/controls",
          "model_name": "DescriptionStyleModel",
          "model_module_version": "1.5.0",
          "state": {
            "_model_module": "@jupyter-widgets/controls",
            "_model_module_version": "1.5.0",
            "_model_name": "DescriptionStyleModel",
            "_view_count": null,
            "_view_module": "@jupyter-widgets/base",
            "_view_module_version": "1.2.0",
            "_view_name": "StyleView",
            "description_width": ""
          }
        },
        "7bd4ce8464474680bafaadab1b8e5fe1": {
          "model_module": "@jupyter-widgets/base",
          "model_name": "LayoutModel",
          "model_module_version": "1.2.0",
          "state": {
            "_model_module": "@jupyter-widgets/base",
            "_model_module_version": "1.2.0",
            "_model_name": "LayoutModel",
            "_view_count": null,
            "_view_module": "@jupyter-widgets/base",
            "_view_module_version": "1.2.0",
            "_view_name": "LayoutView",
            "align_content": null,
            "align_items": null,
            "align_self": null,
            "border": null,
            "bottom": null,
            "display": null,
            "flex": null,
            "flex_flow": null,
            "grid_area": null,
            "grid_auto_columns": null,
            "grid_auto_flow": null,
            "grid_auto_rows": null,
            "grid_column": null,
            "grid_gap": null,
            "grid_row": null,
            "grid_template_areas": null,
            "grid_template_columns": null,
            "grid_template_rows": null,
            "height": null,
            "justify_content": null,
            "justify_items": null,
            "left": null,
            "margin": null,
            "max_height": null,
            "max_width": null,
            "min_height": null,
            "min_width": null,
            "object_fit": null,
            "object_position": null,
            "order": null,
            "overflow": null,
            "overflow_x": null,
            "overflow_y": null,
            "padding": null,
            "right": null,
            "top": null,
            "visibility": null,
            "width": null
          }
        },
        "d645e4e07cd14516b27662c789168526": {
          "model_module": "@jupyter-widgets/controls",
          "model_name": "ProgressStyleModel",
          "model_module_version": "1.5.0",
          "state": {
            "_model_module": "@jupyter-widgets/controls",
            "_model_module_version": "1.5.0",
            "_model_name": "ProgressStyleModel",
            "_view_count": null,
            "_view_module": "@jupyter-widgets/base",
            "_view_module_version": "1.2.0",
            "_view_name": "StyleView",
            "bar_color": null,
            "description_width": ""
          }
        },
        "89b9af497c7f4a55b46d18b805c8a0af": {
          "model_module": "@jupyter-widgets/base",
          "model_name": "LayoutModel",
          "model_module_version": "1.2.0",
          "state": {
            "_model_module": "@jupyter-widgets/base",
            "_model_module_version": "1.2.0",
            "_model_name": "LayoutModel",
            "_view_count": null,
            "_view_module": "@jupyter-widgets/base",
            "_view_module_version": "1.2.0",
            "_view_name": "LayoutView",
            "align_content": null,
            "align_items": null,
            "align_self": null,
            "border": null,
            "bottom": null,
            "display": null,
            "flex": null,
            "flex_flow": null,
            "grid_area": null,
            "grid_auto_columns": null,
            "grid_auto_flow": null,
            "grid_auto_rows": null,
            "grid_column": null,
            "grid_gap": null,
            "grid_row": null,
            "grid_template_areas": null,
            "grid_template_columns": null,
            "grid_template_rows": null,
            "height": null,
            "justify_content": null,
            "justify_items": null,
            "left": null,
            "margin": null,
            "max_height": null,
            "max_width": null,
            "min_height": null,
            "min_width": null,
            "object_fit": null,
            "object_position": null,
            "order": null,
            "overflow": null,
            "overflow_x": null,
            "overflow_y": null,
            "padding": null,
            "right": null,
            "top": null,
            "visibility": null,
            "width": null
          }
        },
        "ed23c77ed8834712b0a94b322e63e3dc": {
          "model_module": "@jupyter-widgets/controls",
          "model_name": "DescriptionStyleModel",
          "model_module_version": "1.5.0",
          "state": {
            "_model_module": "@jupyter-widgets/controls",
            "_model_module_version": "1.5.0",
            "_model_name": "DescriptionStyleModel",
            "_view_count": null,
            "_view_module": "@jupyter-widgets/base",
            "_view_module_version": "1.2.0",
            "_view_name": "StyleView",
            "description_width": ""
          }
        },
        "665f274254674a05b21998c30621518c": {
          "model_module": "@jupyter-widgets/controls",
          "model_name": "HBoxModel",
          "model_module_version": "1.5.0",
          "state": {
            "_dom_classes": [],
            "_model_module": "@jupyter-widgets/controls",
            "_model_module_version": "1.5.0",
            "_model_name": "HBoxModel",
            "_view_count": null,
            "_view_module": "@jupyter-widgets/controls",
            "_view_module_version": "1.5.0",
            "_view_name": "HBoxView",
            "box_style": "",
            "children": [
              "IPY_MODEL_57f29e5ad76b4efebbd4c537c4bb5a2e",
              "IPY_MODEL_e21413f79eab450f9dbd0d7d0f981147",
              "IPY_MODEL_eef987f101554a7b87139e1ca98bbfc5"
            ],
            "layout": "IPY_MODEL_0d7faf9aba7b4b1495c3a616655c26c5"
          }
        },
        "57f29e5ad76b4efebbd4c537c4bb5a2e": {
          "model_module": "@jupyter-widgets/controls",
          "model_name": "HTMLModel",
          "model_module_version": "1.5.0",
          "state": {
            "_dom_classes": [],
            "_model_module": "@jupyter-widgets/controls",
            "_model_module_version": "1.5.0",
            "_model_name": "HTMLModel",
            "_view_count": null,
            "_view_module": "@jupyter-widgets/controls",
            "_view_module_version": "1.5.0",
            "_view_name": "HTMLView",
            "description": "",
            "description_tooltip": null,
            "layout": "IPY_MODEL_3e353f14c8f1483f857486191ec52437",
            "placeholder": "​",
            "style": "IPY_MODEL_5387429130cb421f9e863a92368b08a0",
            "value": "100%"
          }
        },
        "e21413f79eab450f9dbd0d7d0f981147": {
          "model_module": "@jupyter-widgets/controls",
          "model_name": "FloatProgressModel",
          "model_module_version": "1.5.0",
          "state": {
            "_dom_classes": [],
            "_model_module": "@jupyter-widgets/controls",
            "_model_module_version": "1.5.0",
            "_model_name": "FloatProgressModel",
            "_view_count": null,
            "_view_module": "@jupyter-widgets/controls",
            "_view_module_version": "1.5.0",
            "_view_name": "ProgressView",
            "bar_style": "success",
            "description": "",
            "description_tooltip": null,
            "layout": "IPY_MODEL_b8cfa429caf34e87a1a093bf2430484c",
            "max": 28881,
            "min": 0,
            "orientation": "horizontal",
            "style": "IPY_MODEL_086d18ef76604c66a6b6438acd274bf8",
            "value": 28881
          }
        },
        "eef987f101554a7b87139e1ca98bbfc5": {
          "model_module": "@jupyter-widgets/controls",
          "model_name": "HTMLModel",
          "model_module_version": "1.5.0",
          "state": {
            "_dom_classes": [],
            "_model_module": "@jupyter-widgets/controls",
            "_model_module_version": "1.5.0",
            "_model_name": "HTMLModel",
            "_view_count": null,
            "_view_module": "@jupyter-widgets/controls",
            "_view_module_version": "1.5.0",
            "_view_name": "HTMLView",
            "description": "",
            "description_tooltip": null,
            "layout": "IPY_MODEL_925a84c5aa774e288171f99a33b603fa",
            "placeholder": "​",
            "style": "IPY_MODEL_50388ab7e56a4be7b7d3971746d18621",
            "value": " 28881/28881 [00:00&lt;00:00, 1607320.29it/s]"
          }
        },
        "0d7faf9aba7b4b1495c3a616655c26c5": {
          "model_module": "@jupyter-widgets/base",
          "model_name": "LayoutModel",
          "model_module_version": "1.2.0",
          "state": {
            "_model_module": "@jupyter-widgets/base",
            "_model_module_version": "1.2.0",
            "_model_name": "LayoutModel",
            "_view_count": null,
            "_view_module": "@jupyter-widgets/base",
            "_view_module_version": "1.2.0",
            "_view_name": "LayoutView",
            "align_content": null,
            "align_items": null,
            "align_self": null,
            "border": null,
            "bottom": null,
            "display": null,
            "flex": null,
            "flex_flow": null,
            "grid_area": null,
            "grid_auto_columns": null,
            "grid_auto_flow": null,
            "grid_auto_rows": null,
            "grid_column": null,
            "grid_gap": null,
            "grid_row": null,
            "grid_template_areas": null,
            "grid_template_columns": null,
            "grid_template_rows": null,
            "height": null,
            "justify_content": null,
            "justify_items": null,
            "left": null,
            "margin": null,
            "max_height": null,
            "max_width": null,
            "min_height": null,
            "min_width": null,
            "object_fit": null,
            "object_position": null,
            "order": null,
            "overflow": null,
            "overflow_x": null,
            "overflow_y": null,
            "padding": null,
            "right": null,
            "top": null,
            "visibility": null,
            "width": null
          }
        },
        "3e353f14c8f1483f857486191ec52437": {
          "model_module": "@jupyter-widgets/base",
          "model_name": "LayoutModel",
          "model_module_version": "1.2.0",
          "state": {
            "_model_module": "@jupyter-widgets/base",
            "_model_module_version": "1.2.0",
            "_model_name": "LayoutModel",
            "_view_count": null,
            "_view_module": "@jupyter-widgets/base",
            "_view_module_version": "1.2.0",
            "_view_name": "LayoutView",
            "align_content": null,
            "align_items": null,
            "align_self": null,
            "border": null,
            "bottom": null,
            "display": null,
            "flex": null,
            "flex_flow": null,
            "grid_area": null,
            "grid_auto_columns": null,
            "grid_auto_flow": null,
            "grid_auto_rows": null,
            "grid_column": null,
            "grid_gap": null,
            "grid_row": null,
            "grid_template_areas": null,
            "grid_template_columns": null,
            "grid_template_rows": null,
            "height": null,
            "justify_content": null,
            "justify_items": null,
            "left": null,
            "margin": null,
            "max_height": null,
            "max_width": null,
            "min_height": null,
            "min_width": null,
            "object_fit": null,
            "object_position": null,
            "order": null,
            "overflow": null,
            "overflow_x": null,
            "overflow_y": null,
            "padding": null,
            "right": null,
            "top": null,
            "visibility": null,
            "width": null
          }
        },
        "5387429130cb421f9e863a92368b08a0": {
          "model_module": "@jupyter-widgets/controls",
          "model_name": "DescriptionStyleModel",
          "model_module_version": "1.5.0",
          "state": {
            "_model_module": "@jupyter-widgets/controls",
            "_model_module_version": "1.5.0",
            "_model_name": "DescriptionStyleModel",
            "_view_count": null,
            "_view_module": "@jupyter-widgets/base",
            "_view_module_version": "1.2.0",
            "_view_name": "StyleView",
            "description_width": ""
          }
        },
        "b8cfa429caf34e87a1a093bf2430484c": {
          "model_module": "@jupyter-widgets/base",
          "model_name": "LayoutModel",
          "model_module_version": "1.2.0",
          "state": {
            "_model_module": "@jupyter-widgets/base",
            "_model_module_version": "1.2.0",
            "_model_name": "LayoutModel",
            "_view_count": null,
            "_view_module": "@jupyter-widgets/base",
            "_view_module_version": "1.2.0",
            "_view_name": "LayoutView",
            "align_content": null,
            "align_items": null,
            "align_self": null,
            "border": null,
            "bottom": null,
            "display": null,
            "flex": null,
            "flex_flow": null,
            "grid_area": null,
            "grid_auto_columns": null,
            "grid_auto_flow": null,
            "grid_auto_rows": null,
            "grid_column": null,
            "grid_gap": null,
            "grid_row": null,
            "grid_template_areas": null,
            "grid_template_columns": null,
            "grid_template_rows": null,
            "height": null,
            "justify_content": null,
            "justify_items": null,
            "left": null,
            "margin": null,
            "max_height": null,
            "max_width": null,
            "min_height": null,
            "min_width": null,
            "object_fit": null,
            "object_position": null,
            "order": null,
            "overflow": null,
            "overflow_x": null,
            "overflow_y": null,
            "padding": null,
            "right": null,
            "top": null,
            "visibility": null,
            "width": null
          }
        },
        "086d18ef76604c66a6b6438acd274bf8": {
          "model_module": "@jupyter-widgets/controls",
          "model_name": "ProgressStyleModel",
          "model_module_version": "1.5.0",
          "state": {
            "_model_module": "@jupyter-widgets/controls",
            "_model_module_version": "1.5.0",
            "_model_name": "ProgressStyleModel",
            "_view_count": null,
            "_view_module": "@jupyter-widgets/base",
            "_view_module_version": "1.2.0",
            "_view_name": "StyleView",
            "bar_color": null,
            "description_width": ""
          }
        },
        "925a84c5aa774e288171f99a33b603fa": {
          "model_module": "@jupyter-widgets/base",
          "model_name": "LayoutModel",
          "model_module_version": "1.2.0",
          "state": {
            "_model_module": "@jupyter-widgets/base",
            "_model_module_version": "1.2.0",
            "_model_name": "LayoutModel",
            "_view_count": null,
            "_view_module": "@jupyter-widgets/base",
            "_view_module_version": "1.2.0",
            "_view_name": "LayoutView",
            "align_content": null,
            "align_items": null,
            "align_self": null,
            "border": null,
            "bottom": null,
            "display": null,
            "flex": null,
            "flex_flow": null,
            "grid_area": null,
            "grid_auto_columns": null,
            "grid_auto_flow": null,
            "grid_auto_rows": null,
            "grid_column": null,
            "grid_gap": null,
            "grid_row": null,
            "grid_template_areas": null,
            "grid_template_columns": null,
            "grid_template_rows": null,
            "height": null,
            "justify_content": null,
            "justify_items": null,
            "left": null,
            "margin": null,
            "max_height": null,
            "max_width": null,
            "min_height": null,
            "min_width": null,
            "object_fit": null,
            "object_position": null,
            "order": null,
            "overflow": null,
            "overflow_x": null,
            "overflow_y": null,
            "padding": null,
            "right": null,
            "top": null,
            "visibility": null,
            "width": null
          }
        },
        "50388ab7e56a4be7b7d3971746d18621": {
          "model_module": "@jupyter-widgets/controls",
          "model_name": "DescriptionStyleModel",
          "model_module_version": "1.5.0",
          "state": {
            "_model_module": "@jupyter-widgets/controls",
            "_model_module_version": "1.5.0",
            "_model_name": "DescriptionStyleModel",
            "_view_count": null,
            "_view_module": "@jupyter-widgets/base",
            "_view_module_version": "1.2.0",
            "_view_name": "StyleView",
            "description_width": ""
          }
        },
        "a45201641f794826a5bc513152602954": {
          "model_module": "@jupyter-widgets/controls",
          "model_name": "HBoxModel",
          "model_module_version": "1.5.0",
          "state": {
            "_dom_classes": [],
            "_model_module": "@jupyter-widgets/controls",
            "_model_module_version": "1.5.0",
            "_model_name": "HBoxModel",
            "_view_count": null,
            "_view_module": "@jupyter-widgets/controls",
            "_view_module_version": "1.5.0",
            "_view_name": "HBoxView",
            "box_style": "",
            "children": [
              "IPY_MODEL_00b00c205a184ccba3ab78a173fd8c48",
              "IPY_MODEL_ed286633163b45fea2e0f5768d80fc14",
              "IPY_MODEL_9d15851f7b4f4646a021adfeed48bdbc"
            ],
            "layout": "IPY_MODEL_bb16f4524e3d4fcf8e037d45eb350fb3"
          }
        },
        "00b00c205a184ccba3ab78a173fd8c48": {
          "model_module": "@jupyter-widgets/controls",
          "model_name": "HTMLModel",
          "model_module_version": "1.5.0",
          "state": {
            "_dom_classes": [],
            "_model_module": "@jupyter-widgets/controls",
            "_model_module_version": "1.5.0",
            "_model_name": "HTMLModel",
            "_view_count": null,
            "_view_module": "@jupyter-widgets/controls",
            "_view_module_version": "1.5.0",
            "_view_name": "HTMLView",
            "description": "",
            "description_tooltip": null,
            "layout": "IPY_MODEL_1a36f633454f41988234a3319bef1241",
            "placeholder": "​",
            "style": "IPY_MODEL_54250b491ab942e3b11d16c2e0667179",
            "value": "100%"
          }
        },
        "ed286633163b45fea2e0f5768d80fc14": {
          "model_module": "@jupyter-widgets/controls",
          "model_name": "FloatProgressModel",
          "model_module_version": "1.5.0",
          "state": {
            "_dom_classes": [],
            "_model_module": "@jupyter-widgets/controls",
            "_model_module_version": "1.5.0",
            "_model_name": "FloatProgressModel",
            "_view_count": null,
            "_view_module": "@jupyter-widgets/controls",
            "_view_module_version": "1.5.0",
            "_view_name": "ProgressView",
            "bar_style": "success",
            "description": "",
            "description_tooltip": null,
            "layout": "IPY_MODEL_677049a4484345ddadeaa7f42dc0dc38",
            "max": 1648877,
            "min": 0,
            "orientation": "horizontal",
            "style": "IPY_MODEL_e44624c221f44935b2259f36f205f045",
            "value": 1648877
          }
        },
        "9d15851f7b4f4646a021adfeed48bdbc": {
          "model_module": "@jupyter-widgets/controls",
          "model_name": "HTMLModel",
          "model_module_version": "1.5.0",
          "state": {
            "_dom_classes": [],
            "_model_module": "@jupyter-widgets/controls",
            "_model_module_version": "1.5.0",
            "_model_name": "HTMLModel",
            "_view_count": null,
            "_view_module": "@jupyter-widgets/controls",
            "_view_module_version": "1.5.0",
            "_view_name": "HTMLView",
            "description": "",
            "description_tooltip": null,
            "layout": "IPY_MODEL_11b86465455c46c8921ddd08ddfe1ba4",
            "placeholder": "​",
            "style": "IPY_MODEL_0e93fbc5eb7241e7aed23d2d1412d08b",
            "value": " 1648877/1648877 [00:00&lt;00:00, 53974318.85it/s]"
          }
        },
        "bb16f4524e3d4fcf8e037d45eb350fb3": {
          "model_module": "@jupyter-widgets/base",
          "model_name": "LayoutModel",
          "model_module_version": "1.2.0",
          "state": {
            "_model_module": "@jupyter-widgets/base",
            "_model_module_version": "1.2.0",
            "_model_name": "LayoutModel",
            "_view_count": null,
            "_view_module": "@jupyter-widgets/base",
            "_view_module_version": "1.2.0",
            "_view_name": "LayoutView",
            "align_content": null,
            "align_items": null,
            "align_self": null,
            "border": null,
            "bottom": null,
            "display": null,
            "flex": null,
            "flex_flow": null,
            "grid_area": null,
            "grid_auto_columns": null,
            "grid_auto_flow": null,
            "grid_auto_rows": null,
            "grid_column": null,
            "grid_gap": null,
            "grid_row": null,
            "grid_template_areas": null,
            "grid_template_columns": null,
            "grid_template_rows": null,
            "height": null,
            "justify_content": null,
            "justify_items": null,
            "left": null,
            "margin": null,
            "max_height": null,
            "max_width": null,
            "min_height": null,
            "min_width": null,
            "object_fit": null,
            "object_position": null,
            "order": null,
            "overflow": null,
            "overflow_x": null,
            "overflow_y": null,
            "padding": null,
            "right": null,
            "top": null,
            "visibility": null,
            "width": null
          }
        },
        "1a36f633454f41988234a3319bef1241": {
          "model_module": "@jupyter-widgets/base",
          "model_name": "LayoutModel",
          "model_module_version": "1.2.0",
          "state": {
            "_model_module": "@jupyter-widgets/base",
            "_model_module_version": "1.2.0",
            "_model_name": "LayoutModel",
            "_view_count": null,
            "_view_module": "@jupyter-widgets/base",
            "_view_module_version": "1.2.0",
            "_view_name": "LayoutView",
            "align_content": null,
            "align_items": null,
            "align_self": null,
            "border": null,
            "bottom": null,
            "display": null,
            "flex": null,
            "flex_flow": null,
            "grid_area": null,
            "grid_auto_columns": null,
            "grid_auto_flow": null,
            "grid_auto_rows": null,
            "grid_column": null,
            "grid_gap": null,
            "grid_row": null,
            "grid_template_areas": null,
            "grid_template_columns": null,
            "grid_template_rows": null,
            "height": null,
            "justify_content": null,
            "justify_items": null,
            "left": null,
            "margin": null,
            "max_height": null,
            "max_width": null,
            "min_height": null,
            "min_width": null,
            "object_fit": null,
            "object_position": null,
            "order": null,
            "overflow": null,
            "overflow_x": null,
            "overflow_y": null,
            "padding": null,
            "right": null,
            "top": null,
            "visibility": null,
            "width": null
          }
        },
        "54250b491ab942e3b11d16c2e0667179": {
          "model_module": "@jupyter-widgets/controls",
          "model_name": "DescriptionStyleModel",
          "model_module_version": "1.5.0",
          "state": {
            "_model_module": "@jupyter-widgets/controls",
            "_model_module_version": "1.5.0",
            "_model_name": "DescriptionStyleModel",
            "_view_count": null,
            "_view_module": "@jupyter-widgets/base",
            "_view_module_version": "1.2.0",
            "_view_name": "StyleView",
            "description_width": ""
          }
        },
        "677049a4484345ddadeaa7f42dc0dc38": {
          "model_module": "@jupyter-widgets/base",
          "model_name": "LayoutModel",
          "model_module_version": "1.2.0",
          "state": {
            "_model_module": "@jupyter-widgets/base",
            "_model_module_version": "1.2.0",
            "_model_name": "LayoutModel",
            "_view_count": null,
            "_view_module": "@jupyter-widgets/base",
            "_view_module_version": "1.2.0",
            "_view_name": "LayoutView",
            "align_content": null,
            "align_items": null,
            "align_self": null,
            "border": null,
            "bottom": null,
            "display": null,
            "flex": null,
            "flex_flow": null,
            "grid_area": null,
            "grid_auto_columns": null,
            "grid_auto_flow": null,
            "grid_auto_rows": null,
            "grid_column": null,
            "grid_gap": null,
            "grid_row": null,
            "grid_template_areas": null,
            "grid_template_columns": null,
            "grid_template_rows": null,
            "height": null,
            "justify_content": null,
            "justify_items": null,
            "left": null,
            "margin": null,
            "max_height": null,
            "max_width": null,
            "min_height": null,
            "min_width": null,
            "object_fit": null,
            "object_position": null,
            "order": null,
            "overflow": null,
            "overflow_x": null,
            "overflow_y": null,
            "padding": null,
            "right": null,
            "top": null,
            "visibility": null,
            "width": null
          }
        },
        "e44624c221f44935b2259f36f205f045": {
          "model_module": "@jupyter-widgets/controls",
          "model_name": "ProgressStyleModel",
          "model_module_version": "1.5.0",
          "state": {
            "_model_module": "@jupyter-widgets/controls",
            "_model_module_version": "1.5.0",
            "_model_name": "ProgressStyleModel",
            "_view_count": null,
            "_view_module": "@jupyter-widgets/base",
            "_view_module_version": "1.2.0",
            "_view_name": "StyleView",
            "bar_color": null,
            "description_width": ""
          }
        },
        "11b86465455c46c8921ddd08ddfe1ba4": {
          "model_module": "@jupyter-widgets/base",
          "model_name": "LayoutModel",
          "model_module_version": "1.2.0",
          "state": {
            "_model_module": "@jupyter-widgets/base",
            "_model_module_version": "1.2.0",
            "_model_name": "LayoutModel",
            "_view_count": null,
            "_view_module": "@jupyter-widgets/base",
            "_view_module_version": "1.2.0",
            "_view_name": "LayoutView",
            "align_content": null,
            "align_items": null,
            "align_self": null,
            "border": null,
            "bottom": null,
            "display": null,
            "flex": null,
            "flex_flow": null,
            "grid_area": null,
            "grid_auto_columns": null,
            "grid_auto_flow": null,
            "grid_auto_rows": null,
            "grid_column": null,
            "grid_gap": null,
            "grid_row": null,
            "grid_template_areas": null,
            "grid_template_columns": null,
            "grid_template_rows": null,
            "height": null,
            "justify_content": null,
            "justify_items": null,
            "left": null,
            "margin": null,
            "max_height": null,
            "max_width": null,
            "min_height": null,
            "min_width": null,
            "object_fit": null,
            "object_position": null,
            "order": null,
            "overflow": null,
            "overflow_x": null,
            "overflow_y": null,
            "padding": null,
            "right": null,
            "top": null,
            "visibility": null,
            "width": null
          }
        },
        "0e93fbc5eb7241e7aed23d2d1412d08b": {
          "model_module": "@jupyter-widgets/controls",
          "model_name": "DescriptionStyleModel",
          "model_module_version": "1.5.0",
          "state": {
            "_model_module": "@jupyter-widgets/controls",
            "_model_module_version": "1.5.0",
            "_model_name": "DescriptionStyleModel",
            "_view_count": null,
            "_view_module": "@jupyter-widgets/base",
            "_view_module_version": "1.2.0",
            "_view_name": "StyleView",
            "description_width": ""
          }
        },
        "efbb781e46804516839280ad12412df6": {
          "model_module": "@jupyter-widgets/controls",
          "model_name": "HBoxModel",
          "model_module_version": "1.5.0",
          "state": {
            "_dom_classes": [],
            "_model_module": "@jupyter-widgets/controls",
            "_model_module_version": "1.5.0",
            "_model_name": "HBoxModel",
            "_view_count": null,
            "_view_module": "@jupyter-widgets/controls",
            "_view_module_version": "1.5.0",
            "_view_name": "HBoxView",
            "box_style": "",
            "children": [
              "IPY_MODEL_db7d80566d2e4855af3540e0daa955e4",
              "IPY_MODEL_0510b288bb1248a786915e268d060b48",
              "IPY_MODEL_2fa6c3842bf54ff29aa0b378b7dce65d"
            ],
            "layout": "IPY_MODEL_4339ca5d945641a49512aad619066402"
          }
        },
        "db7d80566d2e4855af3540e0daa955e4": {
          "model_module": "@jupyter-widgets/controls",
          "model_name": "HTMLModel",
          "model_module_version": "1.5.0",
          "state": {
            "_dom_classes": [],
            "_model_module": "@jupyter-widgets/controls",
            "_model_module_version": "1.5.0",
            "_model_name": "HTMLModel",
            "_view_count": null,
            "_view_module": "@jupyter-widgets/controls",
            "_view_module_version": "1.5.0",
            "_view_name": "HTMLView",
            "description": "",
            "description_tooltip": null,
            "layout": "IPY_MODEL_70646669334b48e0997aaae9df9de817",
            "placeholder": "​",
            "style": "IPY_MODEL_b9542ebc85e44cb384678a51e47016f3",
            "value": "100%"
          }
        },
        "0510b288bb1248a786915e268d060b48": {
          "model_module": "@jupyter-widgets/controls",
          "model_name": "FloatProgressModel",
          "model_module_version": "1.5.0",
          "state": {
            "_dom_classes": [],
            "_model_module": "@jupyter-widgets/controls",
            "_model_module_version": "1.5.0",
            "_model_name": "FloatProgressModel",
            "_view_count": null,
            "_view_module": "@jupyter-widgets/controls",
            "_view_module_version": "1.5.0",
            "_view_name": "ProgressView",
            "bar_style": "success",
            "description": "",
            "description_tooltip": null,
            "layout": "IPY_MODEL_d48d053b6acb40d0b3e3592c3adf7f4d",
            "max": 4542,
            "min": 0,
            "orientation": "horizontal",
            "style": "IPY_MODEL_4850a8bf0e494673b5b600a91649c79a",
            "value": 4542
          }
        },
        "2fa6c3842bf54ff29aa0b378b7dce65d": {
          "model_module": "@jupyter-widgets/controls",
          "model_name": "HTMLModel",
          "model_module_version": "1.5.0",
          "state": {
            "_dom_classes": [],
            "_model_module": "@jupyter-widgets/controls",
            "_model_module_version": "1.5.0",
            "_model_name": "HTMLModel",
            "_view_count": null,
            "_view_module": "@jupyter-widgets/controls",
            "_view_module_version": "1.5.0",
            "_view_name": "HTMLView",
            "description": "",
            "description_tooltip": null,
            "layout": "IPY_MODEL_dae3f501addf498a80239d0b83e467d7",
            "placeholder": "​",
            "style": "IPY_MODEL_33651d59620c476cbb71cf8171f1f38a",
            "value": " 4542/4542 [00:00&lt;00:00, 55896.98it/s]"
          }
        },
        "4339ca5d945641a49512aad619066402": {
          "model_module": "@jupyter-widgets/base",
          "model_name": "LayoutModel",
          "model_module_version": "1.2.0",
          "state": {
            "_model_module": "@jupyter-widgets/base",
            "_model_module_version": "1.2.0",
            "_model_name": "LayoutModel",
            "_view_count": null,
            "_view_module": "@jupyter-widgets/base",
            "_view_module_version": "1.2.0",
            "_view_name": "LayoutView",
            "align_content": null,
            "align_items": null,
            "align_self": null,
            "border": null,
            "bottom": null,
            "display": null,
            "flex": null,
            "flex_flow": null,
            "grid_area": null,
            "grid_auto_columns": null,
            "grid_auto_flow": null,
            "grid_auto_rows": null,
            "grid_column": null,
            "grid_gap": null,
            "grid_row": null,
            "grid_template_areas": null,
            "grid_template_columns": null,
            "grid_template_rows": null,
            "height": null,
            "justify_content": null,
            "justify_items": null,
            "left": null,
            "margin": null,
            "max_height": null,
            "max_width": null,
            "min_height": null,
            "min_width": null,
            "object_fit": null,
            "object_position": null,
            "order": null,
            "overflow": null,
            "overflow_x": null,
            "overflow_y": null,
            "padding": null,
            "right": null,
            "top": null,
            "visibility": null,
            "width": null
          }
        },
        "70646669334b48e0997aaae9df9de817": {
          "model_module": "@jupyter-widgets/base",
          "model_name": "LayoutModel",
          "model_module_version": "1.2.0",
          "state": {
            "_model_module": "@jupyter-widgets/base",
            "_model_module_version": "1.2.0",
            "_model_name": "LayoutModel",
            "_view_count": null,
            "_view_module": "@jupyter-widgets/base",
            "_view_module_version": "1.2.0",
            "_view_name": "LayoutView",
            "align_content": null,
            "align_items": null,
            "align_self": null,
            "border": null,
            "bottom": null,
            "display": null,
            "flex": null,
            "flex_flow": null,
            "grid_area": null,
            "grid_auto_columns": null,
            "grid_auto_flow": null,
            "grid_auto_rows": null,
            "grid_column": null,
            "grid_gap": null,
            "grid_row": null,
            "grid_template_areas": null,
            "grid_template_columns": null,
            "grid_template_rows": null,
            "height": null,
            "justify_content": null,
            "justify_items": null,
            "left": null,
            "margin": null,
            "max_height": null,
            "max_width": null,
            "min_height": null,
            "min_width": null,
            "object_fit": null,
            "object_position": null,
            "order": null,
            "overflow": null,
            "overflow_x": null,
            "overflow_y": null,
            "padding": null,
            "right": null,
            "top": null,
            "visibility": null,
            "width": null
          }
        },
        "b9542ebc85e44cb384678a51e47016f3": {
          "model_module": "@jupyter-widgets/controls",
          "model_name": "DescriptionStyleModel",
          "model_module_version": "1.5.0",
          "state": {
            "_model_module": "@jupyter-widgets/controls",
            "_model_module_version": "1.5.0",
            "_model_name": "DescriptionStyleModel",
            "_view_count": null,
            "_view_module": "@jupyter-widgets/base",
            "_view_module_version": "1.2.0",
            "_view_name": "StyleView",
            "description_width": ""
          }
        },
        "d48d053b6acb40d0b3e3592c3adf7f4d": {
          "model_module": "@jupyter-widgets/base",
          "model_name": "LayoutModel",
          "model_module_version": "1.2.0",
          "state": {
            "_model_module": "@jupyter-widgets/base",
            "_model_module_version": "1.2.0",
            "_model_name": "LayoutModel",
            "_view_count": null,
            "_view_module": "@jupyter-widgets/base",
            "_view_module_version": "1.2.0",
            "_view_name": "LayoutView",
            "align_content": null,
            "align_items": null,
            "align_self": null,
            "border": null,
            "bottom": null,
            "display": null,
            "flex": null,
            "flex_flow": null,
            "grid_area": null,
            "grid_auto_columns": null,
            "grid_auto_flow": null,
            "grid_auto_rows": null,
            "grid_column": null,
            "grid_gap": null,
            "grid_row": null,
            "grid_template_areas": null,
            "grid_template_columns": null,
            "grid_template_rows": null,
            "height": null,
            "justify_content": null,
            "justify_items": null,
            "left": null,
            "margin": null,
            "max_height": null,
            "max_width": null,
            "min_height": null,
            "min_width": null,
            "object_fit": null,
            "object_position": null,
            "order": null,
            "overflow": null,
            "overflow_x": null,
            "overflow_y": null,
            "padding": null,
            "right": null,
            "top": null,
            "visibility": null,
            "width": null
          }
        },
        "4850a8bf0e494673b5b600a91649c79a": {
          "model_module": "@jupyter-widgets/controls",
          "model_name": "ProgressStyleModel",
          "model_module_version": "1.5.0",
          "state": {
            "_model_module": "@jupyter-widgets/controls",
            "_model_module_version": "1.5.0",
            "_model_name": "ProgressStyleModel",
            "_view_count": null,
            "_view_module": "@jupyter-widgets/base",
            "_view_module_version": "1.2.0",
            "_view_name": "StyleView",
            "bar_color": null,
            "description_width": ""
          }
        },
        "dae3f501addf498a80239d0b83e467d7": {
          "model_module": "@jupyter-widgets/base",
          "model_name": "LayoutModel",
          "model_module_version": "1.2.0",
          "state": {
            "_model_module": "@jupyter-widgets/base",
            "_model_module_version": "1.2.0",
            "_model_name": "LayoutModel",
            "_view_count": null,
            "_view_module": "@jupyter-widgets/base",
            "_view_module_version": "1.2.0",
            "_view_name": "LayoutView",
            "align_content": null,
            "align_items": null,
            "align_self": null,
            "border": null,
            "bottom": null,
            "display": null,
            "flex": null,
            "flex_flow": null,
            "grid_area": null,
            "grid_auto_columns": null,
            "grid_auto_flow": null,
            "grid_auto_rows": null,
            "grid_column": null,
            "grid_gap": null,
            "grid_row": null,
            "grid_template_areas": null,
            "grid_template_columns": null,
            "grid_template_rows": null,
            "height": null,
            "justify_content": null,
            "justify_items": null,
            "left": null,
            "margin": null,
            "max_height": null,
            "max_width": null,
            "min_height": null,
            "min_width": null,
            "object_fit": null,
            "object_position": null,
            "order": null,
            "overflow": null,
            "overflow_x": null,
            "overflow_y": null,
            "padding": null,
            "right": null,
            "top": null,
            "visibility": null,
            "width": null
          }
        },
        "33651d59620c476cbb71cf8171f1f38a": {
          "model_module": "@jupyter-widgets/controls",
          "model_name": "DescriptionStyleModel",
          "model_module_version": "1.5.0",
          "state": {
            "_model_module": "@jupyter-widgets/controls",
            "_model_module_version": "1.5.0",
            "_model_name": "DescriptionStyleModel",
            "_view_count": null,
            "_view_module": "@jupyter-widgets/base",
            "_view_module_version": "1.2.0",
            "_view_name": "StyleView",
            "description_width": ""
          }
        }
      }
    }
  },
  "nbformat": 4,
  "nbformat_minor": 0
}