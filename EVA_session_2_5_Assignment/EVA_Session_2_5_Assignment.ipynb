{
  "cells": [
    {
      "cell_type": "markdown",
      "metadata": {
        "id": "view-in-github",
        "colab_type": "text"
      },
      "source": [
        "<a href=\"https://colab.research.google.com/github/navrat/EVA_phase1_2022_23/blob/main/EVA_session_2_5_Assignment/EVA_Session_2_5_Assignment.ipynb\" target=\"_parent\"><img src=\"https://colab.research.google.com/assets/colab-badge.svg\" alt=\"Open In Colab\"/></a>"
      ]
    },
    {
      "cell_type": "code",
      "execution_count": 17,
      "metadata": {
        "id": "41y4dOtJU1Ld"
      },
      "outputs": [],
      "source": [
        "import numpy as np\n",
        "import torch\n",
        "import torchvision\n",
        "import matplotlib.pyplot as plt\n",
        "from time import time\n",
        "from torchvision import datasets, transforms\n",
        "from torch import nn, optim\n",
        "import torch.nn.functional as F\n"
      ]
    },
    {
      "cell_type": "code",
      "execution_count": 18,
      "metadata": {
        "id": "YwkbRWY5lgj5",
        "colab": {
          "base_uri": "https://localhost:8080/"
        },
        "outputId": "bd3a5de3-e11a-4b19-8824-d8275cf0609e"
      },
      "outputs": [
        {
          "output_type": "stream",
          "name": "stdout",
          "text": [
            "Looking in indexes: https://pypi.org/simple, https://us-python.pkg.dev/colab-wheels/public/simple/\n",
            "Requirement already satisfied: GPUtil in /usr/local/lib/python3.8/dist-packages (1.4.0)\n",
            "__CUDNN VERSION: 8302\n",
            "__Number CUDA Devices: 1\n",
            "__CUDA Device Name: Tesla T4\n",
            "__CUDA Device Total Memory [GB]: 15.843721216\n"
          ]
        }
      ],
      "source": [
        "!pip install GPUtil\n",
        "import GPUtil \n",
        "GPUtil. getAvailable()\n",
        "import torch \n",
        "use_cuda = torch. cuda. is_available()\n",
        "if use_cuda:\n",
        "    print('__CUDNN VERSION:', torch.backends.cudnn.version())\n",
        "    print('__Number CUDA Devices:', torch.cuda.device_count())\n",
        "    print('__CUDA Device Name:',torch.cuda.get_device_name(0))\n",
        "    print('__CUDA Device Total Memory [GB]:',torch.cuda.get_device_properties(0).total_memory/1e9)"
      ]
    },
    {
      "cell_type": "code",
      "execution_count": 19,
      "metadata": {
        "colab": {
          "base_uri": "https://localhost:8080/"
        },
        "id": "7xmogPrFKPbI",
        "outputId": "f28771bf-4a66-4f00-8b9c-49c6f96891fb"
      },
      "outputs": [
        {
          "output_type": "execute_result",
          "data": {
            "text/plain": [
              "<torch._C.Generator at 0x7f03ab21e450>"
            ]
          },
          "metadata": {},
          "execution_count": 19
        }
      ],
      "source": [
        "n_epochs = 3\n",
        "batch_size_train = 64\n",
        "batch_size_test = 1000\n",
        "learning_rate = 0.01\n",
        "momentum = 0.5\n",
        "log_interval = 10\n",
        "\n",
        "random_seed = 1\n",
        "torch.backends.cudnn.enabled = False\n",
        "torch.manual_seed(random_seed)"
      ]
    },
    {
      "cell_type": "code",
      "execution_count": 20,
      "metadata": {
        "id": "LMqtDH1aKPd_"
      },
      "outputs": [],
      "source": [
        "train_loader = torch.utils.data.DataLoader(\n",
        "  torchvision.datasets.MNIST('/files/', train=True, download=True,\n",
        "                             transform=torchvision.transforms.Compose([\n",
        "                               torchvision.transforms.ToTensor(),\n",
        "                               torchvision.transforms.Normalize(\n",
        "                                 (0.1307,), (0.3081,))\n",
        "                             ])),\n",
        "  batch_size=batch_size_train, shuffle=True)\n",
        "\n",
        "test_loader = torch.utils.data.DataLoader(\n",
        "  torchvision.datasets.MNIST('/files/', train=False, download=True,\n",
        "                             transform=torchvision.transforms.Compose([\n",
        "                               torchvision.transforms.ToTensor(),\n",
        "                               torchvision.transforms.Normalize(\n",
        "                                 (0.1307,), (0.3081,))\n",
        "                             ])),\n",
        "  batch_size=batch_size_test, shuffle=True)"
      ]
    },
    {
      "cell_type": "code",
      "execution_count": 21,
      "metadata": {
        "id": "95LL-CbQKPgw"
      },
      "outputs": [],
      "source": [
        "examples = enumerate(test_loader)\n",
        "batch_idx, (example_data, example_targets) = next(examples)"
      ]
    },
    {
      "cell_type": "code",
      "execution_count": 22,
      "metadata": {
        "colab": {
          "base_uri": "https://localhost:8080/"
        },
        "id": "5eQ15TMlKPjb",
        "outputId": "87a817cc-2822-48ca-f670-d69a8abe58a8"
      },
      "outputs": [
        {
          "output_type": "execute_result",
          "data": {
            "text/plain": [
              "torch.Size([1000, 1, 28, 28])"
            ]
          },
          "metadata": {},
          "execution_count": 22
        }
      ],
      "source": [
        "example_data.shape"
      ]
    },
    {
      "cell_type": "code",
      "execution_count": 23,
      "metadata": {
        "colab": {
          "base_uri": "https://localhost:8080/",
          "height": 551
        },
        "id": "8Ci1ZfoLKW5X",
        "outputId": "1e8203ec-ef03-45ba-9be2-db7f8986c838"
      },
      "outputs": [
        {
          "output_type": "execute_result",
          "data": {
            "text/plain": [
              "<Figure size 432x288 with 6 Axes>"
            ],
            "image/png": "[encoded data removed]"
          },
          "metadata": {},
          "execution_count": 23
        },
        {
          "output_type": "display_data",
          "data": {
            "text/plain": [
              "<Figure size 432x288 with 6 Axes>"
            ],
            "image/png": "[encoded data removed]"
          },
          "metadata": {}
        }
      ],
      "source": [
        "import matplotlib.pyplot as plt\n",
        "\n",
        "fig = plt.figure()\n",
        "for i in range(6):\n",
        "  plt.subplot(2,3,i+1)\n",
        "  plt.tight_layout()\n",
        "  plt.imshow(example_data[i][0], cmap='gray', interpolation='none')\n",
        "  plt.title(\"Ground Truth: {}\".format(example_targets[i]))\n",
        "  plt.xticks([])\n",
        "  plt.yticks([])\n",
        "fig"
      ]
    },
    {
      "cell_type": "code",
      "execution_count": null,
      "metadata": {
        "id": "Ardc6_vyMV8b"
      },
      "outputs": [],
      "source": []
    },
    {
      "cell_type": "code",
      "execution_count": 24,
      "metadata": {
        "id": "5tDVfgoXKXB4"
      },
      "outputs": [],
      "source": [
        "class Net(nn.Module):\n",
        "    def __init__(self):\n",
        "        super(Net, self).__init__()\n",
        "        self.conv1 = nn.Conv2d(1, 32, 3, padding=1) # convolution layer with 32 of 3*3 kernels. 1*28*28 (1*30*30 with padding) - 32*28*28 - RF = 3*3\n",
        "        self.conv2 = nn.Conv2d(32, 64, 3, padding=1) # convolution layer with 64 of 3*3 kernels.  32*28*28 (1*30*30 with padding) - 64*28*28 - RF = 5*5\n",
        "        self.pool1 = nn.MaxPool2d(2, 2) # max pooling using a 2*2 kernel. 64*28*28 - 64*14*14 - RF = 10*10\n",
        "        self.conv3 = nn.Conv2d(64, 128, 3, padding=1) # convolution layer with 128 of 3*3 kernels.  64*14*14 (64*16*16 with padding) - 128*14*14 - RF = 12*12\n",
        "        self.conv4 = nn.Conv2d(128, 256, 3, padding=1) # convolution layer with 256 of 3*3 kernels.  128*14*14 (128*16*16 with padding) - 256*14*14 - RF = 14*14\n",
        "        self.pool2 = nn.MaxPool2d(2, 2) # max pooling using a 2*2 kernel. 256*14*14 - 256*7*7 - RF = 28*28\n",
        "        self.conv5 = nn.Conv2d(256, 512, 3)# convolution layer with 512 of 3*3 kernels.  256*7*7 - 512*5*5 - RF = 30*30 (larger than image size?)\n",
        "        self.conv6 = nn.Conv2d(512, 1024, 3)# convolution layer with 1024 of 3*3 kernels.  512*5*5 - 1024*3*3 - RF = 32*32 (larger than image size?)\n",
        "        self.conv7 = nn.Conv2d(1024, 10, 3)# convolution layer with 10 of 3*3 kernels.  1024*3*3 - 10*1*1 - RF = 34*34 (larger than image size?)\n",
        "    def forward(self, x): # module to implement the sequential neural network\n",
        "        x = self.pool1(F.relu(self.conv2(F.relu(self.conv1(x))))) # sequence of conv1 taking input imagge and output activated by rely, passes to conv2 activated by relu and pooled. \n",
        "        x = self.pool2(F.relu(self.conv4(F.relu(self.conv3(x))))) # sequence of taking above output and passing to conv3 and output activated by rely, passes to conv4 activated by relu and pooled. \n",
        "        x = F.relu(self.conv6(F.relu(self.conv5(x)))) # sequence of taking above output and passing to conv5 and output activated by relu. passes to conv6 and activated by relu.\n",
        "        x = self.conv7(x)# sequence of taking above output and passing to conv7 and output activated by relu\n",
        "        x = x.view(-1, 10) # flattening the output to 1-d (original vs. addition of lin)\n",
        "        return F.log_softmax(x) # return the logged softmax of the 1-d"
      ]
    },
    {
      "cell_type": "code",
      "execution_count": 25,
      "metadata": {
        "id": "K6u2qvIQKXJv"
      },
      "outputs": [],
      "source": [
        "network = Net()\n",
        "optimizer = optim.SGD(network.parameters(), lr=learning_rate,\n",
        "                      momentum=momentum)"
      ]
    },
    {
      "cell_type": "code",
      "source": [
        "example_data[0].shape"
      ],
      "metadata": {
        "colab": {
          "base_uri": "https://localhost:8080/"
        },
        "id": "RqbbP9lCv84b",
        "outputId": "c5b7b1b4-a31a-48a0-c73c-34bbeae070e9"
      },
      "execution_count": 29,
      "outputs": [
        {
          "output_type": "execute_result",
          "data": {
            "text/plain": [
              "torch.Size([1, 28, 28])"
            ]
          },
          "metadata": {},
          "execution_count": 29
        }
      ]
    },
    {
      "cell_type": "code",
      "source": [
        "from torchsummary import summary\n",
        "\n",
        "summary(network, example_data[0].shape)\n"
      ],
      "metadata": {
        "colab": {
          "base_uri": "https://localhost:8080/",
          "height": 363
        },
        "id": "DvyegwRQu-TZ",
        "outputId": "7a4e7af9-bf33-427a-9b48-144a9fd5d11e"
      },
      "execution_count": 30,
      "outputs": [
        {
          "output_type": "error",
          "ename": "RuntimeError",
          "evalue": "ignored",
          "traceback": [
            "\u001b[0;31m---------------------------------------------------------------------------\u001b[0m",
            "\u001b[0;31mRuntimeError\u001b[0m                              Traceback (most recent call last)",
            "\u001b[0;32m<ipython-input-30-ed1b6b15c081>\u001b[0m in \u001b[0;36m<module>\u001b[0;34m\u001b[0m\n\u001b[1;32m      1\u001b[0m \u001b[0;32mfrom\u001b[0m \u001b[0mtorchsummary\u001b[0m \u001b[0;32mimport\u001b[0m \u001b[0msummary\u001b[0m\u001b[0;34m\u001b[0m\u001b[0;34m\u001b[0m\u001b[0m\n\u001b[1;32m      2\u001b[0m \u001b[0;34m\u001b[0m\u001b[0m\n\u001b[0;32m----> 3\u001b[0;31m \u001b[0msummary\u001b[0m\u001b[0;34m(\u001b[0m\u001b[0mnetwork\u001b[0m\u001b[0;34m,\u001b[0m \u001b[0mexample_data\u001b[0m\u001b[0;34m[\u001b[0m\u001b[0;36m0\u001b[0m\u001b[0;34m]\u001b[0m\u001b[0;34m.\u001b[0m\u001b[0mshape\u001b[0m\u001b[0;34m)\u001b[0m\u001b[0;34m\u001b[0m\u001b[0;34m\u001b[0m\u001b[0m\n\u001b[0m",
            "\u001b[0;32m/usr/local/lib/python3.8/dist-packages/torchsummary/torchsummary.py\u001b[0m in \u001b[0;36msummary\u001b[0;34m(model, input_size, batch_size, device)\u001b[0m\n\u001b[1;32m     70\u001b[0m     \u001b[0;31m# make a forward pass\u001b[0m\u001b[0;34m\u001b[0m\u001b[0;34m\u001b[0m\u001b[0;34m\u001b[0m\u001b[0m\n\u001b[1;32m     71\u001b[0m     \u001b[0;31m# print(x.shape)\u001b[0m\u001b[0;34m\u001b[0m\u001b[0;34m\u001b[0m\u001b[0;34m\u001b[0m\u001b[0m\n\u001b[0;32m---> 72\u001b[0;31m     \u001b[0mmodel\u001b[0m\u001b[0;34m(\u001b[0m\u001b[0;34m*\u001b[0m\u001b[0mx\u001b[0m\u001b[0;34m)\u001b[0m\u001b[0;34m\u001b[0m\u001b[0;34m\u001b[0m\u001b[0m\n\u001b[0m\u001b[1;32m     73\u001b[0m \u001b[0;34m\u001b[0m\u001b[0m\n\u001b[1;32m     74\u001b[0m     \u001b[0;31m# remove these hooks\u001b[0m\u001b[0;34m\u001b[0m\u001b[0;34m\u001b[0m\u001b[0;34m\u001b[0m\u001b[0m\n",
            "\u001b[0;32m/usr/local/lib/python3.8/dist-packages/torch/nn/modules/module.py\u001b[0m in \u001b[0;36m_call_impl\u001b[0;34m(self, *input, **kwargs)\u001b[0m\n\u001b[1;32m   1188\u001b[0m         if not (self._backward_hooks or self._forward_hooks or self._forward_pre_hooks or _global_backward_hooks\n\u001b[1;32m   1189\u001b[0m                 or _global_forward_hooks or _global_forward_pre_hooks):\n\u001b[0;32m-> 1190\u001b[0;31m             \u001b[0;32mreturn\u001b[0m \u001b[0mforward_call\u001b[0m\u001b[0;34m(\u001b[0m\u001b[0;34m*\u001b[0m\u001b[0minput\u001b[0m\u001b[0;34m,\u001b[0m \u001b[0;34m**\u001b[0m\u001b[0mkwargs\u001b[0m\u001b[0;34m)\u001b[0m\u001b[0;34m\u001b[0m\u001b[0;34m\u001b[0m\u001b[0m\n\u001b[0m\u001b[1;32m   1191\u001b[0m         \u001b[0;31m# Do not call functions when jit is used\u001b[0m\u001b[0;34m\u001b[0m\u001b[0;34m\u001b[0m\u001b[0;34m\u001b[0m\u001b[0m\n\u001b[1;32m   1192\u001b[0m         \u001b[0mfull_backward_hooks\u001b[0m\u001b[0;34m,\u001b[0m \u001b[0mnon_full_backward_hooks\u001b[0m \u001b[0;34m=\u001b[0m \u001b[0;34m[\u001b[0m\u001b[0;34m]\u001b[0m\u001b[0;34m,\u001b[0m \u001b[0;34m[\u001b[0m\u001b[0;34m]\u001b[0m\u001b[0;34m\u001b[0m\u001b[0;34m\u001b[0m\u001b[0m\n",
            "\u001b[0;32m<ipython-input-24-5dd3686f6f5e>\u001b[0m in \u001b[0;36mforward\u001b[0;34m(self, x)\u001b[0m\n\u001b[1;32m     12\u001b[0m         \u001b[0mself\u001b[0m\u001b[0;34m.\u001b[0m\u001b[0mconv7\u001b[0m \u001b[0;34m=\u001b[0m \u001b[0mnn\u001b[0m\u001b[0;34m.\u001b[0m\u001b[0mConv2d\u001b[0m\u001b[0;34m(\u001b[0m\u001b[0;36m1024\u001b[0m\u001b[0;34m,\u001b[0m \u001b[0;36m10\u001b[0m\u001b[0;34m,\u001b[0m \u001b[0;36m3\u001b[0m\u001b[0;34m)\u001b[0m\u001b[0;31m# convolution layer with 10 of 3*3 kernels.  1024*3*3 - 10*1*1 - RF = 34*34 (larger than image size?)\u001b[0m\u001b[0;34m\u001b[0m\u001b[0;34m\u001b[0m\u001b[0m\n\u001b[1;32m     13\u001b[0m     \u001b[0;32mdef\u001b[0m \u001b[0mforward\u001b[0m\u001b[0;34m(\u001b[0m\u001b[0mself\u001b[0m\u001b[0;34m,\u001b[0m \u001b[0mx\u001b[0m\u001b[0;34m)\u001b[0m\u001b[0;34m:\u001b[0m \u001b[0;31m# module to implement the sequential neural network\u001b[0m\u001b[0;34m\u001b[0m\u001b[0;34m\u001b[0m\u001b[0m\n\u001b[0;32m---> 14\u001b[0;31m         \u001b[0mx\u001b[0m \u001b[0;34m=\u001b[0m \u001b[0mself\u001b[0m\u001b[0;34m.\u001b[0m\u001b[0mpool1\u001b[0m\u001b[0;34m(\u001b[0m\u001b[0mF\u001b[0m\u001b[0;34m.\u001b[0m\u001b[0mrelu\u001b[0m\u001b[0;34m(\u001b[0m\u001b[0mself\u001b[0m\u001b[0;34m.\u001b[0m\u001b[0mconv2\u001b[0m\u001b[0;34m(\u001b[0m\u001b[0mF\u001b[0m\u001b[0;34m.\u001b[0m\u001b[0mrelu\u001b[0m\u001b[0;34m(\u001b[0m\u001b[0mself\u001b[0m\u001b[0;34m.\u001b[0m\u001b[0mconv1\u001b[0m\u001b[0;34m(\u001b[0m\u001b[0mx\u001b[0m\u001b[0;34m)\u001b[0m\u001b[0;34m)\u001b[0m\u001b[0;34m)\u001b[0m\u001b[0;34m)\u001b[0m\u001b[0;34m)\u001b[0m \u001b[0;31m# sequence of conv1 taking input imagge and output activated by rely, passes to conv2 activated by relu and pooled.\u001b[0m\u001b[0;34m\u001b[0m\u001b[0;34m\u001b[0m\u001b[0m\n\u001b[0m\u001b[1;32m     15\u001b[0m         \u001b[0mx\u001b[0m \u001b[0;34m=\u001b[0m \u001b[0mself\u001b[0m\u001b[0;34m.\u001b[0m\u001b[0mpool2\u001b[0m\u001b[0;34m(\u001b[0m\u001b[0mF\u001b[0m\u001b[0;34m.\u001b[0m\u001b[0mrelu\u001b[0m\u001b[0;34m(\u001b[0m\u001b[0mself\u001b[0m\u001b[0;34m.\u001b[0m\u001b[0mconv4\u001b[0m\u001b[0;34m(\u001b[0m\u001b[0mF\u001b[0m\u001b[0;34m.\u001b[0m\u001b[0mrelu\u001b[0m\u001b[0;34m(\u001b[0m\u001b[0mself\u001b[0m\u001b[0;34m.\u001b[0m\u001b[0mconv3\u001b[0m\u001b[0;34m(\u001b[0m\u001b[0mx\u001b[0m\u001b[0;34m)\u001b[0m\u001b[0;34m)\u001b[0m\u001b[0;34m)\u001b[0m\u001b[0;34m)\u001b[0m\u001b[0;34m)\u001b[0m \u001b[0;31m# sequence of taking above output and passing to conv3 and output activated by rely, passes to conv4 activated by relu and pooled.\u001b[0m\u001b[0;34m\u001b[0m\u001b[0;34m\u001b[0m\u001b[0m\n\u001b[1;32m     16\u001b[0m         \u001b[0mx\u001b[0m \u001b[0;34m=\u001b[0m \u001b[0mF\u001b[0m\u001b[0;34m.\u001b[0m\u001b[0mrelu\u001b[0m\u001b[0;34m(\u001b[0m\u001b[0mself\u001b[0m\u001b[0;34m.\u001b[0m\u001b[0mconv6\u001b[0m\u001b[0;34m(\u001b[0m\u001b[0mF\u001b[0m\u001b[0;34m.\u001b[0m\u001b[0mrelu\u001b[0m\u001b[0;34m(\u001b[0m\u001b[0mself\u001b[0m\u001b[0;34m.\u001b[0m\u001b[0mconv5\u001b[0m\u001b[0;34m(\u001b[0m\u001b[0mx\u001b[0m\u001b[0;34m)\u001b[0m\u001b[0;34m)\u001b[0m\u001b[0;34m)\u001b[0m\u001b[0;34m)\u001b[0m \u001b[0;31m# sequence of taking above output and passing to conv5 and output activated by relu. passes to conv6 and activated by relu.\u001b[0m\u001b[0;34m\u001b[0m\u001b[0;34m\u001b[0m\u001b[0m\n",
            "\u001b[0;32m/usr/local/lib/python3.8/dist-packages/torch/nn/modules/module.py\u001b[0m in \u001b[0;36m_call_impl\u001b[0;34m(self, *input, **kwargs)\u001b[0m\n\u001b[1;32m   1206\u001b[0m             \u001b[0minput\u001b[0m \u001b[0;34m=\u001b[0m \u001b[0mbw_hook\u001b[0m\u001b[0;34m.\u001b[0m\u001b[0msetup_input_hook\u001b[0m\u001b[0;34m(\u001b[0m\u001b[0minput\u001b[0m\u001b[0;34m)\u001b[0m\u001b[0;34m\u001b[0m\u001b[0;34m\u001b[0m\u001b[0m\n\u001b[1;32m   1207\u001b[0m \u001b[0;34m\u001b[0m\u001b[0m\n\u001b[0;32m-> 1208\u001b[0;31m         \u001b[0mresult\u001b[0m \u001b[0;34m=\u001b[0m \u001b[0mforward_call\u001b[0m\u001b[0;34m(\u001b[0m\u001b[0;34m*\u001b[0m\u001b[0minput\u001b[0m\u001b[0;34m,\u001b[0m \u001b[0;34m**\u001b[0m\u001b[0mkwargs\u001b[0m\u001b[0;34m)\u001b[0m\u001b[0;34m\u001b[0m\u001b[0;34m\u001b[0m\u001b[0m\n\u001b[0m\u001b[1;32m   1209\u001b[0m         \u001b[0;32mif\u001b[0m \u001b[0m_global_forward_hooks\u001b[0m \u001b[0;32mor\u001b[0m \u001b[0mself\u001b[0m\u001b[0;34m.\u001b[0m\u001b[0m_forward_hooks\u001b[0m\u001b[0;34m:\u001b[0m\u001b[0;34m\u001b[0m\u001b[0;34m\u001b[0m\u001b[0m\n\u001b[1;32m   1210\u001b[0m             \u001b[0;32mfor\u001b[0m \u001b[0mhook\u001b[0m \u001b[0;32min\u001b[0m \u001b[0;34m(\u001b[0m\u001b[0;34m*\u001b[0m\u001b[0m_global_forward_hooks\u001b[0m\u001b[0;34m.\u001b[0m\u001b[0mvalues\u001b[0m\u001b[0;34m(\u001b[0m\u001b[0;34m)\u001b[0m\u001b[0;34m,\u001b[0m \u001b[0;34m*\u001b[0m\u001b[0mself\u001b[0m\u001b[0;34m.\u001b[0m\u001b[0m_forward_hooks\u001b[0m\u001b[0;34m.\u001b[0m\u001b[0mvalues\u001b[0m\u001b[0;34m(\u001b[0m\u001b[0;34m)\u001b[0m\u001b[0;34m)\u001b[0m\u001b[0;34m:\u001b[0m\u001b[0;34m\u001b[0m\u001b[0;34m\u001b[0m\u001b[0m\n",
            "\u001b[0;32m/usr/local/lib/python3.8/dist-packages/torch/nn/modules/conv.py\u001b[0m in \u001b[0;36mforward\u001b[0;34m(self, input)\u001b[0m\n\u001b[1;32m    461\u001b[0m \u001b[0;34m\u001b[0m\u001b[0m\n\u001b[1;32m    462\u001b[0m     \u001b[0;32mdef\u001b[0m \u001b[0mforward\u001b[0m\u001b[0;34m(\u001b[0m\u001b[0mself\u001b[0m\u001b[0;34m,\u001b[0m \u001b[0minput\u001b[0m\u001b[0;34m:\u001b[0m \u001b[0mTensor\u001b[0m\u001b[0;34m)\u001b[0m \u001b[0;34m->\u001b[0m \u001b[0mTensor\u001b[0m\u001b[0;34m:\u001b[0m\u001b[0;34m\u001b[0m\u001b[0;34m\u001b[0m\u001b[0m\n\u001b[0;32m--> 463\u001b[0;31m         \u001b[0;32mreturn\u001b[0m \u001b[0mself\u001b[0m\u001b[0;34m.\u001b[0m\u001b[0m_conv_forward\u001b[0m\u001b[0;34m(\u001b[0m\u001b[0minput\u001b[0m\u001b[0;34m,\u001b[0m \u001b[0mself\u001b[0m\u001b[0;34m.\u001b[0m\u001b[0mweight\u001b[0m\u001b[0;34m,\u001b[0m \u001b[0mself\u001b[0m\u001b[0;34m.\u001b[0m\u001b[0mbias\u001b[0m\u001b[0;34m)\u001b[0m\u001b[0;34m\u001b[0m\u001b[0;34m\u001b[0m\u001b[0m\n\u001b[0m\u001b[1;32m    464\u001b[0m \u001b[0;34m\u001b[0m\u001b[0m\n\u001b[1;32m    465\u001b[0m \u001b[0;32mclass\u001b[0m \u001b[0mConv3d\u001b[0m\u001b[0;34m(\u001b[0m\u001b[0m_ConvNd\u001b[0m\u001b[0;34m)\u001b[0m\u001b[0;34m:\u001b[0m\u001b[0;34m\u001b[0m\u001b[0;34m\u001b[0m\u001b[0m\n",
            "\u001b[0;32m/usr/local/lib/python3.8/dist-packages/torch/nn/modules/conv.py\u001b[0m in \u001b[0;36m_conv_forward\u001b[0;34m(self, input, weight, bias)\u001b[0m\n\u001b[1;32m    457\u001b[0m                             \u001b[0mweight\u001b[0m\u001b[0;34m,\u001b[0m \u001b[0mbias\u001b[0m\u001b[0;34m,\u001b[0m \u001b[0mself\u001b[0m\u001b[0;34m.\u001b[0m\u001b[0mstride\u001b[0m\u001b[0;34m,\u001b[0m\u001b[0;34m\u001b[0m\u001b[0;34m\u001b[0m\u001b[0m\n\u001b[1;32m    458\u001b[0m                             _pair(0), self.dilation, self.groups)\n\u001b[0;32m--> 459\u001b[0;31m         return F.conv2d(input, weight, bias, self.stride,\n\u001b[0m\u001b[1;32m    460\u001b[0m                         self.padding, self.dilation, self.groups)\n\u001b[1;32m    461\u001b[0m \u001b[0;34m\u001b[0m\u001b[0m\n",
            "\u001b[0;31mRuntimeError\u001b[0m: Expected all tensors to be on the same device, but found at least two devices, cuda:0 and cpu! (when checking argument for argument weight in method wrapper___slow_conv2d_forward)"
          ]
        }
      ]
    },
    {
      "cell_type": "code",
      "execution_count": 31,
      "metadata": {
        "id": "kfUkISOpKPlv"
      },
      "outputs": [],
      "source": [
        "train_losses = []\n",
        "train_counter = []\n",
        "test_losses = []\n",
        "test_counter = [i*len(train_loader.dataset) for i in range(n_epochs + 1)]"
      ]
    },
    {
      "cell_type": "code",
      "execution_count": 32,
      "metadata": {
        "id": "2FuecJyZKPoh"
      },
      "outputs": [],
      "source": [
        "def train(epoch):\n",
        "  network.train()\n",
        "  for batch_idx, (data, target) in enumerate(train_loader):\n",
        "    optimizer.zero_grad()\n",
        "    output = network(data)\n",
        "    loss = F.nll_loss(output, target)\n",
        "    loss.backward()\n",
        "    optimizer.step()\n",
        "    if batch_idx % log_interval == 0:\n",
        "      print('Train Epoch: {} [{}/{} ({:.0f}%)]\\tLoss: {:.6f}'.format(\n",
        "        epoch, batch_idx * len(data), len(train_loader.dataset),\n",
        "        100. * batch_idx / len(train_loader), loss.item()))\n",
        "      train_losses.append(loss.item())\n",
        "      train_counter.append(\n",
        "        (batch_idx*64) + ((epoch-1)*len(train_loader.dataset)))\n",
        "      torch.save(network.state_dict(), '/model.pth')\n",
        "      torch.save(optimizer.state_dict(), '/optimizer.pth')"
      ]
    },
    {
      "cell_type": "code",
      "execution_count": 33,
      "metadata": {
        "id": "TcoJOz1kKjJX"
      },
      "outputs": [],
      "source": [
        "def test():\n",
        "  network.eval()\n",
        "  test_loss = 0\n",
        "  correct = 0\n",
        "  with torch.no_grad():\n",
        "    for data, target in test_loader:\n",
        "      output = network(data)\n",
        "      test_loss += F.nll_loss(output, target, size_average=False).item()\n",
        "      pred = output.data.max(1, keepdim=True)[1]\n",
        "      correct += pred.eq(target.data.view_as(pred)).sum()\n",
        "  test_loss /= len(test_loader.dataset)\n",
        "  test_losses.append(test_loss)\n",
        "  print('\\nTest set: Avg. loss: {:.4f}, Accuracy: {}/{} ({:.0f}%)\\n'.format(\n",
        "    test_loss, correct, len(test_loader.dataset),\n",
        "    100. * correct / len(test_loader.dataset)))"
      ]
    },
    {
      "cell_type": "code",
      "execution_count": 34,
      "metadata": {
        "colab": {
          "base_uri": "https://localhost:8080/"
        },
        "id": "ABIDzhe2KjSp",
        "outputId": "43b67bdf-6e3a-4e44-a256-7c610eb7fff3"
      },
      "outputs": [
        {
          "output_type": "stream",
          "name": "stderr",
          "text": [
            "<ipython-input-24-5dd3686f6f5e>:19: UserWarning: Implicit dimension choice for log_softmax has been deprecated. Change the call to include dim=X as an argument.\n",
            "  return F.log_softmax(x) # return the logged softmax of the 1-d\n",
            "/usr/local/lib/python3.8/dist-packages/torch/nn/_reduction.py:42: UserWarning: size_average and reduce args will be deprecated, please use reduction='sum' instead.\n",
            "  warnings.warn(warning.format(ret))\n"
          ]
        },
        {
          "output_type": "stream",
          "name": "stdout",
          "text": [
            "\n",
            "Test set: Avg. loss: 2.3022, Accuracy: 1090/10000 (11%)\n",
            "\n",
            "Train Epoch: 1 [0/60000 (0%)]\tLoss: 2.301951\n",
            "Train Epoch: 1 [640/60000 (1%)]\tLoss: 2.298777\n",
            "Train Epoch: 1 [1280/60000 (2%)]\tLoss: 2.300333\n",
            "Train Epoch: 1 [1920/60000 (3%)]\tLoss: 2.296467\n",
            "Train Epoch: 1 [2560/60000 (4%)]\tLoss: 2.295267\n",
            "Train Epoch: 1 [3200/60000 (5%)]\tLoss: 2.283780\n",
            "Train Epoch: 1 [3840/60000 (6%)]\tLoss: 2.282754\n",
            "Train Epoch: 1 [4480/60000 (7%)]\tLoss: 2.282407\n",
            "Train Epoch: 1 [5120/60000 (9%)]\tLoss: 2.262009\n",
            "Train Epoch: 1 [5760/60000 (10%)]\tLoss: 2.253828\n",
            "Train Epoch: 1 [6400/60000 (11%)]\tLoss: 2.232238\n",
            "Train Epoch: 1 [7040/60000 (12%)]\tLoss: 2.216086\n",
            "Train Epoch: 1 [7680/60000 (13%)]\tLoss: 2.186129\n",
            "Train Epoch: 1 [8320/60000 (14%)]\tLoss: 1.826902\n",
            "Train Epoch: 1 [8960/60000 (15%)]\tLoss: 1.120453\n",
            "Train Epoch: 1 [9600/60000 (16%)]\tLoss: 0.931636\n",
            "Train Epoch: 1 [10240/60000 (17%)]\tLoss: 0.585250\n",
            "Train Epoch: 1 [10880/60000 (18%)]\tLoss: 0.417665\n",
            "Train Epoch: 1 [11520/60000 (19%)]\tLoss: 0.455837\n",
            "Train Epoch: 1 [12160/60000 (20%)]\tLoss: 0.430342\n",
            "Train Epoch: 1 [12800/60000 (21%)]\tLoss: 0.470075\n",
            "Train Epoch: 1 [13440/60000 (22%)]\tLoss: 0.453786\n",
            "Train Epoch: 1 [14080/60000 (23%)]\tLoss: 0.485511\n",
            "Train Epoch: 1 [14720/60000 (25%)]\tLoss: 0.407416\n",
            "Train Epoch: 1 [15360/60000 (26%)]\tLoss: 0.378455\n",
            "Train Epoch: 1 [16000/60000 (27%)]\tLoss: 0.277145\n",
            "Train Epoch: 1 [16640/60000 (28%)]\tLoss: 0.398803\n",
            "Train Epoch: 1 [17280/60000 (29%)]\tLoss: 0.396552\n",
            "Train Epoch: 1 [17920/60000 (30%)]\tLoss: 0.365774\n",
            "Train Epoch: 1 [18560/60000 (31%)]\tLoss: 0.178319\n",
            "Train Epoch: 1 [19200/60000 (32%)]\tLoss: 0.274681\n",
            "Train Epoch: 1 [19840/60000 (33%)]\tLoss: 0.231053\n",
            "Train Epoch: 1 [20480/60000 (34%)]\tLoss: 0.426291\n",
            "Train Epoch: 1 [21120/60000 (35%)]\tLoss: 0.158216\n",
            "Train Epoch: 1 [21760/60000 (36%)]\tLoss: 0.304879\n",
            "Train Epoch: 1 [22400/60000 (37%)]\tLoss: 0.365166\n",
            "Train Epoch: 1 [23040/60000 (38%)]\tLoss: 0.500893\n",
            "Train Epoch: 1 [23680/60000 (39%)]\tLoss: 0.383003\n",
            "Train Epoch: 1 [24320/60000 (41%)]\tLoss: 0.198138\n",
            "Train Epoch: 1 [24960/60000 (42%)]\tLoss: 0.333876\n",
            "Train Epoch: 1 [25600/60000 (43%)]\tLoss: 0.141279\n",
            "Train Epoch: 1 [26240/60000 (44%)]\tLoss: 0.147250\n",
            "Train Epoch: 1 [26880/60000 (45%)]\tLoss: 0.201593\n",
            "Train Epoch: 1 [27520/60000 (46%)]\tLoss: 0.164874\n",
            "Train Epoch: 1 [28160/60000 (47%)]\tLoss: 0.209440\n",
            "Train Epoch: 1 [28800/60000 (48%)]\tLoss: 0.185227\n",
            "Train Epoch: 1 [29440/60000 (49%)]\tLoss: 0.284022\n",
            "Train Epoch: 1 [30080/60000 (50%)]\tLoss: 0.156689\n",
            "Train Epoch: 1 [30720/60000 (51%)]\tLoss: 0.279364\n",
            "Train Epoch: 1 [31360/60000 (52%)]\tLoss: 0.227893\n",
            "Train Epoch: 1 [32000/60000 (53%)]\tLoss: 0.128495\n",
            "Train Epoch: 1 [32640/60000 (54%)]\tLoss: 0.136601\n",
            "Train Epoch: 1 [33280/60000 (55%)]\tLoss: 0.134623\n",
            "Train Epoch: 1 [33920/60000 (57%)]\tLoss: 0.089883\n",
            "Train Epoch: 1 [34560/60000 (58%)]\tLoss: 0.179266\n",
            "Train Epoch: 1 [35200/60000 (59%)]\tLoss: 0.228192\n",
            "Train Epoch: 1 [35840/60000 (60%)]\tLoss: 0.057172\n",
            "Train Epoch: 1 [36480/60000 (61%)]\tLoss: 0.263787\n",
            "Train Epoch: 1 [37120/60000 (62%)]\tLoss: 0.239005\n",
            "Train Epoch: 1 [37760/60000 (63%)]\tLoss: 0.137562\n",
            "Train Epoch: 1 [38400/60000 (64%)]\tLoss: 0.108719\n",
            "Train Epoch: 1 [39040/60000 (65%)]\tLoss: 0.189666\n",
            "Train Epoch: 1 [39680/60000 (66%)]\tLoss: 0.210858\n",
            "Train Epoch: 1 [40320/60000 (67%)]\tLoss: 0.092502\n",
            "Train Epoch: 1 [40960/60000 (68%)]\tLoss: 0.265359\n",
            "Train Epoch: 1 [41600/60000 (69%)]\tLoss: 0.167791\n",
            "Train Epoch: 1 [42240/60000 (70%)]\tLoss: 0.346586\n",
            "Train Epoch: 1 [42880/60000 (71%)]\tLoss: 0.042857\n",
            "Train Epoch: 1 [43520/60000 (72%)]\tLoss: 0.096998\n",
            "Train Epoch: 1 [44160/60000 (74%)]\tLoss: 0.057334\n",
            "Train Epoch: 1 [44800/60000 (75%)]\tLoss: 0.104165\n",
            "Train Epoch: 1 [45440/60000 (76%)]\tLoss: 0.225037\n",
            "Train Epoch: 1 [46080/60000 (77%)]\tLoss: 0.210309\n",
            "Train Epoch: 1 [46720/60000 (78%)]\tLoss: 0.071484\n",
            "Train Epoch: 1 [47360/60000 (79%)]\tLoss: 0.194828\n",
            "Train Epoch: 1 [48000/60000 (80%)]\tLoss: 0.196783\n",
            "Train Epoch: 1 [48640/60000 (81%)]\tLoss: 0.309154\n",
            "Train Epoch: 1 [49280/60000 (82%)]\tLoss: 0.205527\n",
            "Train Epoch: 1 [49920/60000 (83%)]\tLoss: 0.121260\n",
            "Train Epoch: 1 [50560/60000 (84%)]\tLoss: 0.057653\n",
            "Train Epoch: 1 [51200/60000 (85%)]\tLoss: 0.074225\n",
            "Train Epoch: 1 [51840/60000 (86%)]\tLoss: 0.108713\n",
            "Train Epoch: 1 [52480/60000 (87%)]\tLoss: 0.113624\n",
            "Train Epoch: 1 [53120/60000 (88%)]\tLoss: 0.102971\n",
            "Train Epoch: 1 [53760/60000 (90%)]\tLoss: 0.136485\n",
            "Train Epoch: 1 [54400/60000 (91%)]\tLoss: 0.155957\n",
            "Train Epoch: 1 [55040/60000 (92%)]\tLoss: 0.167952\n",
            "Train Epoch: 1 [55680/60000 (93%)]\tLoss: 0.187129\n",
            "Train Epoch: 1 [56320/60000 (94%)]\tLoss: 0.184421\n",
            "Train Epoch: 1 [56960/60000 (95%)]\tLoss: 0.031210\n",
            "Train Epoch: 1 [57600/60000 (96%)]\tLoss: 0.065022\n",
            "Train Epoch: 1 [58240/60000 (97%)]\tLoss: 0.082246\n",
            "Train Epoch: 1 [58880/60000 (98%)]\tLoss: 0.112725\n",
            "Train Epoch: 1 [59520/60000 (99%)]\tLoss: 0.084137\n",
            "\n",
            "Test set: Avg. loss: 0.0956, Accuracy: 9691/10000 (97%)\n",
            "\n",
            "Train Epoch: 2 [0/60000 (0%)]\tLoss: 0.126104\n",
            "Train Epoch: 2 [640/60000 (1%)]\tLoss: 0.112142\n",
            "Train Epoch: 2 [1280/60000 (2%)]\tLoss: 0.113613\n",
            "Train Epoch: 2 [1920/60000 (3%)]\tLoss: 0.080369\n",
            "Train Epoch: 2 [2560/60000 (4%)]\tLoss: 0.108412\n",
            "Train Epoch: 2 [3200/60000 (5%)]\tLoss: 0.034840\n",
            "Train Epoch: 2 [3840/60000 (6%)]\tLoss: 0.047666\n",
            "Train Epoch: 2 [4480/60000 (7%)]\tLoss: 0.079210\n",
            "Train Epoch: 2 [5120/60000 (9%)]\tLoss: 0.022140\n",
            "Train Epoch: 2 [5760/60000 (10%)]\tLoss: 0.007488\n",
            "Train Epoch: 2 [6400/60000 (11%)]\tLoss: 0.023446\n",
            "Train Epoch: 2 [7040/60000 (12%)]\tLoss: 0.091519\n",
            "Train Epoch: 2 [7680/60000 (13%)]\tLoss: 0.077414\n",
            "Train Epoch: 2 [8320/60000 (14%)]\tLoss: 0.109911\n",
            "Train Epoch: 2 [8960/60000 (15%)]\tLoss: 0.102305\n",
            "Train Epoch: 2 [9600/60000 (16%)]\tLoss: 0.079962\n",
            "Train Epoch: 2 [10240/60000 (17%)]\tLoss: 0.017714\n",
            "Train Epoch: 2 [10880/60000 (18%)]\tLoss: 0.025583\n",
            "Train Epoch: 2 [11520/60000 (19%)]\tLoss: 0.093930\n",
            "Train Epoch: 2 [12160/60000 (20%)]\tLoss: 0.044709\n",
            "Train Epoch: 2 [12800/60000 (21%)]\tLoss: 0.142088\n",
            "Train Epoch: 2 [13440/60000 (22%)]\tLoss: 0.165844\n",
            "Train Epoch: 2 [14080/60000 (23%)]\tLoss: 0.066612\n",
            "Train Epoch: 2 [14720/60000 (25%)]\tLoss: 0.115033\n",
            "Train Epoch: 2 [15360/60000 (26%)]\tLoss: 0.201978\n",
            "Train Epoch: 2 [16000/60000 (27%)]\tLoss: 0.012410\n",
            "Train Epoch: 2 [16640/60000 (28%)]\tLoss: 0.115190\n",
            "Train Epoch: 2 [17280/60000 (29%)]\tLoss: 0.085196\n",
            "Train Epoch: 2 [17920/60000 (30%)]\tLoss: 0.224482\n",
            "Train Epoch: 2 [18560/60000 (31%)]\tLoss: 0.039104\n",
            "Train Epoch: 2 [19200/60000 (32%)]\tLoss: 0.024192\n",
            "Train Epoch: 2 [19840/60000 (33%)]\tLoss: 0.053438\n",
            "Train Epoch: 2 [20480/60000 (34%)]\tLoss: 0.051952\n",
            "Train Epoch: 2 [21120/60000 (35%)]\tLoss: 0.057934\n",
            "Train Epoch: 2 [21760/60000 (36%)]\tLoss: 0.037073\n",
            "Train Epoch: 2 [22400/60000 (37%)]\tLoss: 0.011989\n",
            "Train Epoch: 2 [23040/60000 (38%)]\tLoss: 0.080775\n",
            "Train Epoch: 2 [23680/60000 (39%)]\tLoss: 0.089107\n",
            "Train Epoch: 2 [24320/60000 (41%)]\tLoss: 0.097715\n",
            "Train Epoch: 2 [24960/60000 (42%)]\tLoss: 0.054531\n",
            "Train Epoch: 2 [25600/60000 (43%)]\tLoss: 0.063244\n",
            "Train Epoch: 2 [26240/60000 (44%)]\tLoss: 0.059587\n",
            "Train Epoch: 2 [26880/60000 (45%)]\tLoss: 0.083731\n",
            "Train Epoch: 2 [27520/60000 (46%)]\tLoss: 0.094436\n",
            "Train Epoch: 2 [28160/60000 (47%)]\tLoss: 0.225094\n",
            "Train Epoch: 2 [28800/60000 (48%)]\tLoss: 0.092062\n",
            "Train Epoch: 2 [29440/60000 (49%)]\tLoss: 0.110298\n",
            "Train Epoch: 2 [30080/60000 (50%)]\tLoss: 0.035934\n",
            "Train Epoch: 2 [30720/60000 (51%)]\tLoss: 0.109441\n",
            "Train Epoch: 2 [31360/60000 (52%)]\tLoss: 0.147025\n",
            "Train Epoch: 2 [32000/60000 (53%)]\tLoss: 0.109889\n",
            "Train Epoch: 2 [32640/60000 (54%)]\tLoss: 0.127842\n",
            "Train Epoch: 2 [33280/60000 (55%)]\tLoss: 0.052141\n",
            "Train Epoch: 2 [33920/60000 (57%)]\tLoss: 0.124047\n",
            "Train Epoch: 2 [34560/60000 (58%)]\tLoss: 0.097774\n",
            "Train Epoch: 2 [35200/60000 (59%)]\tLoss: 0.143833\n",
            "Train Epoch: 2 [35840/60000 (60%)]\tLoss: 0.002261\n",
            "Train Epoch: 2 [36480/60000 (61%)]\tLoss: 0.090910\n",
            "Train Epoch: 2 [37120/60000 (62%)]\tLoss: 0.063887\n",
            "Train Epoch: 2 [37760/60000 (63%)]\tLoss: 0.116612\n",
            "Train Epoch: 2 [38400/60000 (64%)]\tLoss: 0.114119\n",
            "Train Epoch: 2 [39040/60000 (65%)]\tLoss: 0.064932\n",
            "Train Epoch: 2 [39680/60000 (66%)]\tLoss: 0.074296\n",
            "Train Epoch: 2 [40320/60000 (67%)]\tLoss: 0.214801\n",
            "Train Epoch: 2 [40960/60000 (68%)]\tLoss: 0.078314\n",
            "Train Epoch: 2 [41600/60000 (69%)]\tLoss: 0.055116\n",
            "Train Epoch: 2 [42240/60000 (70%)]\tLoss: 0.012558\n",
            "Train Epoch: 2 [42880/60000 (71%)]\tLoss: 0.064744\n",
            "Train Epoch: 2 [43520/60000 (72%)]\tLoss: 0.145189\n",
            "Train Epoch: 2 [44160/60000 (74%)]\tLoss: 0.062484\n",
            "Train Epoch: 2 [44800/60000 (75%)]\tLoss: 0.077555\n",
            "Train Epoch: 2 [45440/60000 (76%)]\tLoss: 0.121382\n",
            "Train Epoch: 2 [46080/60000 (77%)]\tLoss: 0.044965\n",
            "Train Epoch: 2 [46720/60000 (78%)]\tLoss: 0.056013\n",
            "Train Epoch: 2 [47360/60000 (79%)]\tLoss: 0.015491\n",
            "Train Epoch: 2 [48000/60000 (80%)]\tLoss: 0.015349\n",
            "Train Epoch: 2 [48640/60000 (81%)]\tLoss: 0.026826\n",
            "Train Epoch: 2 [49280/60000 (82%)]\tLoss: 0.044725\n",
            "Train Epoch: 2 [49920/60000 (83%)]\tLoss: 0.036953\n",
            "Train Epoch: 2 [50560/60000 (84%)]\tLoss: 0.066908\n",
            "Train Epoch: 2 [51200/60000 (85%)]\tLoss: 0.162339\n",
            "Train Epoch: 2 [51840/60000 (86%)]\tLoss: 0.020309\n",
            "Train Epoch: 2 [52480/60000 (87%)]\tLoss: 0.042966\n",
            "Train Epoch: 2 [53120/60000 (88%)]\tLoss: 0.040131\n",
            "Train Epoch: 2 [53760/60000 (90%)]\tLoss: 0.061402\n",
            "Train Epoch: 2 [54400/60000 (91%)]\tLoss: 0.054688\n",
            "Train Epoch: 2 [55040/60000 (92%)]\tLoss: 0.117359\n",
            "Train Epoch: 2 [55680/60000 (93%)]\tLoss: 0.079729\n",
            "Train Epoch: 2 [56320/60000 (94%)]\tLoss: 0.064898\n",
            "Train Epoch: 2 [56960/60000 (95%)]\tLoss: 0.004617\n",
            "Train Epoch: 2 [57600/60000 (96%)]\tLoss: 0.012741\n",
            "Train Epoch: 2 [58240/60000 (97%)]\tLoss: 0.098082\n",
            "Train Epoch: 2 [58880/60000 (98%)]\tLoss: 0.068226\n",
            "Train Epoch: 2 [59520/60000 (99%)]\tLoss: 0.142469\n",
            "\n",
            "Test set: Avg. loss: 0.0598, Accuracy: 9798/10000 (98%)\n",
            "\n",
            "Train Epoch: 3 [0/60000 (0%)]\tLoss: 0.083863\n",
            "Train Epoch: 3 [640/60000 (1%)]\tLoss: 0.036200\n",
            "Train Epoch: 3 [1280/60000 (2%)]\tLoss: 0.022098\n",
            "Train Epoch: 3 [1920/60000 (3%)]\tLoss: 0.096827\n",
            "Train Epoch: 3 [2560/60000 (4%)]\tLoss: 0.041828\n",
            "Train Epoch: 3 [3200/60000 (5%)]\tLoss: 0.032264\n",
            "Train Epoch: 3 [3840/60000 (6%)]\tLoss: 0.072269\n",
            "Train Epoch: 3 [4480/60000 (7%)]\tLoss: 0.250617\n",
            "Train Epoch: 3 [5120/60000 (9%)]\tLoss: 0.005583\n",
            "Train Epoch: 3 [5760/60000 (10%)]\tLoss: 0.050010\n",
            "Train Epoch: 3 [6400/60000 (11%)]\tLoss: 0.058893\n",
            "Train Epoch: 3 [7040/60000 (12%)]\tLoss: 0.066245\n",
            "Train Epoch: 3 [7680/60000 (13%)]\tLoss: 0.046345\n",
            "Train Epoch: 3 [8320/60000 (14%)]\tLoss: 0.213522\n",
            "Train Epoch: 3 [8960/60000 (15%)]\tLoss: 0.058067\n",
            "Train Epoch: 3 [9600/60000 (16%)]\tLoss: 0.098879\n",
            "Train Epoch: 3 [10240/60000 (17%)]\tLoss: 0.042606\n",
            "Train Epoch: 3 [10880/60000 (18%)]\tLoss: 0.037448\n",
            "Train Epoch: 3 [11520/60000 (19%)]\tLoss: 0.008563\n",
            "Train Epoch: 3 [12160/60000 (20%)]\tLoss: 0.044197\n",
            "Train Epoch: 3 [12800/60000 (21%)]\tLoss: 0.137796\n",
            "Train Epoch: 3 [13440/60000 (22%)]\tLoss: 0.054407\n",
            "Train Epoch: 3 [14080/60000 (23%)]\tLoss: 0.022317\n",
            "Train Epoch: 3 [14720/60000 (25%)]\tLoss: 0.120058\n",
            "Train Epoch: 3 [15360/60000 (26%)]\tLoss: 0.109482\n",
            "Train Epoch: 3 [16000/60000 (27%)]\tLoss: 0.037664\n",
            "Train Epoch: 3 [16640/60000 (28%)]\tLoss: 0.026479\n",
            "Train Epoch: 3 [17280/60000 (29%)]\tLoss: 0.012782\n",
            "Train Epoch: 3 [17920/60000 (30%)]\tLoss: 0.031601\n",
            "Train Epoch: 3 [18560/60000 (31%)]\tLoss: 0.149001\n",
            "Train Epoch: 3 [19200/60000 (32%)]\tLoss: 0.027238\n",
            "Train Epoch: 3 [19840/60000 (33%)]\tLoss: 0.019206\n",
            "Train Epoch: 3 [20480/60000 (34%)]\tLoss: 0.024052\n",
            "Train Epoch: 3 [21120/60000 (35%)]\tLoss: 0.007348\n",
            "Train Epoch: 3 [21760/60000 (36%)]\tLoss: 0.095698\n",
            "Train Epoch: 3 [22400/60000 (37%)]\tLoss: 0.021387\n",
            "Train Epoch: 3 [23040/60000 (38%)]\tLoss: 0.027495\n",
            "Train Epoch: 3 [23680/60000 (39%)]\tLoss: 0.170528\n",
            "Train Epoch: 3 [24320/60000 (41%)]\tLoss: 0.046558\n",
            "Train Epoch: 3 [24960/60000 (42%)]\tLoss: 0.034813\n",
            "Train Epoch: 3 [25600/60000 (43%)]\tLoss: 0.029357\n",
            "Train Epoch: 3 [26240/60000 (44%)]\tLoss: 0.127543\n",
            "Train Epoch: 3 [26880/60000 (45%)]\tLoss: 0.035056\n",
            "Train Epoch: 3 [27520/60000 (46%)]\tLoss: 0.037653\n",
            "Train Epoch: 3 [28160/60000 (47%)]\tLoss: 0.030246\n",
            "Train Epoch: 3 [28800/60000 (48%)]\tLoss: 0.017982\n",
            "Train Epoch: 3 [29440/60000 (49%)]\tLoss: 0.107024\n",
            "Train Epoch: 3 [30080/60000 (50%)]\tLoss: 0.032179\n",
            "Train Epoch: 3 [30720/60000 (51%)]\tLoss: 0.104668\n",
            "Train Epoch: 3 [31360/60000 (52%)]\tLoss: 0.015175\n",
            "Train Epoch: 3 [32000/60000 (53%)]\tLoss: 0.032768\n",
            "Train Epoch: 3 [32640/60000 (54%)]\tLoss: 0.051366\n",
            "Train Epoch: 3 [33280/60000 (55%)]\tLoss: 0.018958\n",
            "Train Epoch: 3 [33920/60000 (57%)]\tLoss: 0.019905\n",
            "Train Epoch: 3 [34560/60000 (58%)]\tLoss: 0.014769\n",
            "Train Epoch: 3 [35200/60000 (59%)]\tLoss: 0.054736\n",
            "Train Epoch: 3 [35840/60000 (60%)]\tLoss: 0.023888\n",
            "Train Epoch: 3 [36480/60000 (61%)]\tLoss: 0.039977\n",
            "Train Epoch: 3 [37120/60000 (62%)]\tLoss: 0.005344\n",
            "Train Epoch: 3 [37760/60000 (63%)]\tLoss: 0.034278\n",
            "Train Epoch: 3 [38400/60000 (64%)]\tLoss: 0.039867\n",
            "Train Epoch: 3 [39040/60000 (65%)]\tLoss: 0.100293\n",
            "Train Epoch: 3 [39680/60000 (66%)]\tLoss: 0.042323\n",
            "Train Epoch: 3 [40320/60000 (67%)]\tLoss: 0.005155\n",
            "Train Epoch: 3 [40960/60000 (68%)]\tLoss: 0.014259\n",
            "Train Epoch: 3 [41600/60000 (69%)]\tLoss: 0.024470\n",
            "Train Epoch: 3 [42240/60000 (70%)]\tLoss: 0.143009\n",
            "Train Epoch: 3 [42880/60000 (71%)]\tLoss: 0.052023\n",
            "Train Epoch: 3 [43520/60000 (72%)]\tLoss: 0.111684\n",
            "Train Epoch: 3 [44160/60000 (74%)]\tLoss: 0.045488\n",
            "Train Epoch: 3 [44800/60000 (75%)]\tLoss: 0.104245\n",
            "Train Epoch: 3 [45440/60000 (76%)]\tLoss: 0.054059\n",
            "Train Epoch: 3 [46080/60000 (77%)]\tLoss: 0.023797\n",
            "Train Epoch: 3 [46720/60000 (78%)]\tLoss: 0.042174\n",
            "Train Epoch: 3 [47360/60000 (79%)]\tLoss: 0.115577\n",
            "Train Epoch: 3 [48000/60000 (80%)]\tLoss: 0.025456\n",
            "Train Epoch: 3 [48640/60000 (81%)]\tLoss: 0.101221\n",
            "Train Epoch: 3 [49280/60000 (82%)]\tLoss: 0.027448\n",
            "Train Epoch: 3 [49920/60000 (83%)]\tLoss: 0.038359\n",
            "Train Epoch: 3 [50560/60000 (84%)]\tLoss: 0.027029\n",
            "Train Epoch: 3 [51200/60000 (85%)]\tLoss: 0.020686\n",
            "Train Epoch: 3 [51840/60000 (86%)]\tLoss: 0.023471\n",
            "Train Epoch: 3 [52480/60000 (87%)]\tLoss: 0.031126\n",
            "Train Epoch: 3 [53120/60000 (88%)]\tLoss: 0.057179\n",
            "Train Epoch: 3 [53760/60000 (90%)]\tLoss: 0.039518\n",
            "Train Epoch: 3 [54400/60000 (91%)]\tLoss: 0.042124\n",
            "Train Epoch: 3 [55040/60000 (92%)]\tLoss: 0.001469\n",
            "Train Epoch: 3 [55680/60000 (93%)]\tLoss: 0.051348\n",
            "Train Epoch: 3 [56320/60000 (94%)]\tLoss: 0.092042\n",
            "Train Epoch: 3 [56960/60000 (95%)]\tLoss: 0.007343\n",
            "Train Epoch: 3 [57600/60000 (96%)]\tLoss: 0.047536\n",
            "Train Epoch: 3 [58240/60000 (97%)]\tLoss: 0.013030\n",
            "Train Epoch: 3 [58880/60000 (98%)]\tLoss: 0.133654\n",
            "Train Epoch: 3 [59520/60000 (99%)]\tLoss: 0.017891\n",
            "\n",
            "Test set: Avg. loss: 0.0404, Accuracy: 9866/10000 (99%)\n",
            "\n"
          ]
        }
      ],
      "source": [
        "test()\n",
        "for epoch in range(1, n_epochs + 1):\n",
        "  train(epoch)\n",
        "  test()"
      ]
    },
    {
      "cell_type": "code",
      "execution_count": 36,
      "metadata": {
        "colab": {
          "base_uri": "https://localhost:8080/",
          "height": 541
        },
        "id": "n_kVGqGtKpFv",
        "outputId": "9a70f7bc-abbe-48a0-9b93-997b003633d9"
      },
      "outputs": [
        {
          "output_type": "execute_result",
          "data": {
            "text/plain": [
              "<Figure size 432x288 with 1 Axes>"
            ],
            "image/png": "[encoded data removed]"
          },
          "metadata": {},
          "execution_count": 36
        },
        {
          "output_type": "display_data",
          "data": {
            "text/plain": [
              "<Figure size 432x288 with 1 Axes>"
            ],
            "image/png": "[encoded data removed]"
          },
          "metadata": {
            "needs_background": "light"
          }
        }
      ],
      "source": [
        "fig = plt.figure()\n",
        "plt.plot(train_counter, train_losses, color='blue')\n",
        "plt.scatter(test_counter, test_losses, color='red')\n",
        "plt.legend(['Train Loss', 'Test Loss'], loc='upper right')\n",
        "plt.xlabel('number of training examples seen')\n",
        "plt.ylabel('negative log likelihood loss')\n",
        "fig"
      ]
    },
    {
      "cell_type": "code",
      "source": [],
      "metadata": {
        "id": "h851ybdi7u33"
      },
      "execution_count": null,
      "outputs": []
    }
  ],
  "metadata": {
    "accelerator": "GPU",
    "colab": {
      "provenance": [],
      "authorship_tag": "ABX9TyOE5tMjAYeN0M8tdNpwaEuy",
      "include_colab_link": true
    },
    "gpuClass": "standard",
    "kernelspec": {
      "display_name": "Python 3",
      "name": "python3"
    },
    "language_info": {
      "name": "python"
    }
  },
  "nbformat": 4,
  "nbformat_minor": 0
}