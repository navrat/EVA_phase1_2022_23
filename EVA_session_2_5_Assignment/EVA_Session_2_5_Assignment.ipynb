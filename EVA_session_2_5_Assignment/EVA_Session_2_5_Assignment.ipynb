{
  "nbformat": 4,
  "nbformat_minor": 0,
  "metadata": {
    "colab": {
      "provenance": [],
      "authorship_tag": "ABX9TyM4ZeEHgI72cD6xte0KmWKa",
      "include_colab_link": true
    },
    "kernelspec": {
      "name": "python3",
      "display_name": "Python 3"
    },
    "language_info": {
      "name": "python"
    }
  },
  "cells": [
    {
      "cell_type": "markdown",
      "metadata": {
        "id": "view-in-github",
        "colab_type": "text"
      },
      "source": [
        "<a href=\"https://colab.research.google.com/github/navrat/EVA_phase1_2022_23/blob/main/EVA_session_2_5_Assignment/EVA_Session_2_5_Assignment.ipynb\" target=\"_parent\"><img src=\"https://colab.research.google.com/assets/colab-badge.svg\" alt=\"Open In Colab\"/></a>"
      ]
    },
    {
      "cell_type": "code",
      "execution_count": 20,
      "metadata": {
        "id": "41y4dOtJU1Ld"
      },
      "outputs": [],
      "source": [
        "import numpy as np\n",
        "import torch\n",
        "import torchvision\n",
        "import matplotlib.pyplot as plt\n",
        "from time import time\n",
        "from torchvision import datasets, transforms\n",
        "from torch import nn, optim\n",
        "import torch.nn.functional as F\n"
      ]
    },
    {
      "cell_type": "code",
      "source": [
        "n_epochs = 3\n",
        "batch_size_train = 64\n",
        "batch_size_test = 1000\n",
        "learning_rate = 0.01\n",
        "momentum = 0.5\n",
        "log_interval = 10\n",
        "\n",
        "random_seed = 1\n",
        "torch.backends.cudnn.enabled = False\n",
        "torch.manual_seed(random_seed)"
      ],
      "metadata": {
        "colab": {
          "base_uri": "https://localhost:8080/"
        },
        "id": "7xmogPrFKPbI",
        "outputId": "bbd9eb72-21b8-4907-f15d-a08995234538"
      },
      "execution_count": 9,
      "outputs": [
        {
          "output_type": "execute_result",
          "data": {
            "text/plain": [
              "<torch._C.Generator at 0x7fb2cde18630>"
            ]
          },
          "metadata": {},
          "execution_count": 9
        }
      ]
    },
    {
      "cell_type": "code",
      "source": [
        "train_loader = torch.utils.data.DataLoader(\n",
        "  torchvision.datasets.MNIST('/files/', train=True, download=True,\n",
        "                             transform=torchvision.transforms.Compose([\n",
        "                               torchvision.transforms.ToTensor(),\n",
        "                               torchvision.transforms.Normalize(\n",
        "                                 (0.1307,), (0.3081,))\n",
        "                             ])),\n",
        "  batch_size=batch_size_train, shuffle=True)\n",
        "\n",
        "test_loader = torch.utils.data.DataLoader(\n",
        "  torchvision.datasets.MNIST('/files/', train=False, download=True,\n",
        "                             transform=torchvision.transforms.Compose([\n",
        "                               torchvision.transforms.ToTensor(),\n",
        "                               torchvision.transforms.Normalize(\n",
        "                                 (0.1307,), (0.3081,))\n",
        "                             ])),\n",
        "  batch_size=batch_size_test, shuffle=True)"
      ],
      "metadata": {
        "id": "LMqtDH1aKPd_"
      },
      "execution_count": 10,
      "outputs": []
    },
    {
      "cell_type": "code",
      "source": [
        "examples = enumerate(test_loader)\n",
        "batch_idx, (example_data, example_targets) = next(examples)"
      ],
      "metadata": {
        "id": "95LL-CbQKPgw"
      },
      "execution_count": 11,
      "outputs": []
    },
    {
      "cell_type": "code",
      "source": [
        "example_data.shape"
      ],
      "metadata": {
        "colab": {
          "base_uri": "https://localhost:8080/"
        },
        "id": "5eQ15TMlKPjb",
        "outputId": "8c9ed5b3-863d-472c-8c01-64af185b082e"
      },
      "execution_count": 12,
      "outputs": [
        {
          "output_type": "execute_result",
          "data": {
            "text/plain": [
              "torch.Size([1000, 1, 28, 28])"
            ]
          },
          "metadata": {},
          "execution_count": 12
        }
      ]
    },
    {
      "cell_type": "code",
      "source": [
        "import matplotlib.pyplot as plt\n",
        "\n",
        "fig = plt.figure()\n",
        "for i in range(6):\n",
        "  plt.subplot(2,3,i+1)\n",
        "  plt.tight_layout()\n",
        "  plt.imshow(example_data[i][0], cmap='gray', interpolation='none')\n",
        "  plt.title(\"Ground Truth: {}\".format(example_targets[i]))\n",
        "  plt.xticks([])\n",
        "  plt.yticks([])\n",
        "fig"
      ],
      "metadata": {
        "colab": {
          "base_uri": "https://localhost:8080/",
          "height": 551
        },
        "id": "8Ci1ZfoLKW5X",
        "outputId": "58886b8b-3ee6-4a25-f63d-840e5a0a2a8b"
      },
      "execution_count": 13,
      "outputs": [
        {
          "output_type": "execute_result",
          "data": {
            "text/plain": [
              "<Figure size 432x288 with 6 Axes>"
            ],
            "image/png": "[encoded data removed]"
          },
          "metadata": {},
          "execution_count": 13
        },
        {
          "output_type": "display_data",
          "data": {
            "text/plain": [
              "<Figure size 432x288 with 6 Axes>"
            ],
            "image/png": "[encoded data removed]"
          },
          "metadata": {}
        }
      ]
    },
    {
      "cell_type": "code",
      "source": [],
      "metadata": {
        "id": "Ardc6_vyMV8b"
      },
      "execution_count": null,
      "outputs": []
    },
    {
      "cell_type": "code",
      "source": [
        "class Net(nn.Module):\n",
        "    def __init__(self):\n",
        "        super(Net, self).__init__()\n",
        "        self.conv1 = nn.Conv2d(1, 10, kernel_size=5)\n",
        "        self.conv2 = nn.Conv2d(10, 20, kernel_size=5)\n",
        "        self.conv2_drop = nn.Dropout2d()\n",
        "        self.fc1 = nn.Linear(320, 50)\n",
        "        self.fc2 = nn.Linear(50, 10)\n",
        "\n",
        "    def forward(self, x):\n",
        "        x = F.relu(F.max_pool2d(self.conv1(x), 2))\n",
        "        x = F.relu(F.max_pool2d(self.conv2_drop(self.conv2(x)), 2))\n",
        "        x = x.view(-1, 320)\n",
        "        x = F.relu(self.fc1(x))\n",
        "        x = F.dropout(x, training=self.training)\n",
        "        x = self.fc2(x)\n",
        "        return F.log_softmax(x)"
      ],
      "metadata": {
        "id": "5tDVfgoXKXB4"
      },
      "execution_count": 21,
      "outputs": []
    },
    {
      "cell_type": "code",
      "source": [
        "network = Net()\n",
        "optimizer = optim.SGD(network.parameters(), lr=learning_rate,\n",
        "                      momentum=momentum)"
      ],
      "metadata": {
        "id": "K6u2qvIQKXJv"
      },
      "execution_count": 22,
      "outputs": []
    },
    {
      "cell_type": "code",
      "source": [
        "train_losses = []\n",
        "train_counter = []\n",
        "test_losses = []\n",
        "test_counter = [i*len(train_loader.dataset) for i in range(n_epochs + 1)]"
      ],
      "metadata": {
        "id": "kfUkISOpKPlv"
      },
      "execution_count": 23,
      "outputs": []
    },
    {
      "cell_type": "code",
      "source": [
        "def train(epoch):\n",
        "  network.train()\n",
        "  for batch_idx, (data, target) in enumerate(train_loader):\n",
        "    optimizer.zero_grad()\n",
        "    output = network(data)\n",
        "    loss = F.nll_loss(output, target)\n",
        "    loss.backward()\n",
        "    optimizer.step()\n",
        "    if batch_idx % log_interval == 0:\n",
        "      print('Train Epoch: {} [{}/{} ({:.0f}%)]\\tLoss: {:.6f}'.format(\n",
        "        epoch, batch_idx * len(data), len(train_loader.dataset),\n",
        "        100. * batch_idx / len(train_loader), loss.item()))\n",
        "      train_losses.append(loss.item())\n",
        "      train_counter.append(\n",
        "        (batch_idx*64) + ((epoch-1)*len(train_loader.dataset)))\n",
        "      torch.save(network.state_dict(), '/model.pth')\n",
        "      torch.save(optimizer.state_dict(), '/optimizer.pth')"
      ],
      "metadata": {
        "id": "2FuecJyZKPoh"
      },
      "execution_count": 27,
      "outputs": []
    },
    {
      "cell_type": "code",
      "source": [
        "def test():\n",
        "  network.eval()\n",
        "  test_loss = 0\n",
        "  correct = 0\n",
        "  with torch.no_grad():\n",
        "    for data, target in test_loader:\n",
        "      output = network(data)\n",
        "      test_loss += F.nll_loss(output, target, size_average=False).item()\n",
        "      pred = output.data.max(1, keepdim=True)[1]\n",
        "      correct += pred.eq(target.data.view_as(pred)).sum()\n",
        "  test_loss /= len(test_loader.dataset)\n",
        "  test_losses.append(test_loss)\n",
        "  print('\\nTest set: Avg. loss: {:.4f}, Accuracy: {}/{} ({:.0f}%)\\n'.format(\n",
        "    test_loss, correct, len(test_loader.dataset),\n",
        "    100. * correct / len(test_loader.dataset)))"
      ],
      "metadata": {
        "id": "TcoJOz1kKjJX"
      },
      "execution_count": 28,
      "outputs": []
    },
    {
      "cell_type": "code",
      "source": [
        "test()\n",
        "for epoch in range(1, n_epochs + 1):\n",
        "  train(epoch)\n",
        "  test()"
      ],
      "metadata": {
        "colab": {
          "base_uri": "https://localhost:8080/"
        },
        "id": "ABIDzhe2KjSp",
        "outputId": "c3a88eac-b80d-4b68-cd22-da66fccad65e"
      },
      "execution_count": 29,
      "outputs": [
        {
          "output_type": "stream",
          "name": "stderr",
          "text": [
            "<ipython-input-21-6c2218f37724>:17: UserWarning: Implicit dimension choice for log_softmax has been deprecated. Change the call to include dim=X as an argument.\n",
            "  return F.log_softmax(x)\n"
          ]
        },
        {
          "output_type": "stream",
          "name": "stdout",
          "text": [
            "\n",
            "Test set: Avg. loss: 2.3026, Accuracy: 1270/10000 (13%)\n",
            "\n",
            "Train Epoch: 1 [0/60000 (0%)]\tLoss: 2.361840\n",
            "Train Epoch: 1 [640/60000 (1%)]\tLoss: 2.332938\n",
            "Train Epoch: 1 [1280/60000 (2%)]\tLoss: 2.303986\n",
            "Train Epoch: 1 [1920/60000 (3%)]\tLoss: 2.281353\n",
            "Train Epoch: 1 [2560/60000 (4%)]\tLoss: 2.262539\n",
            "Train Epoch: 1 [3200/60000 (5%)]\tLoss: 2.228609\n",
            "Train Epoch: 1 [3840/60000 (6%)]\tLoss: 2.197650\n",
            "Train Epoch: 1 [4480/60000 (7%)]\tLoss: 2.201648\n",
            "Train Epoch: 1 [5120/60000 (9%)]\tLoss: 2.132595\n",
            "Train Epoch: 1 [5760/60000 (10%)]\tLoss: 2.098916\n",
            "Train Epoch: 1 [6400/60000 (11%)]\tLoss: 2.001792\n",
            "Train Epoch: 1 [7040/60000 (12%)]\tLoss: 1.958176\n",
            "Train Epoch: 1 [7680/60000 (13%)]\tLoss: 1.724623\n",
            "Train Epoch: 1 [8320/60000 (14%)]\tLoss: 1.787297\n",
            "Train Epoch: 1 [8960/60000 (15%)]\tLoss: 1.612451\n",
            "Train Epoch: 1 [9600/60000 (16%)]\tLoss: 1.445848\n",
            "Train Epoch: 1 [10240/60000 (17%)]\tLoss: 1.474914\n",
            "Train Epoch: 1 [10880/60000 (18%)]\tLoss: 1.371657\n",
            "Train Epoch: 1 [11520/60000 (19%)]\tLoss: 1.368660\n",
            "Train Epoch: 1 [12160/60000 (20%)]\tLoss: 1.327750\n",
            "Train Epoch: 1 [12800/60000 (21%)]\tLoss: 1.258197\n",
            "Train Epoch: 1 [13440/60000 (22%)]\tLoss: 1.372650\n",
            "Train Epoch: 1 [14080/60000 (23%)]\tLoss: 1.093593\n",
            "Train Epoch: 1 [14720/60000 (25%)]\tLoss: 1.188246\n",
            "Train Epoch: 1 [15360/60000 (26%)]\tLoss: 1.042664\n",
            "Train Epoch: 1 [16000/60000 (27%)]\tLoss: 0.946794\n",
            "Train Epoch: 1 [16640/60000 (28%)]\tLoss: 0.963655\n",
            "Train Epoch: 1 [17280/60000 (29%)]\tLoss: 0.863503\n",
            "Train Epoch: 1 [17920/60000 (30%)]\tLoss: 0.952595\n",
            "Train Epoch: 1 [18560/60000 (31%)]\tLoss: 0.927247\n",
            "Train Epoch: 1 [19200/60000 (32%)]\tLoss: 0.958054\n",
            "Train Epoch: 1 [19840/60000 (33%)]\tLoss: 0.673446\n",
            "Train Epoch: 1 [20480/60000 (34%)]\tLoss: 0.972675\n",
            "Train Epoch: 1 [21120/60000 (35%)]\tLoss: 0.702408\n",
            "Train Epoch: 1 [21760/60000 (36%)]\tLoss: 1.177067\n",
            "Train Epoch: 1 [22400/60000 (37%)]\tLoss: 0.953967\n",
            "Train Epoch: 1 [23040/60000 (38%)]\tLoss: 0.713592\n",
            "Train Epoch: 1 [23680/60000 (39%)]\tLoss: 0.761466\n",
            "Train Epoch: 1 [24320/60000 (41%)]\tLoss: 0.761438\n",
            "Train Epoch: 1 [24960/60000 (42%)]\tLoss: 0.740118\n",
            "Train Epoch: 1 [25600/60000 (43%)]\tLoss: 0.483504\n",
            "Train Epoch: 1 [26240/60000 (44%)]\tLoss: 0.657021\n",
            "Train Epoch: 1 [26880/60000 (45%)]\tLoss: 0.587774\n",
            "Train Epoch: 1 [27520/60000 (46%)]\tLoss: 0.775043\n",
            "Train Epoch: 1 [28160/60000 (47%)]\tLoss: 0.617450\n",
            "Train Epoch: 1 [28800/60000 (48%)]\tLoss: 0.875076\n",
            "Train Epoch: 1 [29440/60000 (49%)]\tLoss: 0.595199\n",
            "Train Epoch: 1 [30080/60000 (50%)]\tLoss: 0.731438\n",
            "Train Epoch: 1 [30720/60000 (51%)]\tLoss: 0.532691\n",
            "Train Epoch: 1 [31360/60000 (52%)]\tLoss: 0.641634\n",
            "Train Epoch: 1 [32000/60000 (53%)]\tLoss: 0.565570\n",
            "Train Epoch: 1 [32640/60000 (54%)]\tLoss: 0.599027\n",
            "Train Epoch: 1 [33280/60000 (55%)]\tLoss: 0.656136\n",
            "Train Epoch: 1 [33920/60000 (57%)]\tLoss: 0.554404\n",
            "Train Epoch: 1 [34560/60000 (58%)]\tLoss: 0.462910\n",
            "Train Epoch: 1 [35200/60000 (59%)]\tLoss: 0.656318\n",
            "Train Epoch: 1 [35840/60000 (60%)]\tLoss: 0.709092\n",
            "Train Epoch: 1 [36480/60000 (61%)]\tLoss: 0.700277\n",
            "Train Epoch: 1 [37120/60000 (62%)]\tLoss: 0.638447\n",
            "Train Epoch: 1 [37760/60000 (63%)]\tLoss: 0.570351\n",
            "Train Epoch: 1 [38400/60000 (64%)]\tLoss: 0.647308\n",
            "Train Epoch: 1 [39040/60000 (65%)]\tLoss: 0.783956\n",
            "Train Epoch: 1 [39680/60000 (66%)]\tLoss: 0.523416\n",
            "Train Epoch: 1 [40320/60000 (67%)]\tLoss: 0.526947\n",
            "Train Epoch: 1 [40960/60000 (68%)]\tLoss: 0.684913\n",
            "Train Epoch: 1 [41600/60000 (69%)]\tLoss: 0.576221\n",
            "Train Epoch: 1 [42240/60000 (70%)]\tLoss: 0.739711\n",
            "Train Epoch: 1 [42880/60000 (71%)]\tLoss: 0.809062\n",
            "Train Epoch: 1 [43520/60000 (72%)]\tLoss: 0.532503\n",
            "Train Epoch: 1 [44160/60000 (74%)]\tLoss: 0.607123\n",
            "Train Epoch: 1 [44800/60000 (75%)]\tLoss: 0.396534\n",
            "Train Epoch: 1 [45440/60000 (76%)]\tLoss: 0.394060\n",
            "Train Epoch: 1 [46080/60000 (77%)]\tLoss: 0.465840\n",
            "Train Epoch: 1 [46720/60000 (78%)]\tLoss: 0.725463\n",
            "Train Epoch: 1 [47360/60000 (79%)]\tLoss: 0.448861\n",
            "Train Epoch: 1 [48000/60000 (80%)]\tLoss: 0.474632\n",
            "Train Epoch: 1 [48640/60000 (81%)]\tLoss: 0.374885\n",
            "Train Epoch: 1 [49280/60000 (82%)]\tLoss: 0.531191\n",
            "Train Epoch: 1 [49920/60000 (83%)]\tLoss: 0.502751\n",
            "Train Epoch: 1 [50560/60000 (84%)]\tLoss: 0.548411\n",
            "Train Epoch: 1 [51200/60000 (85%)]\tLoss: 0.387893\n",
            "Train Epoch: 1 [51840/60000 (86%)]\tLoss: 0.512761\n",
            "Train Epoch: 1 [52480/60000 (87%)]\tLoss: 0.588198\n",
            "Train Epoch: 1 [53120/60000 (88%)]\tLoss: 0.583025\n",
            "Train Epoch: 1 [53760/60000 (90%)]\tLoss: 0.525059\n",
            "Train Epoch: 1 [54400/60000 (91%)]\tLoss: 0.527143\n",
            "Train Epoch: 1 [55040/60000 (92%)]\tLoss: 0.629862\n",
            "Train Epoch: 1 [55680/60000 (93%)]\tLoss: 0.440643\n",
            "Train Epoch: 1 [56320/60000 (94%)]\tLoss: 0.480787\n",
            "Train Epoch: 1 [56960/60000 (95%)]\tLoss: 0.341521\n",
            "Train Epoch: 1 [57600/60000 (96%)]\tLoss: 0.667962\n",
            "Train Epoch: 1 [58240/60000 (97%)]\tLoss: 0.591631\n",
            "Train Epoch: 1 [58880/60000 (98%)]\tLoss: 0.595262\n",
            "Train Epoch: 1 [59520/60000 (99%)]\tLoss: 0.644955\n",
            "\n",
            "Test set: Avg. loss: 0.2161, Accuracy: 9383/10000 (94%)\n",
            "\n",
            "Train Epoch: 2 [0/60000 (0%)]\tLoss: 0.333651\n",
            "Train Epoch: 2 [640/60000 (1%)]\tLoss: 0.405335\n",
            "Train Epoch: 2 [1280/60000 (2%)]\tLoss: 0.452076\n",
            "Train Epoch: 2 [1920/60000 (3%)]\tLoss: 0.351365\n",
            "Train Epoch: 2 [2560/60000 (4%)]\tLoss: 0.535085\n",
            "Train Epoch: 2 [3200/60000 (5%)]\tLoss: 0.496006\n",
            "Train Epoch: 2 [3840/60000 (6%)]\tLoss: 0.422172\n",
            "Train Epoch: 2 [4480/60000 (7%)]\tLoss: 0.359499\n",
            "Train Epoch: 2 [5120/60000 (9%)]\tLoss: 0.582842\n",
            "Train Epoch: 2 [5760/60000 (10%)]\tLoss: 0.337874\n",
            "Train Epoch: 2 [6400/60000 (11%)]\tLoss: 0.220711\n",
            "Train Epoch: 2 [7040/60000 (12%)]\tLoss: 0.383421\n",
            "Train Epoch: 2 [7680/60000 (13%)]\tLoss: 0.774934\n",
            "Train Epoch: 2 [8320/60000 (14%)]\tLoss: 0.387251\n",
            "Train Epoch: 2 [8960/60000 (15%)]\tLoss: 0.373699\n",
            "Train Epoch: 2 [9600/60000 (16%)]\tLoss: 0.654376\n",
            "Train Epoch: 2 [10240/60000 (17%)]\tLoss: 0.396502\n",
            "Train Epoch: 2 [10880/60000 (18%)]\tLoss: 0.351655\n",
            "Train Epoch: 2 [11520/60000 (19%)]\tLoss: 0.296586\n",
            "Train Epoch: 2 [12160/60000 (20%)]\tLoss: 0.468207\n",
            "Train Epoch: 2 [12800/60000 (21%)]\tLoss: 0.510687\n",
            "Train Epoch: 2 [13440/60000 (22%)]\tLoss: 0.404745\n",
            "Train Epoch: 2 [14080/60000 (23%)]\tLoss: 0.342011\n",
            "Train Epoch: 2 [14720/60000 (25%)]\tLoss: 0.417305\n",
            "Train Epoch: 2 [15360/60000 (26%)]\tLoss: 0.472170\n",
            "Train Epoch: 2 [16000/60000 (27%)]\tLoss: 0.437969\n",
            "Train Epoch: 2 [16640/60000 (28%)]\tLoss: 0.334933\n",
            "Train Epoch: 2 [17280/60000 (29%)]\tLoss: 0.274387\n",
            "Train Epoch: 2 [17920/60000 (30%)]\tLoss: 0.246817\n",
            "Train Epoch: 2 [18560/60000 (31%)]\tLoss: 0.640369\n",
            "Train Epoch: 2 [19200/60000 (32%)]\tLoss: 0.618794\n",
            "Train Epoch: 2 [19840/60000 (33%)]\tLoss: 0.298555\n",
            "Train Epoch: 2 [20480/60000 (34%)]\tLoss: 0.356081\n",
            "Train Epoch: 2 [21120/60000 (35%)]\tLoss: 0.358192\n",
            "Train Epoch: 2 [21760/60000 (36%)]\tLoss: 0.531983\n",
            "Train Epoch: 2 [22400/60000 (37%)]\tLoss: 0.294091\n",
            "Train Epoch: 2 [23040/60000 (38%)]\tLoss: 0.381793\n",
            "Train Epoch: 2 [23680/60000 (39%)]\tLoss: 0.207651\n",
            "Train Epoch: 2 [24320/60000 (41%)]\tLoss: 0.518864\n",
            "Train Epoch: 2 [24960/60000 (42%)]\tLoss: 0.395211\n",
            "Train Epoch: 2 [25600/60000 (43%)]\tLoss: 0.290884\n",
            "Train Epoch: 2 [26240/60000 (44%)]\tLoss: 0.449266\n",
            "Train Epoch: 2 [26880/60000 (45%)]\tLoss: 0.500863\n",
            "Train Epoch: 2 [27520/60000 (46%)]\tLoss: 0.459282\n",
            "Train Epoch: 2 [28160/60000 (47%)]\tLoss: 0.405672\n",
            "Train Epoch: 2 [28800/60000 (48%)]\tLoss: 0.186799\n",
            "Train Epoch: 2 [29440/60000 (49%)]\tLoss: 0.285177\n",
            "Train Epoch: 2 [30080/60000 (50%)]\tLoss: 0.324371\n",
            "Train Epoch: 2 [30720/60000 (51%)]\tLoss: 0.376761\n",
            "Train Epoch: 2 [31360/60000 (52%)]\tLoss: 0.293017\n",
            "Train Epoch: 2 [32000/60000 (53%)]\tLoss: 0.727344\n",
            "Train Epoch: 2 [32640/60000 (54%)]\tLoss: 0.168979\n",
            "Train Epoch: 2 [33280/60000 (55%)]\tLoss: 0.450387\n",
            "Train Epoch: 2 [33920/60000 (57%)]\tLoss: 0.343841\n",
            "Train Epoch: 2 [34560/60000 (58%)]\tLoss: 0.321925\n",
            "Train Epoch: 2 [35200/60000 (59%)]\tLoss: 0.584448\n",
            "Train Epoch: 2 [35840/60000 (60%)]\tLoss: 0.291977\n",
            "Train Epoch: 2 [36480/60000 (61%)]\tLoss: 0.410988\n",
            "Train Epoch: 2 [37120/60000 (62%)]\tLoss: 0.287138\n",
            "Train Epoch: 2 [37760/60000 (63%)]\tLoss: 0.440015\n",
            "Train Epoch: 2 [38400/60000 (64%)]\tLoss: 0.460302\n",
            "Train Epoch: 2 [39040/60000 (65%)]\tLoss: 0.252639\n",
            "Train Epoch: 2 [39680/60000 (66%)]\tLoss: 0.433700\n",
            "Train Epoch: 2 [40320/60000 (67%)]\tLoss: 0.200466\n",
            "Train Epoch: 2 [40960/60000 (68%)]\tLoss: 0.420000\n",
            "Train Epoch: 2 [41600/60000 (69%)]\tLoss: 0.495419\n",
            "Train Epoch: 2 [42240/60000 (70%)]\tLoss: 0.222915\n",
            "Train Epoch: 2 [42880/60000 (71%)]\tLoss: 0.429780\n",
            "Train Epoch: 2 [43520/60000 (72%)]\tLoss: 0.399456\n",
            "Train Epoch: 2 [44160/60000 (74%)]\tLoss: 0.253691\n",
            "Train Epoch: 2 [44800/60000 (75%)]\tLoss: 0.262499\n",
            "Train Epoch: 2 [45440/60000 (76%)]\tLoss: 0.304194\n",
            "Train Epoch: 2 [46080/60000 (77%)]\tLoss: 0.437659\n",
            "Train Epoch: 2 [46720/60000 (78%)]\tLoss: 0.253075\n",
            "Train Epoch: 2 [47360/60000 (79%)]\tLoss: 0.375631\n",
            "Train Epoch: 2 [48000/60000 (80%)]\tLoss: 0.333293\n",
            "Train Epoch: 2 [48640/60000 (81%)]\tLoss: 0.353678\n",
            "Train Epoch: 2 [49280/60000 (82%)]\tLoss: 0.534010\n",
            "Train Epoch: 2 [49920/60000 (83%)]\tLoss: 0.353229\n",
            "Train Epoch: 2 [50560/60000 (84%)]\tLoss: 0.626846\n",
            "Train Epoch: 2 [51200/60000 (85%)]\tLoss: 0.362558\n",
            "Train Epoch: 2 [51840/60000 (86%)]\tLoss: 0.618716\n",
            "Train Epoch: 2 [52480/60000 (87%)]\tLoss: 0.332456\n",
            "Train Epoch: 2 [53120/60000 (88%)]\tLoss: 0.294496\n",
            "Train Epoch: 2 [53760/60000 (90%)]\tLoss: 0.316753\n",
            "Train Epoch: 2 [54400/60000 (91%)]\tLoss: 0.494513\n",
            "Train Epoch: 2 [55040/60000 (92%)]\tLoss: 0.282525\n",
            "Train Epoch: 2 [55680/60000 (93%)]\tLoss: 0.325113\n",
            "Train Epoch: 2 [56320/60000 (94%)]\tLoss: 0.281259\n",
            "Train Epoch: 2 [56960/60000 (95%)]\tLoss: 0.257625\n",
            "Train Epoch: 2 [57600/60000 (96%)]\tLoss: 0.434824\n",
            "Train Epoch: 2 [58240/60000 (97%)]\tLoss: 0.456002\n",
            "Train Epoch: 2 [58880/60000 (98%)]\tLoss: 0.301844\n",
            "Train Epoch: 2 [59520/60000 (99%)]\tLoss: 0.265128\n",
            "\n",
            "Test set: Avg. loss: 0.1304, Accuracy: 9583/10000 (96%)\n",
            "\n",
            "Train Epoch: 3 [0/60000 (0%)]\tLoss: 0.228732\n",
            "Train Epoch: 3 [640/60000 (1%)]\tLoss: 0.495985\n",
            "Train Epoch: 3 [1280/60000 (2%)]\tLoss: 0.339396\n",
            "Train Epoch: 3 [1920/60000 (3%)]\tLoss: 0.275187\n",
            "Train Epoch: 3 [2560/60000 (4%)]\tLoss: 0.278707\n",
            "Train Epoch: 3 [3200/60000 (5%)]\tLoss: 0.342117\n",
            "Train Epoch: 3 [3840/60000 (6%)]\tLoss: 0.212755\n",
            "Train Epoch: 3 [4480/60000 (7%)]\tLoss: 0.304222\n",
            "Train Epoch: 3 [5120/60000 (9%)]\tLoss: 0.281821\n",
            "Train Epoch: 3 [5760/60000 (10%)]\tLoss: 0.134622\n",
            "Train Epoch: 3 [6400/60000 (11%)]\tLoss: 0.327788\n",
            "Train Epoch: 3 [7040/60000 (12%)]\tLoss: 0.321714\n",
            "Train Epoch: 3 [7680/60000 (13%)]\tLoss: 0.191225\n",
            "Train Epoch: 3 [8320/60000 (14%)]\tLoss: 0.243418\n",
            "Train Epoch: 3 [8960/60000 (15%)]\tLoss: 0.247275\n",
            "Train Epoch: 3 [9600/60000 (16%)]\tLoss: 0.257113\n",
            "Train Epoch: 3 [10240/60000 (17%)]\tLoss: 0.279457\n",
            "Train Epoch: 3 [10880/60000 (18%)]\tLoss: 0.207925\n",
            "Train Epoch: 3 [11520/60000 (19%)]\tLoss: 0.218688\n",
            "Train Epoch: 3 [12160/60000 (20%)]\tLoss: 0.243144\n",
            "Train Epoch: 3 [12800/60000 (21%)]\tLoss: 0.119499\n",
            "Train Epoch: 3 [13440/60000 (22%)]\tLoss: 0.304608\n",
            "Train Epoch: 3 [14080/60000 (23%)]\tLoss: 0.358603\n",
            "Train Epoch: 3 [14720/60000 (25%)]\tLoss: 0.400093\n",
            "Train Epoch: 3 [15360/60000 (26%)]\tLoss: 0.259877\n",
            "Train Epoch: 3 [16000/60000 (27%)]\tLoss: 0.345649\n",
            "Train Epoch: 3 [16640/60000 (28%)]\tLoss: 0.382347\n",
            "Train Epoch: 3 [17280/60000 (29%)]\tLoss: 0.306009\n",
            "Train Epoch: 3 [17920/60000 (30%)]\tLoss: 0.444839\n",
            "Train Epoch: 3 [18560/60000 (31%)]\tLoss: 0.225808\n",
            "Train Epoch: 3 [19200/60000 (32%)]\tLoss: 0.506192\n",
            "Train Epoch: 3 [19840/60000 (33%)]\tLoss: 0.478513\n",
            "Train Epoch: 3 [20480/60000 (34%)]\tLoss: 0.340114\n",
            "Train Epoch: 3 [21120/60000 (35%)]\tLoss: 0.304260\n",
            "Train Epoch: 3 [21760/60000 (36%)]\tLoss: 0.145852\n",
            "Train Epoch: 3 [22400/60000 (37%)]\tLoss: 0.287286\n",
            "Train Epoch: 3 [23040/60000 (38%)]\tLoss: 0.232571\n",
            "Train Epoch: 3 [23680/60000 (39%)]\tLoss: 0.415847\n",
            "Train Epoch: 3 [24320/60000 (41%)]\tLoss: 0.296039\n",
            "Train Epoch: 3 [24960/60000 (42%)]\tLoss: 0.282729\n",
            "Train Epoch: 3 [25600/60000 (43%)]\tLoss: 0.158839\n",
            "Train Epoch: 3 [26240/60000 (44%)]\tLoss: 0.243174\n",
            "Train Epoch: 3 [26880/60000 (45%)]\tLoss: 0.228398\n",
            "Train Epoch: 3 [27520/60000 (46%)]\tLoss: 0.278545\n",
            "Train Epoch: 3 [28160/60000 (47%)]\tLoss: 0.361844\n",
            "Train Epoch: 3 [28800/60000 (48%)]\tLoss: 0.148334\n",
            "Train Epoch: 3 [29440/60000 (49%)]\tLoss: 0.240113\n",
            "Train Epoch: 3 [30080/60000 (50%)]\tLoss: 0.354286\n",
            "Train Epoch: 3 [30720/60000 (51%)]\tLoss: 0.243350\n",
            "Train Epoch: 3 [31360/60000 (52%)]\tLoss: 0.457838\n",
            "Train Epoch: 3 [32000/60000 (53%)]\tLoss: 0.237835\n",
            "Train Epoch: 3 [32640/60000 (54%)]\tLoss: 0.296348\n",
            "Train Epoch: 3 [33280/60000 (55%)]\tLoss: 0.521057\n",
            "Train Epoch: 3 [33920/60000 (57%)]\tLoss: 0.263837\n",
            "Train Epoch: 3 [34560/60000 (58%)]\tLoss: 0.285295\n",
            "Train Epoch: 3 [35200/60000 (59%)]\tLoss: 0.172279\n",
            "Train Epoch: 3 [35840/60000 (60%)]\tLoss: 0.087154\n",
            "Train Epoch: 3 [36480/60000 (61%)]\tLoss: 0.264413\n",
            "Train Epoch: 3 [37120/60000 (62%)]\tLoss: 0.224168\n",
            "Train Epoch: 3 [37760/60000 (63%)]\tLoss: 0.184367\n",
            "Train Epoch: 3 [38400/60000 (64%)]\tLoss: 0.258570\n",
            "Train Epoch: 3 [39040/60000 (65%)]\tLoss: 0.463855\n",
            "Train Epoch: 3 [39680/60000 (66%)]\tLoss: 0.260052\n",
            "Train Epoch: 3 [40320/60000 (67%)]\tLoss: 0.281593\n",
            "Train Epoch: 3 [40960/60000 (68%)]\tLoss: 0.353486\n",
            "Train Epoch: 3 [41600/60000 (69%)]\tLoss: 0.412204\n",
            "Train Epoch: 3 [42240/60000 (70%)]\tLoss: 0.150970\n",
            "Train Epoch: 3 [42880/60000 (71%)]\tLoss: 0.249730\n",
            "Train Epoch: 3 [43520/60000 (72%)]\tLoss: 0.300301\n",
            "Train Epoch: 3 [44160/60000 (74%)]\tLoss: 0.253219\n",
            "Train Epoch: 3 [44800/60000 (75%)]\tLoss: 0.303743\n",
            "Train Epoch: 3 [45440/60000 (76%)]\tLoss: 0.549600\n",
            "Train Epoch: 3 [46080/60000 (77%)]\tLoss: 0.354943\n",
            "Train Epoch: 3 [46720/60000 (78%)]\tLoss: 0.316043\n",
            "Train Epoch: 3 [47360/60000 (79%)]\tLoss: 0.390319\n",
            "Train Epoch: 3 [48000/60000 (80%)]\tLoss: 0.298583\n",
            "Train Epoch: 3 [48640/60000 (81%)]\tLoss: 0.328819\n",
            "Train Epoch: 3 [49280/60000 (82%)]\tLoss: 0.249965\n",
            "Train Epoch: 3 [49920/60000 (83%)]\tLoss: 0.354319\n",
            "Train Epoch: 3 [50560/60000 (84%)]\tLoss: 0.380919\n",
            "Train Epoch: 3 [51200/60000 (85%)]\tLoss: 0.302850\n",
            "Train Epoch: 3 [51840/60000 (86%)]\tLoss: 0.288020\n",
            "Train Epoch: 3 [52480/60000 (87%)]\tLoss: 0.185985\n",
            "Train Epoch: 3 [53120/60000 (88%)]\tLoss: 0.187232\n",
            "Train Epoch: 3 [53760/60000 (90%)]\tLoss: 0.314658\n",
            "Train Epoch: 3 [54400/60000 (91%)]\tLoss: 0.383391\n",
            "Train Epoch: 3 [55040/60000 (92%)]\tLoss: 0.219134\n",
            "Train Epoch: 3 [55680/60000 (93%)]\tLoss: 0.260462\n",
            "Train Epoch: 3 [56320/60000 (94%)]\tLoss: 0.209133\n",
            "Train Epoch: 3 [56960/60000 (95%)]\tLoss: 0.365487\n",
            "Train Epoch: 3 [57600/60000 (96%)]\tLoss: 0.455988\n",
            "Train Epoch: 3 [58240/60000 (97%)]\tLoss: 0.230779\n",
            "Train Epoch: 3 [58880/60000 (98%)]\tLoss: 0.248833\n",
            "Train Epoch: 3 [59520/60000 (99%)]\tLoss: 0.351502\n",
            "\n",
            "Test set: Avg. loss: 0.0977, Accuracy: 9688/10000 (97%)\n",
            "\n"
          ]
        }
      ]
    },
    {
      "cell_type": "code",
      "source": [
        "fig = plt.figure()\n",
        "plt.plot(train_counter, train_losses, color='blue')\n",
        "plt.scatter(test_counter, test_losses[1:], color='red')\n",
        "plt.legend(['Train Loss', 'Test Loss'], loc='upper right')\n",
        "plt.xlabel('number of training examples seen')\n",
        "plt.ylabel('negative log likelihood loss')\n",
        "fig"
      ],
      "metadata": {
        "colab": {
          "base_uri": "https://localhost:8080/",
          "height": 541
        },
        "id": "n_kVGqGtKpFv",
        "outputId": "94536f8d-9b98-4143-f469-142fdfdadecf"
      },
      "execution_count": 36,
      "outputs": [
        {
          "output_type": "execute_result",
          "data": {
            "text/plain": [
              "<Figure size 432x288 with 1 Axes>"
            ],
            "image/png": "[encoded data removed]"
          },
          "metadata": {},
          "execution_count": 36
        },
        {
          "output_type": "display_data",
          "data": {
            "text/plain": [
              "<Figure size 432x288 with 1 Axes>"
            ],
            "image/png": "[encoded data removed]"
          },
          "metadata": {
            "needs_background": "light"
          }
        }
      ]
    }
  ]
}