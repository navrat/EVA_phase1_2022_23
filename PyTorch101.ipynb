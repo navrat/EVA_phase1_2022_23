{
  "nbformat": 4,
  "nbformat_minor": 0,
  "metadata": {
    "colab": {
      "provenance": [],
      "include_colab_link": true
    },
    "kernelspec": {
      "name": "python3",
      "display_name": "Python 3"
    }
  },
  "cells": [
    {
      "cell_type": "markdown",
      "metadata": {
        "id": "view-in-github",
        "colab_type": "text"
      },
      "source": [
        "<a href=\"https://colab.research.google.com/github/navrat/EVA_phase1_2022_23/blob/main/PyTorch101.ipynb\" target=\"_parent\"><img src=\"https://colab.research.google.com/assets/colab-badge.svg\" alt=\"Open In Colab\"/></a>"
      ]
    },
    {
      "cell_type": "markdown",
      "metadata": {
        "id": "_kYM3ylzYo1Q"
      },
      "source": [
        "![PyTorch](https://devblogs.nvidia.com/wp-content/uploads/2017/04/pytorch-logo-dark.png)\n",
        "\n",
        "An open source machine learning framework that accelerates the path from research prototyping to production deployment.\n",
        "\n"
      ]
    },
    {
      "cell_type": "markdown",
      "metadata": {
        "id": "WcVqSTrWY6oz"
      },
      "source": [
        "# Tensor - Pytorch's core data structure\n",
        "\n",
        "In Python we can create lists, lists of lists, lists of lists and so on. In NumPy there is a `numpy.ndarray` which represents `n`- dimensional array. In math there is a special name for the generalization of vectors and matrices to a higher dimensional space - a tensor\n",
        "\n",
        "Tensor is an entity with a defined number of dimensions called an order (rank). \n",
        "\n",
        "**Scalar** can be considered as a rank-0-tensor. \n",
        "\n",
        "**Vector** can be introduced as a rank-1-tensor. \n",
        "\n",
        "**Matrices** can be considered as a rank-2-tensor.\n",
        "\n",
        "# Tensor Basics\n",
        "\n",
        "Let's import the torch module first."
      ]
    },
    {
      "cell_type": "code",
      "metadata": {
        "id": "e-oFVL2tYYqp"
      },
      "source": [
        "import numpy as np\n",
        "import torch"
      ],
      "execution_count": 1,
      "outputs": []
    },
    {
      "cell_type": "markdown",
      "metadata": {
        "id": "uGxuR5IEaFJa"
      },
      "source": [
        "## Tensor Creation\n",
        "Let's view examples of matrices and tensors generation\n",
        "\n",
        "2-dimensional (rank-2) tensor of zeros:"
      ]
    },
    {
      "cell_type": "code",
      "metadata": {
        "id": "897JQc25aD3E",
        "outputId": "894156a3-f802-43e7-e3a5-f2e68483931f",
        "colab": {
          "base_uri": "https://localhost:8080/"
        }
      },
      "source": [
        "torch.zeros(3, 4)"
      ],
      "execution_count": 2,
      "outputs": [
        {
          "output_type": "execute_result",
          "data": {
            "text/plain": [
              "tensor([[0., 0., 0., 0.],\n",
              "        [0., 0., 0., 0.],\n",
              "        [0., 0., 0., 0.]])"
            ]
          },
          "metadata": {},
          "execution_count": 2
        }
      ]
    },
    {
      "cell_type": "markdown",
      "metadata": {
        "id": "pujmpEBhaPRA"
      },
      "source": [
        "Random rank-3 tensor:\n",
        "_read the print below and convince yourself how this is a rank-3-tensor and learn what those 2, 3, 4 values are there for_"
      ]
    },
    {
      "cell_type": "code",
      "metadata": {
        "id": "mBrznTNhaOL7",
        "outputId": "a67227db-d46c-41cf-c1cb-84faab4c0e43",
        "colab": {
          "base_uri": "https://localhost:8080/"
        }
      },
      "source": [
        "torch.rand(2, 3, 4)"
      ],
      "execution_count": 3,
      "outputs": [
        {
          "output_type": "execute_result",
          "data": {
            "text/plain": [
              "tensor([[[0.3002, 0.0935, 0.8534, 0.9713],\n",
              "         [0.6466, 0.0225, 0.9212, 0.8326],\n",
              "         [0.9850, 0.8001, 0.4630, 0.9496]],\n",
              "\n",
              "        [[0.3465, 0.2305, 0.3339, 0.7554],\n",
              "         [0.1437, 0.7693, 0.7375, 0.9034],\n",
              "         [0.4663, 0.0080, 0.0378, 0.5251]]])"
            ]
          },
          "metadata": {},
          "execution_count": 3
        }
      ]
    },
    {
      "cell_type": "markdown",
      "metadata": {
        "id": "kO4fIr15asdi"
      },
      "source": [
        "I am hoping you have noticed 4-elements in a row, 3 rows making one block and there are 2 blocks. \n",
        "\n",
        "Random rank-4-tensor:"
      ]
    },
    {
      "cell_type": "code",
      "metadata": {
        "id": "KiCLvMGCaVZ3",
        "outputId": "5c33a379-ea22-470d-af78-ee2d80274907",
        "colab": {
          "base_uri": "https://localhost:8080/"
        }
      },
      "source": [
        "torch.rand(2, 2, 2, 3)"
      ],
      "execution_count": 4,
      "outputs": [
        {
          "output_type": "execute_result",
          "data": {
            "text/plain": [
              "tensor([[[[0.1921, 0.1814, 0.8548],\n",
              "          [0.2731, 0.3270, 0.3602]],\n",
              "\n",
              "         [[0.4152, 0.9148, 0.3487],\n",
              "          [0.0485, 0.5063, 0.8002]]],\n",
              "\n",
              "\n",
              "        [[[0.5563, 0.7867, 0.0925],\n",
              "          [0.5412, 0.2121, 0.6126]],\n",
              "\n",
              "         [[0.7756, 0.6146, 0.5904],\n",
              "          [0.0870, 0.8346, 0.1514]]]])"
            ]
          },
          "metadata": {},
          "execution_count": 4
        }
      ]
    },
    {
      "cell_type": "markdown",
      "metadata": {
        "id": "lF6VL68s3AMV"
      },
      "source": [
        "## Question 1:\n",
        "\n",
        "How many dimensions are there in a tensor defined as below?"
      ]
    },
    {
      "cell_type": "code",
      "metadata": {
        "id": "8IbXcI3x3Ibt",
        "outputId": "672302e2-8446-4fa5-86a2-9d1546d7818d",
        "colab": {
          "base_uri": "https://localhost:8080/"
        }
      },
      "source": [
        "torch.rand(1, 1, 1, 1) # 4-D tensor"
      ],
      "execution_count": 12,
      "outputs": [
        {
          "output_type": "execute_result",
          "data": {
            "text/plain": [
              "tensor([[[[0.1117, 0.0439]],\n",
              "\n",
              "         [[0.0160, 0.0086]]]])"
            ]
          },
          "metadata": {},
          "execution_count": 12
        }
      ]
    },
    {
      "cell_type": "code",
      "source": [
        "torch.rand(1, 2, 1, 2).size()"
      ],
      "metadata": {
        "id": "hAhYNi4r4TeM",
        "outputId": "4a7a9bc5-f733-4bce-f156-7135b0494504",
        "colab": {
          "base_uri": "https://localhost:8080/"
        }
      },
      "execution_count": 13,
      "outputs": [
        {
          "output_type": "execute_result",
          "data": {
            "text/plain": [
              "torch.Size([1, 2, 1, 2])"
            ]
          },
          "metadata": {},
          "execution_count": 13
        }
      ]
    },
    {
      "cell_type": "markdown",
      "metadata": {
        "id": "qmgpqssRa9jF"
      },
      "source": [
        ".\n",
        "\n",
        "---\n",
        "\n",
        "\n",
        "There are many more ways to create tensor using some restrictions on values it should contatn - for the full reference, please follow the [official docs](https://pytorch.org/docs/stable/torch.html#creation-ops). \n",
        "\n",
        "\n",
        ".\n",
        "---\n",
        "\n",
        "\n",
        "# Python / NumPy / Pytorch interoperability\n",
        "\n",
        "You can create tensors from python as well as numpy arrays. You can also convert torch tensors to numpy arrays. So, the interoperability between torch and numpy is pretty good. "
      ]
    },
    {
      "cell_type": "code",
      "metadata": {
        "id": "ipgpeWPfa6gE",
        "outputId": "3274b546-37ac-4e09-b301-61459ebcfe7a",
        "colab": {
          "base_uri": "https://localhost:8080/"
        }
      },
      "source": [
        "# Simple Python List\n",
        "python_list = [1, 2]\n",
        "\n",
        "# Create a numpy array from python list\n",
        "numpy_array = np.array(python_list)\n",
        "\n",
        "# Create a torch Tensor from python list\n",
        "tensor_from_list = torch.tensor(python_list)\n",
        "\n",
        "# Create a torch Tensor from Numpy array\n",
        "tensor_from_array = torch.tensor(numpy_array)\n",
        "\n",
        "# Another way to create a torch Tensor from Numpy array (share same storage)\n",
        "tensor_from_array_v2 = torch.from_numpy(numpy_array)\n",
        "\n",
        "# Convert torch tensor to numpy array\n",
        "array_from_tensor = tensor_from_array.numpy()\n",
        "\n",
        "print('List:   ', python_list)\n",
        "print('Array:  ', numpy_array)\n",
        "print('Tensor: ', tensor_from_list)\n",
        "print('Tensor: ', tensor_from_array)\n",
        "print('Tensor: ', tensor_from_array_v2)\n",
        "print('Array:  ', array_from_tensor)"
      ],
      "execution_count": 14,
      "outputs": [
        {
          "output_type": "stream",
          "name": "stdout",
          "text": [
            "List:    [1, 2]\n",
            "Array:   [1 2]\n",
            "Tensor:  tensor([1, 2])\n",
            "Tensor:  tensor([1, 2])\n",
            "Tensor:  tensor([1, 2])\n",
            "Array:   [1 2]\n"
          ]
        }
      ]
    },
    {
      "cell_type": "markdown",
      "metadata": {
        "id": "X_x-86B8gqik"
      },
      "source": [
        "**Difference between** `torch.Tensor` **and** `torch.from_numpy`\n",
        "\n",
        "Pytorch aims to be an effective library for computations. What does it mean? It means that pytorch avoids memory copying if it can. "
      ]
    },
    {
      "cell_type": "code",
      "metadata": {
        "id": "eHCKDGpygn_d",
        "outputId": "ffc450e6-c4ab-4065-d9f2-f0ecff4a3f7d",
        "colab": {
          "base_uri": "https://localhost:8080/"
        }
      },
      "source": [
        "numpy_array[0] = 10\n",
        "\n",
        "print('Array:  ', numpy_array)\n",
        "print('Tensor: ', tensor_from_array)\n",
        "print('Tensor: ', tensor_from_array_v2)"
      ],
      "execution_count": 15,
      "outputs": [
        {
          "output_type": "stream",
          "name": "stdout",
          "text": [
            "Array:   [10  2]\n",
            "Tensor:  tensor([1, 2])\n",
            "Tensor:  tensor([10,  2])\n"
          ]
        }
      ]
    },
    {
      "cell_type": "markdown",
      "metadata": {
        "id": "-CKtdNRM3SMp"
      },
      "source": [
        "## Question 2:\n",
        "\n",
        "Assume that we moved our complete (cats vs dogs) image dataset to numpy arrays. Then we use torch.from_numpy to convert these images to tensor. Then we apply a specific data augmentation strategy called \"CutOut\" which blocks a portion of the image directly on these tensors. What will happen to the accuracy of a model trained on this strategy compared to the one without this strategy? CutOut strategy is shown below: \n",
        "\n",
        "![CutOut](https://encrypted-tbn0.gstatic.com/images?q=tbn%3AANd9GcSnSyN835AmtQPKQbPjDHX-FmshNilbtexX95cRGQPwl56QCGDn)\n",
        "\n",
        "## Question 3:\n",
        "Why do you think we are observing this behavior?\n",
        "\n",
        "\n",
        "\n",
        "---\n",
        "\n",
        "\n"
      ]
    },
    {
      "cell_type": "markdown",
      "source": [
        "Training accuracy could be lower than keeping the full images but validation accuracy could be higher with cutouts because of better generalizability. Using small cutouts would help improve the organic fit of the data to the model especially in the form of identifying noise vs. signal\n"
      ],
      "metadata": {
        "id": "MXKWYLqz6qgc"
      }
    },
    {
      "cell_type": "markdown",
      "metadata": {
        "id": "dZq7O-aihSOA"
      },
      "source": [
        "We have two different ways to create tensor from its NumPy counterpart - one copies memory and another one shares the same underlying storage. It works in the opposite way:"
      ]
    },
    {
      "cell_type": "code",
      "metadata": {
        "id": "TNFOwV8EhPwQ",
        "outputId": "2155525c-cf5c-47cf-d1b0-aaa08f97659d",
        "colab": {
          "base_uri": "https://localhost:8080/"
        }
      },
      "source": [
        "array_from_tensor = tensor_from_array.numpy()\n",
        "print('Tensor: ', tensor_from_array)\n",
        "print('Array: ', array_from_tensor)\n",
        "\n",
        "tensor_from_array[0] = 11\n",
        "print('Tensor: ', tensor_from_array)\n",
        "print('Array: ', array_from_tensor)"
      ],
      "execution_count": 17,
      "outputs": [
        {
          "output_type": "stream",
          "name": "stdout",
          "text": [
            "Tensor:  tensor([11,  2])\n",
            "Array:  [11  2]\n",
            "Tensor:  tensor([11,  2])\n",
            "Array:  [11  2]\n"
          ]
        }
      ]
    },
    {
      "cell_type": "code",
      "source": [
        "tensor_from_array"
      ],
      "metadata": {
        "id": "0p5Vp0L1-7ej",
        "outputId": "645b638f-1f27-413e-b6ca-e0706e2b2afa",
        "colab": {
          "base_uri": "https://localhost:8080/"
        }
      },
      "execution_count": 27,
      "outputs": [
        {
          "output_type": "execute_result",
          "data": {
            "text/plain": [
              "tensor([1, 2])"
            ]
          },
          "metadata": {},
          "execution_count": 27
        }
      ]
    },
    {
      "cell_type": "code",
      "source": [
        "array_from_tensor = tensor_from_array.numpy()\n",
        "print('Tensor: ', tensor_from_array)\n",
        "print('Array: ', array_from_tensor)\n",
        "\n",
        "# When array is created from tensor and modified, only array is updated. Tensor is not updated i.e. this way the numpy copies the storage\n",
        "array_from_tensor = array_from_tensor * 2\n",
        "print('Tensor: ', tensor_from_array)\n",
        "print('Array: ', array_from_tensor)\n",
        "\n",
        "# When tensor is created from array and modified, both array and tensor are updated i.e. this way they share the storage\n",
        "\n",
        "tensor_from_array = tensor_from_array * 2\n",
        "print('Tensor: ', tensor_from_array)\n",
        "print('Array: ', array_from_tensor)"
      ],
      "metadata": {
        "id": "KWLINQKR-uhh",
        "outputId": "c6c2f3c8-2b70-4c14-9a0a-7f465581d775",
        "colab": {
          "base_uri": "https://localhost:8080/"
        }
      },
      "execution_count": 28,
      "outputs": [
        {
          "output_type": "stream",
          "name": "stdout",
          "text": [
            "Tensor:  tensor([1, 2])\n",
            "Array:  [1 2]\n",
            "Tensor:  tensor([1, 2])\n",
            "Array:  [2 4]\n",
            "Tensor:  tensor([2, 4])\n",
            "Array:  [2 4]\n"
          ]
        }
      ]
    },
    {
      "cell_type": "markdown",
      "metadata": {
        "id": "UM9ytbvKhtCw"
      },
      "source": [
        "## Data types\n",
        "\n",
        "The basic data type of all Deep Learning-related operations is float, but sometimes you may need something else. Pytorch support different number types for its tensors the same way NumPy does it - by specifying the data type on tensor creation or via casting. Ths full list of supported data types can be found [here](https://pytorch.org/docs/stable/tensors.html). "
      ]
    },
    {
      "cell_type": "code",
      "metadata": {
        "id": "Bd6WkzJ4hpYi",
        "outputId": "a700c119-46f3-47b4-cc5b-c61d184216db",
        "colab": {
          "base_uri": "https://localhost:8080/"
        }
      },
      "source": [
        "tensor = torch.zeros(2, 2)\n",
        "print('Tensor with default type: ', tensor)\n",
        "tensor = torch.zeros(2, 2, dtype=torch.float16)\n",
        "print('Tensor with 16-bit float: ', tensor)\n",
        "tensor = torch.zeros(2, 2, dtype=torch.int16)\n",
        "print('Tensor with integers: ', tensor)\n",
        "tensor = torch.zeros(2, 2, dtype=torch.bool)\n",
        "print('Tensor with boolean data: ', tensor)"
      ],
      "execution_count": 18,
      "outputs": [
        {
          "output_type": "stream",
          "name": "stdout",
          "text": [
            "Tensor with default type:  tensor([[0., 0.],\n",
            "        [0., 0.]])\n",
            "Tensor with 16-bit float:  tensor([[0., 0.],\n",
            "        [0., 0.]], dtype=torch.float16)\n",
            "Tensor with integers:  tensor([[0, 0],\n",
            "        [0, 0]], dtype=torch.int16)\n",
            "Tensor with boolean data:  tensor([[False, False],\n",
            "        [False, False]])\n"
          ]
        }
      ]
    },
    {
      "cell_type": "markdown",
      "metadata": {
        "id": "a9F4Dkdr40TE"
      },
      "source": [
        "\n",
        "\n",
        "---\n",
        "\n",
        "\n",
        "## Question 4:\n",
        "We saw above that some times numpy and tensors share same storage and changing one changes the other. \n",
        "If we define a rank-2-tensor with ones (dtype of f16), and then convert it into a numpy data type using tensor.numpy() and store it in a variable called \"num\", and then we perform this operation `num = num * 0.5`, will the original tensor have 1.0s or 0.5s as its element values? \n"
      ]
    },
    {
      "cell_type": "code",
      "source": [
        "# memory is copied by numpy from tensor hence only numpy array is updated and not both\n",
        "tensor1 = torch.ones(2,2, dtype=torch.float16)\n",
        "num = tensor1.numpy()\n",
        "num = num * 0.5\n",
        "print(num)\n",
        "print(tensor1)\n",
        "tensor1"
      ],
      "metadata": {
        "id": "cmTvhDf0-U-s",
        "outputId": "3390e0c0-4162-42bd-921d-b94452c5c94a",
        "colab": {
          "base_uri": "https://localhost:8080/"
        }
      },
      "execution_count": 23,
      "outputs": [
        {
          "output_type": "stream",
          "name": "stdout",
          "text": [
            "[[0.5 0.5]\n",
            " [0.5 0.5]]\n",
            "tensor([[1., 1.],\n",
            "        [1., 1.]], dtype=torch.float16)\n"
          ]
        }
      ]
    },
    {
      "cell_type": "markdown",
      "metadata": {
        "id": "OiQt8Mmm51OE"
      },
      "source": [
        "\n",
        "\n",
        "---\n",
        "\n",
        "## Question 5: \n",
        "If the operation `num = num*5` is changed to `num[:] = num*5` will the original tensor have 1.0s or 0.5s as its element values? \n",
        "\n",
        "\n",
        "\n",
        "---\n",
        "\n"
      ]
    },
    {
      "cell_type": "code",
      "source": [
        "# memory is copied by numpy from tensor hence only numpy array is updated and not both\n",
        "# !!! when element wise update is made, both tensor and numpy are updated\n",
        "tensor1 = torch.ones(2,2, dtype=torch.float16)\n",
        "num = tensor1.numpy()\n",
        "num[:] = num * 0.5\n",
        "print(num)\n",
        "print(tensor1)\n",
        "tensor1"
      ],
      "metadata": {
        "id": "B3vSDx7KBm5V",
        "outputId": "a1ccd763-d931-4cce-d715-4c665b7e4519",
        "colab": {
          "base_uri": "https://localhost:8080/"
        }
      },
      "execution_count": 29,
      "outputs": [
        {
          "output_type": "stream",
          "name": "stdout",
          "text": [
            "[[0.5 0.5]\n",
            " [0.5 0.5]]\n",
            "tensor([[0.5000, 0.5000],\n",
            "        [0.5000, 0.5000]], dtype=torch.float16)\n"
          ]
        },
        {
          "output_type": "execute_result",
          "data": {
            "text/plain": [
              "tensor([[0.5000, 0.5000],\n",
              "        [0.5000, 0.5000]], dtype=torch.float16)"
            ]
          },
          "metadata": {},
          "execution_count": 29
        }
      ]
    },
    {
      "cell_type": "markdown",
      "metadata": {
        "id": "vzh8UB8KiVmb"
      },
      "source": [
        "## Indexing\n",
        "\n",
        "Tensor provides access to its elements via the same `[]` operation as a regular python list or NumPy array. However, as you may recall from NumPy usage, the full power of math libraries is accessible only via vectorized operations, i.e. operations without explicit looping over all vector elements in python and using implicit optimized loops in C/C++/CUDA/Fortran/etc. available via special function calls. Pytorch employs the same paradigm and provides a wide range of vectorized operations. Let's take a look at some examples. \n",
        "\n",
        "Joining a list of tensors together with `torch.cat`"
      ]
    },
    {
      "cell_type": "code",
      "metadata": {
        "id": "GMaCDKPhiUAb",
        "outputId": "ab421dfa-feb0-4b16-83c1-20c4ca16d9bc",
        "colab": {
          "base_uri": "https://localhost:8080/"
        }
      },
      "source": [
        "a = torch.zeros(3, 2)\n",
        "b = torch.ones(3, 2)\n",
        "print(torch.cat((a, b), dim=0))"
      ],
      "execution_count": 30,
      "outputs": [
        {
          "output_type": "stream",
          "name": "stdout",
          "text": [
            "tensor([[0., 0.],\n",
            "        [0., 0.],\n",
            "        [0., 0.],\n",
            "        [1., 1.],\n",
            "        [1., 1.],\n",
            "        [1., 1.]])\n"
          ]
        }
      ]
    },
    {
      "cell_type": "code",
      "source": [
        "tensor_concat.size()"
      ],
      "metadata": {
        "id": "fasp1pOXDNsV",
        "outputId": "7299cad1-a3cb-480d-c60e-2fb65f7a7f09",
        "colab": {
          "base_uri": "https://localhost:8080/"
        }
      },
      "execution_count": 37,
      "outputs": [
        {
          "output_type": "execute_result",
          "data": {
            "text/plain": [
              "torch.Size([3, 4])"
            ]
          },
          "metadata": {},
          "execution_count": 37
        }
      ]
    },
    {
      "cell_type": "code",
      "source": [
        "a = torch.zeros(3, 2)\n",
        "b = torch.ones(3, 2)\n",
        "tensor_concat = torch.cat((a, b), dim=1)\n",
        "print(tensor_concat)\n",
        "print(torch.transpose(tensor_concat,0,1))"
      ],
      "metadata": {
        "id": "8QNM395FCyjH",
        "outputId": "4f438e1d-7f4f-4831-a187-d14b8bd73e96",
        "colab": {
          "base_uri": "https://localhost:8080/"
        }
      },
      "execution_count": 43,
      "outputs": [
        {
          "output_type": "stream",
          "name": "stdout",
          "text": [
            "tensor([[0., 0., 1., 1.],\n",
            "        [0., 0., 1., 1.],\n",
            "        [0., 0., 1., 1.]])\n",
            "tensor([[0., 0., 0.],\n",
            "        [0., 0., 0.],\n",
            "        [1., 1., 1.],\n",
            "        [1., 1., 1.]])\n"
          ]
        }
      ]
    },
    {
      "cell_type": "markdown",
      "metadata": {
        "id": "5bj4aeE86zdH"
      },
      "source": [
        "\n",
        "\n",
        "---\n",
        "\n",
        "## Question 6: \n",
        "Is the transpose of concatenated a & b tensor on dimension 1, same as the contatenated tensor of a & b on dimension 0? \n",
        "\n",
        "\n",
        "\n",
        "---\n",
        "\n"
      ]
    },
    {
      "cell_type": "markdown",
      "source": [
        "No. Since the structure changes from 6 * 2 originally to 3 * 4 (which when transposed, cannot give a 6 * 2 matrix directly)"
      ],
      "metadata": {
        "id": "rA1xnr-oEJy2"
      }
    },
    {
      "cell_type": "markdown",
      "metadata": {
        "id": "0TXNne69j7LP"
      },
      "source": [
        "Indexing with another tenxor/array:"
      ]
    },
    {
      "cell_type": "code",
      "metadata": {
        "id": "KiE-Fsi4jVd6",
        "outputId": "565ac20b-4e65-4523-88fe-21aa560f1b48",
        "colab": {
          "base_uri": "https://localhost:8080/"
        }
      },
      "source": [
        "a = torch.arange(start=0, end=10)\n",
        "indices = np.arange(0, 10) > 5\n",
        "print(a)\n",
        "print(indices)\n",
        "print(a[indices])\n",
        "\n",
        "indices = torch.arange(start=0, end=10) %5\n",
        "print(indices)\n",
        "print(a[indices])"
      ],
      "execution_count": 44,
      "outputs": [
        {
          "output_type": "stream",
          "name": "stdout",
          "text": [
            "tensor([0, 1, 2, 3, 4, 5, 6, 7, 8, 9])\n",
            "[False False False False False False  True  True  True  True]\n",
            "tensor([6, 7, 8, 9])\n",
            "tensor([0, 1, 2, 3, 4, 0, 1, 2, 3, 4])\n",
            "tensor([0, 1, 2, 3, 4, 0, 1, 2, 3, 4])\n"
          ]
        }
      ]
    },
    {
      "cell_type": "markdown",
      "metadata": {
        "id": "LS4dnlu47WQu"
      },
      "source": [
        "\n",
        "\n",
        "\n",
        "---\n",
        "\n",
        "## Question 7:\n",
        "\n",
        "`a` is defined as `torch.arange(start=0, end=10)`. We will create `b` using the two operations as below. In both cases do we get the same value?\n",
        "\n",
        "\n",
        "1.   indices variable created by the modulo operation on arange between 0 and 10. Then a new varialble `b` is created from `a` using the last 5 elements of indices. \n",
        "2.   indices variable created by the modulo operation on arange betwenn 1 and 11. Then a new varialble `b` is created from `a` using the last 5 elements of indices. \n",
        "\n",
        "\n",
        "\n",
        "---\n",
        "\n",
        "\n"
      ]
    },
    {
      "cell_type": "markdown",
      "source": [
        "Yes. Since the indices to use will be the same as the modulo is still with 5"
      ],
      "metadata": {
        "id": "i3b1tJi4IvUe"
      }
    },
    {
      "cell_type": "code",
      "source": [
        "a = torch.arange(0,10)\n",
        "indices = a%5\n",
        "indices_new = b[:-5]\n",
        "print(indices)\n",
        "print(indices_new) \n",
        "array1 = a[indices_new]"
      ],
      "metadata": {
        "id": "UCzg57H_EXHf",
        "outputId": "0445ebb2-e3ed-461a-b910-428a9f21f038",
        "colab": {
          "base_uri": "https://localhost:8080/"
        }
      },
      "execution_count": 48,
      "outputs": [
        {
          "output_type": "stream",
          "name": "stdout",
          "text": [
            "tensor([0, 1, 2, 3, 4, 0, 1, 2, 3, 4])\n",
            "tensor([0, 1, 2, 3, 4])\n"
          ]
        }
      ]
    },
    {
      "cell_type": "code",
      "source": [
        "a = torch.arange(0,11)\n",
        "indices = a%5\n",
        "indices_new = b[:-5]\n",
        "print(indices)\n",
        "print(indices_new) \n",
        "array1 = a[indices_new]"
      ],
      "metadata": {
        "id": "hJtEUyvBIghA",
        "outputId": "c87b7892-3cc5-4175-beb2-13da8339bda2",
        "colab": {
          "base_uri": "https://localhost:8080/"
        }
      },
      "execution_count": 49,
      "outputs": [
        {
          "output_type": "stream",
          "name": "stdout",
          "text": [
            "tensor([0, 1, 2, 3, 4, 0, 1, 2, 3, 4, 0])\n",
            "tensor([0, 1, 2, 3, 4])\n"
          ]
        }
      ]
    },
    {
      "cell_type": "markdown",
      "metadata": {
        "id": "eQ4ZCVsTk-KH"
      },
      "source": [
        "What should we do if we have, say, rank-2-tensor and want to select only some rows?"
      ]
    },
    {
      "cell_type": "code",
      "metadata": {
        "id": "_GtRpotjkt1q",
        "outputId": "2bd633ef-eadd-4aea-a8ce-235697a97f03",
        "colab": {
          "base_uri": "https://localhost:8080/"
        }
      },
      "source": [
        "tensor = torch.rand((5, 3))\n",
        "rows = torch.tensor([0, 2])\n",
        "print(tensor)\n",
        "tensor[rows]"
      ],
      "execution_count": 51,
      "outputs": [
        {
          "output_type": "stream",
          "name": "stdout",
          "text": [
            "tensor([[0.4516, 0.3074, 0.3594],\n",
            "        [0.9209, 0.1131, 0.6892],\n",
            "        [0.1632, 0.3561, 0.9845],\n",
            "        [0.1317, 0.5979, 0.4126],\n",
            "        [0.0263, 0.5909, 0.3567]])\n"
          ]
        },
        {
          "output_type": "execute_result",
          "data": {
            "text/plain": [
              "tensor([[0.1632, 0.3561, 0.9845],\n",
              "        [0.1317, 0.5979, 0.4126]])"
            ]
          },
          "metadata": {},
          "execution_count": 51
        }
      ]
    },
    {
      "cell_type": "code",
      "source": [
        "rows = 2\n",
        "tensor[rows:rows+2]"
      ],
      "metadata": {
        "id": "nLb7JWmiI3-W"
      },
      "execution_count": null,
      "outputs": []
    },
    {
      "cell_type": "markdown",
      "metadata": {
        "id": "zIJnr_N2_Qaf"
      },
      "source": [
        "\n",
        "\n",
        "---\n",
        "\n",
        "## Question 8: \n",
        "\n",
        "Consider a tensor defined as `torch.rand((6, 5))`. Is the shape of the new tensor created by taking the 0th, 2nd and 4th row of the old tensor same as the shape of the a newer tensor created by taking the 0th, 2nd and 4th row of the old tensor after transposing it by operation `torch.transpose(tensor, 0, 1)` ?\n",
        "\n",
        "\n",
        "\n",
        "---\n",
        "\n",
        "\n"
      ]
    },
    {
      "cell_type": "code",
      "source": [
        "# No the shapes will be different: 3,5 vs. 3,6\n",
        "a = torch.rand((6,5))\n",
        "print(a)\n",
        "a_new = a[[0,2,4]]\n",
        "print(a_new)\n",
        "a_transpose = torch.transpose(a,0,1)\n",
        "a_transpose_new = a_transpose[[0,2,4]]\n",
        "print(a_transpose_new)"
      ],
      "metadata": {
        "id": "yXtgJ1ipNbHR",
        "outputId": "f8bfac03-bb6d-4840-deed-713bc52d24f2",
        "colab": {
          "base_uri": "https://localhost:8080/"
        }
      },
      "execution_count": 55,
      "outputs": [
        {
          "output_type": "stream",
          "name": "stdout",
          "text": [
            "tensor([[0.2906, 0.3459, 0.8705, 0.3293, 0.0254],\n",
            "        [0.9767, 0.6382, 0.0227, 0.3408, 0.9833],\n",
            "        [0.3855, 0.9377, 0.0730, 0.4973, 0.8654],\n",
            "        [0.7847, 0.5668, 0.2176, 0.8237, 0.2067],\n",
            "        [0.4267, 0.1342, 0.7105, 0.6810, 0.1843],\n",
            "        [0.4701, 0.8172, 0.7330, 0.5001, 0.1748]])\n",
            "tensor([[0.2906, 0.3459, 0.8705, 0.3293, 0.0254],\n",
            "        [0.3855, 0.9377, 0.0730, 0.4973, 0.8654],\n",
            "        [0.4267, 0.1342, 0.7105, 0.6810, 0.1843]])\n",
            "tensor([[0.2906, 0.9767, 0.3855, 0.7847, 0.4267, 0.4701],\n",
            "        [0.8705, 0.0227, 0.0730, 0.2176, 0.7105, 0.7330],\n",
            "        [0.0254, 0.9833, 0.8654, 0.2067, 0.1843, 0.1748]])\n"
          ]
        }
      ]
    },
    {
      "cell_type": "markdown",
      "metadata": {
        "id": "naDzFMkslU0b"
      },
      "source": [
        "## Tensor Shapes\n",
        "\n",
        "Reshaping a tensor is a frequently used operation. We can change the shape of a tensor without the memory copying overhead. There are two methods for that: `reshape` and `view`. \n",
        "\n",
        "The difference is the following: \n",
        "\n",
        "\n",
        "*   view tries to return a tensor, and it shares the same memory with the original tensor. In case, if it cannot reuse the same memory due to [some reason](https://pytorch.org/docs/stable/tensors.html?highlight=view#torch.Tensor.view), it just fails. \n",
        "*   reshape always returns the tensor with the desired shape and tries to reuse the memory. If it cannot, it creates a copy\n",
        "\n",
        "Let's see with the help of an example:"
      ]
    },
    {
      "cell_type": "code",
      "metadata": {
        "id": "HClDkqLLlMJh",
        "outputId": "7198d8da-3d7d-4ce5-b148-27679844cb71",
        "colab": {
          "base_uri": "https://localhost:8080/"
        }
      },
      "source": [
        "tensor = torch.rand(2, 3, 4)\n",
        "print('Pointer to data: ', tensor.data_ptr())\n",
        "print('Shape: ', tensor.shape)\n",
        "\n",
        "reshaped = tensor.reshape(24)\n",
        "\n",
        "view = tensor.view(3, 2, 4)\n",
        "print('Reshaped tensor - pointer to data', reshaped.data_ptr())\n",
        "print('Reshaped tensor shape ', reshaped.shape)\n",
        "\n",
        "print('Viewed tensor - pointer to data', view.data_ptr())\n",
        "print('Viewed tensor shape ', view.shape)\n",
        "\n",
        "assert tensor.data_ptr() == view.data_ptr()\n",
        "\n",
        "assert np.all(np.equal(tensor.numpy().flat, reshaped.numpy().flat))\n",
        "\n",
        "print('Original stride: ', tensor.stride())\n",
        "print('Reshaped stride: ', reshaped.stride())\n",
        "print('Viewed stride: ', view.stride())"
      ],
      "execution_count": 56,
      "outputs": [
        {
          "output_type": "stream",
          "name": "stdout",
          "text": [
            "Pointer to data:  110548096\n",
            "Shape:  torch.Size([2, 3, 4])\n",
            "Reshaped tensor - pointer to data 110548096\n",
            "Reshaped tensor shape  torch.Size([24])\n",
            "Viewed tensor - pointer to data 110548096\n",
            "Viewed tensor shape  torch.Size([3, 2, 4])\n",
            "Original stride:  (12, 4, 1)\n",
            "Reshaped stride:  (1,)\n",
            "Viewed stride:  (8, 4, 1)\n"
          ]
        }
      ]
    },
    {
      "cell_type": "markdown",
      "metadata": {
        "id": "jIN5jSppm4yC"
      },
      "source": [
        "\n",
        "\n",
        "```\n",
        "# This is formatted as code\n",
        "```\n",
        "\n",
        "The basic rule about reshaping the tensor is definitely that you cannot change the total number of elements in it, so the product of all tensor's dimensions should always be the same. It gives us the ability to avoid specifying one dimension when reshaping the tensor - Pytorch can calculate it for us:"
      ]
    },
    {
      "cell_type": "code",
      "metadata": {
        "id": "e3D19ERFmzOl",
        "outputId": "f8531d33-c985-4e60-ab9a-ae838663dd8a",
        "colab": {
          "base_uri": "https://localhost:8080/"
        }
      },
      "source": [
        "print(tensor.reshape(3, 2, 4).shape)\n",
        "print(tensor.reshape(3, 2, -1).shape)\n",
        "print(tensor.reshape(3, -1, 4).shape)"
      ],
      "execution_count": 57,
      "outputs": [
        {
          "output_type": "stream",
          "name": "stdout",
          "text": [
            "torch.Size([3, 2, 4])\n",
            "torch.Size([3, 2, 4])\n",
            "torch.Size([3, 2, 4])\n"
          ]
        }
      ]
    },
    {
      "cell_type": "markdown",
      "metadata": {
        "id": "ObgCQKUiETak"
      },
      "source": [
        "\n",
        "\n",
        "---\n",
        "\n",
        "\n",
        "## Question 9:\n",
        "\n",
        "Consider a tensor `a` created with [1, 2, 3] and [1, 2, 3] of size (2, 3) is reshaped with operation `.reshape(-1, 2)`. Also consider a tensor `b` created with [[2, 1]] and of size (1, 2), later operated with `view(2, -1)` operation. \n",
        "\n",
        "If we do a dot product of a and b (using `torch.mm`) and perform the sum of all the elements (using `torch.sum`) what do we get? (enter int value without any decimal point in the quiz)\n",
        "\n",
        "\n",
        "\n",
        "---\n",
        "\n"
      ]
    },
    {
      "cell_type": "code",
      "source": [
        "l = np.array([[1,2,3],[1,2,3]])\n",
        "a = torch.tensor(l)\n",
        "a_reshape = a.reshape(-1,2)\n",
        "a_reshape\n"
      ],
      "metadata": {
        "id": "XkNEGabtSUyb",
        "outputId": "f1ebc0cf-de4c-4573-bd3b-a3530d287ab5",
        "colab": {
          "base_uri": "https://localhost:8080/"
        }
      },
      "execution_count": 66,
      "outputs": [
        {
          "output_type": "execute_result",
          "data": {
            "text/plain": [
              "tensor([[1, 2],\n",
              "        [3, 1],\n",
              "        [2, 3]])"
            ]
          },
          "metadata": {},
          "execution_count": 66
        }
      ]
    },
    {
      "cell_type": "code",
      "source": [
        "l = np.array([[2,1]]).reshape((1,2))\n",
        "print(l)\n",
        "b = torch.tensor(l)\n",
        "b_view = b.view(2,-1)\n",
        "b_view\n"
      ],
      "metadata": {
        "id": "LmahQ47bS-0z",
        "outputId": "795e31a0-1c0b-4e57-87b8-5cbdad26a3ee",
        "colab": {
          "base_uri": "https://localhost:8080/"
        }
      },
      "execution_count": 67,
      "outputs": [
        {
          "output_type": "stream",
          "name": "stdout",
          "text": [
            "[[2 1]]\n"
          ]
        },
        {
          "output_type": "execute_result",
          "data": {
            "text/plain": [
              "tensor([[2],\n",
              "        [1]])"
            ]
          },
          "metadata": {},
          "execution_count": 67
        }
      ]
    },
    {
      "cell_type": "code",
      "source": [
        "# print(torch.mm(a,b))\n",
        "print(torch.mm(a_reshape,b_view))\n",
        "print(torch.sum(torch.mm(a_reshape,b_view)))"
      ],
      "metadata": {
        "id": "jvKT51BNTvf8",
        "outputId": "f78b8021-8571-4b3f-abfc-8f7676ee97e1",
        "colab": {
          "base_uri": "https://localhost:8080/"
        }
      },
      "execution_count": 70,
      "outputs": [
        {
          "output_type": "stream",
          "name": "stdout",
          "text": [
            "tensor([[4],\n",
            "        [7],\n",
            "        [7]])\n",
            "tensor(18)\n"
          ]
        }
      ]
    },
    {
      "cell_type": "markdown",
      "metadata": {
        "id": "mza7QPg3ndeV"
      },
      "source": [
        "**Alternative ways to view tensors** - `expand` or `expand_as`.\n",
        "\n",
        "\n",
        "\n",
        "*   `expand` - requires the desired shape as an input\n",
        "*   `expand_as` - uses the shape of another tensor\n",
        "\n",
        "These operations \"repeat\" tensor's values along the specified axes without actually copying the data. \n",
        "\n",
        "As the documentation says, expand:\n",
        "\n",
        "\n",
        "> returns a new view of the self tensor with singleton dimensions expanded to a larger size. Tensor can be also expanded to a larger number of dimensions, and the new ones will be appended at the front. For the new dimensions, the size cannot be set to -1. \n",
        "\n",
        "**Use case:**\n",
        "\n",
        "\n",
        "\n",
        "*   index multi-channel tensor with single-channel mask - imagine a color image with 3 channels (RGB) and binary mask for the area of interest on that image. We cannot index the image with this kind of mask directly since the dimensions are different, but we can use `expand_as` operation to create a view of the mask that has the same dimensions as the image we want to apply it to, but has not copied the data. "
      ]
    },
    {
      "cell_type": "code",
      "metadata": {
        "id": "iz33E-V7nPQT",
        "outputId": "ee5602be-087d-47d2-fc5d-33f77ad360a8",
        "colab": {
          "base_uri": "https://localhost:8080/",
          "height": 595
        }
      },
      "source": [
        "%matplotlib inline\n",
        "from matplotlib import pyplot as plt\n",
        "\n",
        "# Create a black image\n",
        "image = torch.zeros(size=(3, 256, 256), dtype=torch.int)\n",
        "\n",
        "# Leave the borders and make the rest of the image Green\n",
        "image[1, 18:256 - 18, 18:256 - 18] = 255\n",
        "\n",
        "# Create a mask of the same size\n",
        "mask = torch.zeros(size=(256, 256), dtype=torch.bool)\n",
        "\n",
        "# Assuming the green region in the original image is the Region of interest, change the mask to white for that area\n",
        "mask[18:256 - 18, 18:256 - 18] = 1\n",
        "\n",
        "# Create a view of the mask with the same dimensions as the original image\n",
        "mask_expanded = mask.expand_as(image)\n",
        "print(mask_expanded.shape)\n",
        "\n",
        "mask_np = mask_expanded.numpy().transpose(1, 2, 0) * 255\n",
        "image_np = image.numpy().transpose(1, 2, 0)\n",
        "\n",
        "fig, ax = plt.subplots(1, 2)\n",
        "ax[0].imshow(image_np)\n",
        "ax[1].imshow(mask_np)\n",
        "plt.show()\n",
        "\n",
        "image[0, mask] += 128\n",
        "fig, ax = plt.subplots(1, 2)\n",
        "ax[0].imshow(image_np)\n",
        "ax[1].imshow(mask_np)\n",
        "plt.show()\n",
        "\n",
        "image[mask_expanded] += 128\n",
        "image.clamp_(0, 255)\n",
        "fig, ax = plt.subplots(1, 2)\n",
        "ax[0].imshow(image_np)\n",
        "ax[1].imshow(mask_np)\n",
        "plt.show()"
      ],
      "execution_count": 71,
      "outputs": [
        {
          "output_type": "stream",
          "name": "stdout",
          "text": [
            "torch.Size([3, 256, 256])\n"
          ]
        },
        {
          "output_type": "display_data",
          "data": {
            "text/plain": [
              "<Figure size 432x288 with 2 Axes>"
            ],
            "image/png": "[encoded data removed]"
          },
          "metadata": {
            "needs_background": "light"
          }
        },
        {
          "output_type": "display_data",
          "data": {
            "text/plain": [
              "<Figure size 432x288 with 2 Axes>"
            ],
            "image/png": "[encoded data removed]"
          },
          "metadata": {
            "needs_background": "light"
          }
        },
        {
          "output_type": "display_data",
          "data": {
            "text/plain": [
              "<Figure size 432x288 with 2 Axes>"
            ],
            "image/png": "[encoded data removed]"
          },
          "metadata": {
            "needs_background": "light"
          }
        }
      ]
    },
    {
      "cell_type": "markdown",
      "metadata": {
        "id": "jiXBx0k3ptOI"
      },
      "source": [
        "In the example above, one can also find a couple of useful tricks:\n",
        "\n",
        "\n",
        "*   `clamp` method and function is a Pytorch's analogue of NumPy's `clip` function\n",
        "*   many operations on tensors have in-place form, that does not return modified data, but change values in the tensor. The in-place version of the operation has trailing underscore according to Pytorch's naming convension - in the exmaple above it is `clamp_`\n",
        "*   tensors have the same indexing as Numpy's arrays - one can use `:` seperated range, negative indexes and so on.\n",
        "\n",
        "\n",
        ".\n",
        "\n",
        "\n",
        "---\n",
        "\n",
        "# Images and their representations\n",
        "\n",
        "Now, let's discuss images, their representations and how different Python librarties work with them. \n",
        "\n",
        "Probably, the most well-known library for image loading and simple processing is [Pillow](https://pillow.readthedocs.io/en/stable/). \n",
        "\n",
        "However, many people in deep learning area stick with OpenCV for image loading and processing with some usage of another libraries when it is justified by performance/functionality. This is because OpenCV is in general much faster than the other libraries. Here you can find a couple of benchmarks: \n",
        "\n",
        "*   https://www.kaggle.com/zfturbo/benchmark-2019-speed-of-image-reading\n",
        "*   https://github.com/albumentations-team/albumentations#benchmarking-results\n",
        "\n",
        "To sum up the benchmarks above, there are two most common image formats, PNG and JPEGs. If your data is in PNG format - use OpenCV to read it. If it is in JPEG - use libturbojpeg. For image processing, use OpenCV if possible. _We will be using PIL a lot along with these._\n",
        "\n",
        "As you will read the code from others, you may find out that some of them use Pillow/something else to read data. You should know, that color image representations in OpenCV and other libraries are different - OpenCV uses \"BGR\" channel order, while others use \"RGB\" one. \n",
        "\n",
        "To change \"BRG\" <-> \"RGB\" the only thing we need to do it to change channel order."
      ]
    },
    {
      "cell_type": "code",
      "source": [
        "import os\n",
        "os.getcwd()"
      ],
      "metadata": {
        "id": "ESgLxEFbX_NU",
        "outputId": "f9012102-42a3-4c91-c364-88a3b7e33eb6",
        "colab": {
          "base_uri": "https://localhost:8080/",
          "height": 35
        }
      },
      "execution_count": 81,
      "outputs": [
        {
          "output_type": "execute_result",
          "data": {
            "text/plain": [
              "'/content'"
            ],
            "application/vnd.google.colaboratory.intrinsic+json": {
              "type": "string"
            }
          },
          "metadata": {},
          "execution_count": 81
        }
      ]
    },
    {
      "cell_type": "code",
      "metadata": {
        "id": "ZYv4sZMmpndu",
        "outputId": "609aad22-8fe1-4535-a117-2e499871511f",
        "colab": {
          "base_uri": "https://localhost:8080/",
          "height": 152
        }
      },
      "source": [
        "%matplotlib inline\n",
        "from matplotlib import pyplot as plt\n",
        "import cv2\n",
        "\n",
        "\n",
        "bgr_image = cv2.imread('mars.jpg') \n",
        "# remember to add your own image in case you run this block, if you want to use the same image, \n",
        "# download it from: https://encrypted-tbn0.gstatic.com/images?q=tbn%3AANd9GcRCA40ftnscVzfV8ft8e7vIzQXfXeZdtco8nknJrfCUW6INI40U\n",
        "rgb_image = bgr_image[..., ::-1]\n",
        "fig, ax = plt.subplots(1, 2)\n",
        "ax[0].imshow(bgr_image)\n",
        "ax[1].imshow(rgb_image)\n",
        "plt.show()"
      ],
      "execution_count": 85,
      "outputs": [
        {
          "output_type": "display_data",
          "data": {
            "text/plain": [
              "<Figure size 432x288 with 2 Axes>"
            ],
            "image/png": "[encoded data removed]"
          },
          "metadata": {
            "needs_background": "light"
          }
        }
      ]
    },
    {
      "cell_type": "markdown",
      "metadata": {
        "id": "yoi4TeNBGHle"
      },
      "source": [
        "\n",
        "\n",
        "---\n",
        "\n",
        "## Question 10:\n",
        "\n",
        "Looking at the results above it can be said that the pixel values in the blue channels would be very small compared to red channel. True/False?\n",
        "\n",
        "\n",
        "---\n",
        "\n",
        "\n"
      ]
    },
    {
      "cell_type": "code",
      "source": [
        "np.sum(bgr_image,axis=0).sum(axis=0)"
      ],
      "metadata": {
        "id": "QvezMcQsYZ99",
        "outputId": "1fac7619-b50f-47b6-e72b-a02b6766ba63",
        "colab": {
          "base_uri": "https://localhost:8080/"
        }
      },
      "execution_count": 99,
      "outputs": [
        {
          "output_type": "execute_result",
          "data": {
            "text/plain": [
              "array([ 1297391, 10818846, 24516736], dtype=uint64)"
            ]
          },
          "metadata": {},
          "execution_count": 99
        }
      ]
    },
    {
      "cell_type": "code",
      "source": [
        "np.sum(rgb_image,axis=0).sum(axis=0)"
      ],
      "metadata": {
        "id": "u9jgMbS-ZCBJ",
        "outputId": "b6d4b6a7-416e-4aff-b8bf-ee8b0fe9c09b",
        "colab": {
          "base_uri": "https://localhost:8080/"
        }
      },
      "execution_count": 100,
      "outputs": [
        {
          "output_type": "execute_result",
          "data": {
            "text/plain": [
              "array([24516736, 10818846,  1297391], dtype=uint64)"
            ]
          },
          "metadata": {},
          "execution_count": 100
        }
      ]
    },
    {
      "cell_type": "markdown",
      "metadata": {
        "id": "b3ugFd57zNwa"
      },
      "source": [
        "# Autograd\n",
        "\n",
        "Pytorch supports automatic differentiation. The module which implements this is called **AutoGrad**. It calculates the gradients and keeps track in forward and backward passes. For primitive tensors, you need to enable or disable it using the `required_grad` flag. But, for advanced tensors, it is enabled by default"
      ]
    },
    {
      "cell_type": "code",
      "metadata": {
        "id": "VMOp4aiou6JR",
        "outputId": "26e383d2-72d9-47c1-8869-1194a145eb30",
        "colab": {
          "base_uri": "https://localhost:8080/"
        }
      },
      "source": [
        "a = torch.rand((3, 5), requires_grad = True)\n",
        "print(a)\n",
        "result = a * 5\n",
        "print(result)\n",
        "\n",
        "# grad can be implicitly created only for scalar outputs\n",
        "# so let's calculate the sum here so that the output becomes a scalar and we can apply a backward pass\n",
        "mean_result = result.sum()\n",
        "print(mean_result)\n",
        "# calculate gradient\n",
        "mean_result.backward()\n",
        "# print gradient of a\n",
        "print(a.grad) # it is 5. because our expressions is x*5 everywhere and we differentiate by x"
      ],
      "execution_count": 101,
      "outputs": [
        {
          "output_type": "stream",
          "name": "stdout",
          "text": [
            "tensor([[0.9843, 0.0892, 0.2321, 0.7283, 0.2864],\n",
            "        [0.8543, 0.0487, 0.6778, 0.4478, 0.6267],\n",
            "        [0.6870, 0.5150, 0.5290, 0.3227, 0.7436]], requires_grad=True)\n",
            "tensor([[4.9214, 0.4458, 1.1603, 3.6413, 1.4318],\n",
            "        [4.2717, 0.2436, 3.3890, 2.2390, 3.1336],\n",
            "        [3.4351, 2.5749, 2.6451, 1.6135, 3.7178]], grad_fn=<MulBackward0>)\n",
            "tensor(38.8640, grad_fn=<SumBackward0>)\n",
            "tensor([[5., 5., 5., 5., 5.],\n",
            "        [5., 5., 5., 5., 5.],\n",
            "        [5., 5., 5., 5., 5.]])\n"
          ]
        }
      ]
    },
    {
      "cell_type": "markdown",
      "metadata": {
        "id": "ym0Amk2IGfLx"
      },
      "source": [
        "\n",
        "\n",
        "---\n",
        "\n",
        "## Question 11: \n",
        "\n",
        "Why the gradient of a is all 5s above?\n",
        "\n",
        "\n",
        "\n",
        "---\n",
        "\n"
      ]
    },
    {
      "cell_type": "markdown",
      "source": [
        "it is 5. because our expressions is x*5 everywhere and we differentiate by x"
      ],
      "metadata": {
        "id": "dcfCCcNsZqeh"
      }
    },
    {
      "cell_type": "markdown",
      "metadata": {
        "id": "7PDgGq2R0k7I"
      },
      "source": [
        "As we see, Pytorch automagically calculated the gradient value for us. It looks to be the correct value - we multiplied an input by 5, so the gradient of this operation equals to 5.\n",
        "\n",
        "# Disabling Autograd for tensors\n",
        "\n",
        "We don't need to compute gradients for all the variables that are involved in the pipeline. The Pytorch API provides 2 ways to disable autograd.\n",
        "\n",
        "`detach` - returns a copy of the tensor with autograd disabled. This \n",
        "\n",
        "1.   copy is built on the same memory as the original tensor, so in-place size / stride / storage changes (such as resize_ / resizeas / set / transpose) modifications are not allowed.\n",
        "2.   torch.no_grad() - It is a context manager that allows you to guard a series of operations from autograd without creating new tensors."
      ]
    },
    {
      "cell_type": "code",
      "metadata": {
        "id": "yqVG9fQb0cLW",
        "outputId": "7034e2cd-b144-4fe6-b580-f33b1345eb49",
        "colab": {
          "base_uri": "https://localhost:8080/"
        }
      },
      "source": [
        "a = torch.rand((3, 5), requires_grad=True)\n",
        "detached_a = a.detach()\n",
        "detached_result = detached_a * 5\n",
        "result = a * 10\n",
        "# we cannot do backward pass that is required for autograd using multideminsional output,\n",
        "# so let's calculate the sum here\n",
        "mean_result = result.sum()\n",
        "mean_result.backward()\n",
        "a.grad"
      ],
      "execution_count": 103,
      "outputs": [
        {
          "output_type": "execute_result",
          "data": {
            "text/plain": [
              "tensor([[10., 10., 10., 10., 10.],\n",
              "        [10., 10., 10., 10., 10.],\n",
              "        [10., 10., 10., 10., 10.]])"
            ]
          },
          "metadata": {},
          "execution_count": 103
        }
      ]
    },
    {
      "cell_type": "code",
      "source": [
        "# detached_result.backward() # not possible\n",
        "mean_detached_result = detached_result.sum()\n",
        "# mean_detached_result.backward() # not possible\n",
        "detached_a.grad # does not return anything"
      ],
      "metadata": {
        "id": "wZUROfBvaUhw"
      },
      "execution_count": 106,
      "outputs": []
    },
    {
      "cell_type": "code",
      "metadata": {
        "id": "uqpch2Be02J7",
        "outputId": "30b9c423-dd1d-4e71-8499-37fcb2dc6330",
        "colab": {
          "base_uri": "https://localhost:8080/"
        }
      },
      "source": [
        "a = torch.rand((3, 5), requires_grad=True)\n",
        "with torch.no_grad():\n",
        "    detached_result = a * 5\n",
        "result = a * 10\n",
        "# we cannot do backward pass that is required for autograd using multideminsional output,\n",
        "# so let's calculate the sum here\n",
        "mean_result = result.sum()\n",
        "mean_result.backward()\n",
        "a.grad"
      ],
      "execution_count": 107,
      "outputs": [
        {
          "output_type": "execute_result",
          "data": {
            "text/plain": [
              "tensor([[10., 10., 10., 10., 10.],\n",
              "        [10., 10., 10., 10., 10.],\n",
              "        [10., 10., 10., 10., 10.]])"
            ]
          },
          "metadata": {},
          "execution_count": 107
        }
      ]
    },
    {
      "cell_type": "markdown",
      "metadata": {
        "id": "vjh2rYOPJUAZ"
      },
      "source": [
        "# Custom Network\n",
        "\n",
        "A fully-connected ReLU network with one hidden layer and no biases, trained to predict y from x by minimizing squared Euclidean distance.\n",
        "\n",
        "This implementation uses PyTorch tensors to manually compute the forward pass, loss, and backward pass.\n",
        "\n",
        "A PyTorch Tensor is basically the same as a numpy array: it does not know anything about deep learning or computational graphs or gradients, and is just a generic n-dimensional array to be used for arbitrary numeric computation.\n",
        "\n",
        "The biggest difference between a numpy array and a PyTorch Tensor is that a PyTorch Tensor can run on either CPU or GPU. To run operations on the GPU, just cast the Tensor to a cuda datatype."
      ]
    },
    {
      "cell_type": "code",
      "metadata": {
        "id": "0nf5RaB104Vp",
        "outputId": "94a0dc4d-28b9-4524-c47a-9dd64bcb999b",
        "colab": {
          "base_uri": "https://localhost:8080/"
        }
      },
      "source": [
        "dtype = torch.float\n",
        "device = torch.device(\"cpu\")\n",
        "# device = torch.device(\"cuda:0\") # Uncomment this to run on GPU\n",
        "\n",
        "# N is batch size; D_in is input dimension;\n",
        "# H is hidden dimension; D_out is output dimension.\n",
        "N, D_in, H, D_out = 64, 1000, 100, 10\n",
        "\n",
        "# Create random input and output data\n",
        "x = torch.randn(N, D_in, device=device, dtype=dtype)\n",
        "y = torch.randn(N, D_out, device=device, dtype=dtype)\n",
        "\n",
        "# Randomly initialize weights\n",
        "w1 = torch.randn(D_in, H, device=device, dtype=dtype)\n",
        "w2 = torch.randn(H, D_out, device=device, dtype=dtype)\n",
        "\n",
        "learning_rate = 1e-6\n",
        "for t in range(500):\n",
        "    # Forward pass: compute predicted y\n",
        "    h = x.mm(w1)\n",
        "    h_relu = h.clamp(min=0)\n",
        "    y_pred = h_relu.mm(w2)\n",
        "\n",
        "    # Compute and print loss\n",
        "    loss = (y_pred - y).pow(2).sum().item()\n",
        "    print(t, loss)\n",
        "\n",
        "    # Backprop to compute gradients of w1 and w2 with respect to loss\n",
        "    grad_y_pred = 2*(y_pred - y)\n",
        "    grad_w2 = h_relu.t().mm(grad_y_pred)\n",
        "    grad_h_relu = grad_y_pred.mm(w2.t())\n",
        "    grad_h = grad_h_relu.clone() # upon commenting this line, the gradients explode and model cannot train\n",
        "    grad_h[h < 0] = 0\n",
        "    grad_w1 = x.t().mm(grad_h)\n",
        "\n",
        "    # Update weights using gradient descent\n",
        "    w1 -= learning_rate * grad_w1\n",
        "    w2 -= learning_rate * grad_w2"
      ],
      "execution_count": 116,
      "outputs": [
        {
          "output_type": "stream",
          "name": "stdout",
          "text": [
            "0 29170908.0\n",
            "1 25045016.0\n",
            "2 24467934.0\n",
            "3 23801528.0\n",
            "4 20908264.0\n",
            "5 16064267.0\n",
            "6 10720830.0\n",
            "7 6535027.5\n",
            "8 3848868.0\n",
            "9 2332906.0\n",
            "10 1508075.875\n",
            "11 1055517.75\n",
            "12 793155.1875\n",
            "13 628845.5625\n",
            "14 517048.59375\n",
            "15 435402.8125\n",
            "16 372382.09375\n",
            "17 321741.875\n",
            "18 279927.71875\n",
            "19 244849.421875\n",
            "20 215115.40625\n",
            "21 189667.78125\n",
            "22 167762.671875\n",
            "23 148808.5625\n",
            "24 132371.0\n",
            "25 118037.2578125\n",
            "26 105496.3046875\n",
            "27 94485.234375\n",
            "28 84786.578125\n",
            "29 76224.1484375\n",
            "30 68637.140625\n",
            "31 61908.828125\n",
            "32 55928.90234375\n",
            "33 50604.0546875\n",
            "34 45849.0078125\n",
            "35 41597.609375\n",
            "36 37790.90625\n",
            "37 34372.09765625\n",
            "38 31299.9375\n",
            "39 28533.8359375\n",
            "40 26038.5703125\n",
            "41 23783.357421875\n",
            "42 21743.884765625\n",
            "43 19897.853515625\n",
            "44 18225.076171875\n",
            "45 16708.3359375\n",
            "46 15330.0380859375\n",
            "47 14076.095703125\n",
            "48 12934.1357421875\n",
            "49 11893.53515625\n",
            "50 10944.9736328125\n",
            "51 10078.9970703125\n",
            "52 9288.53515625\n",
            "53 8565.490234375\n",
            "54 7903.38330078125\n",
            "55 7296.7939453125\n",
            "56 6740.55712890625\n",
            "57 6230.30908203125\n",
            "58 5761.71728515625\n",
            "59 5330.89990234375\n",
            "60 4934.72216796875\n",
            "61 4570.10546875\n",
            "62 4234.5029296875\n",
            "63 3925.226806640625\n",
            "64 3640.26708984375\n",
            "65 3377.55859375\n",
            "66 3135.031005859375\n",
            "67 2911.030517578125\n",
            "68 2704.167236328125\n",
            "69 2512.942626953125\n",
            "70 2336.104736328125\n",
            "71 2172.55029296875\n",
            "72 2021.185791015625\n",
            "73 1881.049072265625\n",
            "74 1751.1993408203125\n",
            "75 1630.86669921875\n",
            "76 1519.2882080078125\n",
            "77 1415.7904052734375\n",
            "78 1319.79833984375\n",
            "79 1230.7103271484375\n",
            "80 1147.931640625\n",
            "81 1071.0374755859375\n",
            "82 999.5582885742188\n",
            "83 933.0999145507812\n",
            "84 871.30712890625\n",
            "85 813.829345703125\n",
            "86 760.3383178710938\n",
            "87 710.53076171875\n",
            "88 664.2510986328125\n",
            "89 621.1802978515625\n",
            "90 581.03466796875\n",
            "91 543.6172485351562\n",
            "92 508.7276306152344\n",
            "93 476.1828308105469\n",
            "94 445.8271179199219\n",
            "95 417.50091552734375\n",
            "96 391.0562438964844\n",
            "97 366.36492919921875\n",
            "98 343.28973388671875\n",
            "99 321.7354736328125\n",
            "100 301.5942077636719\n",
            "101 282.76580810546875\n",
            "102 265.1655578613281\n",
            "103 248.70457458496094\n",
            "104 233.31182861328125\n",
            "105 218.9123992919922\n",
            "106 205.4342803955078\n",
            "107 192.82095336914062\n",
            "108 181.00746154785156\n",
            "109 169.94882202148438\n",
            "110 159.59019470214844\n",
            "111 149.89324951171875\n",
            "112 140.806884765625\n",
            "113 132.286865234375\n",
            "114 124.29850769042969\n",
            "115 116.81216430664062\n",
            "116 109.79230499267578\n",
            "117 103.21211242675781\n",
            "118 97.03815460205078\n",
            "119 91.24270629882812\n",
            "120 85.80810546875\n",
            "121 80.70988464355469\n",
            "122 75.92233276367188\n",
            "123 71.42678833007812\n",
            "124 67.20733642578125\n",
            "125 63.24420928955078\n",
            "126 59.52250289916992\n",
            "127 56.02940368652344\n",
            "128 52.74506378173828\n",
            "129 49.65935134887695\n",
            "130 46.759342193603516\n",
            "131 44.03266143798828\n",
            "132 41.470882415771484\n",
            "133 39.06066131591797\n",
            "134 36.795204162597656\n",
            "135 34.66606521606445\n",
            "136 32.66264724731445\n",
            "137 30.77834129333496\n",
            "138 29.005950927734375\n",
            "139 27.337324142456055\n",
            "140 25.767333984375\n",
            "141 24.290178298950195\n",
            "142 22.90106773376465\n",
            "143 21.592647552490234\n",
            "144 20.361194610595703\n",
            "145 19.200244903564453\n",
            "146 18.10816192626953\n",
            "147 17.079225540161133\n",
            "148 16.11064910888672\n",
            "149 15.197729110717773\n",
            "150 14.338006019592285\n",
            "151 13.528412818908691\n",
            "152 12.76517105102539\n",
            "153 12.046356201171875\n",
            "154 11.368766784667969\n",
            "155 10.729869842529297\n",
            "156 10.12796688079834\n",
            "157 9.560932159423828\n",
            "158 9.025531768798828\n",
            "159 8.521160125732422\n",
            "160 8.045528411865234\n",
            "161 7.5971550941467285\n",
            "162 7.174129486083984\n",
            "163 6.774824142456055\n",
            "164 6.398319244384766\n",
            "165 6.043419361114502\n",
            "166 5.7085981369018555\n",
            "167 5.392394065856934\n",
            "168 5.094333648681641\n",
            "169 4.812891483306885\n",
            "170 4.547483921051025\n",
            "171 4.296948432922363\n",
            "172 4.060293197631836\n",
            "173 3.8370609283447266\n",
            "174 3.6260573863983154\n",
            "175 3.4270594120025635\n",
            "176 3.23941707611084\n",
            "177 3.0618443489074707\n",
            "178 2.8942394256591797\n",
            "179 2.7360644340515137\n",
            "180 2.586629629135132\n",
            "181 2.4456334114074707\n",
            "182 2.3122177124023438\n",
            "183 2.1865012645721436\n",
            "184 2.0676043033599854\n",
            "185 1.9551761150360107\n",
            "186 1.848935842514038\n",
            "187 1.7488696575164795\n",
            "188 1.653982400894165\n",
            "189 1.5644711256027222\n",
            "190 1.479585886001587\n",
            "191 1.399695634841919\n",
            "192 1.32412588596344\n",
            "193 1.2528516054153442\n",
            "194 1.1852567195892334\n",
            "195 1.1215651035308838\n",
            "196 1.0611448287963867\n",
            "197 1.004077434539795\n",
            "198 0.9500523209571838\n",
            "199 0.8991279602050781\n",
            "200 0.850890576839447\n",
            "201 0.8052293062210083\n",
            "202 0.7621772885322571\n",
            "203 0.7214162349700928\n",
            "204 0.6827647686004639\n",
            "205 0.6463029384613037\n",
            "206 0.6117808222770691\n",
            "207 0.5791652202606201\n",
            "208 0.548259437084198\n",
            "209 0.5190702080726624\n",
            "210 0.491455614566803\n",
            "211 0.46524718403816223\n",
            "212 0.440521240234375\n",
            "213 0.4171767234802246\n",
            "214 0.39503633975982666\n",
            "215 0.3740788400173187\n",
            "216 0.35423654317855835\n",
            "217 0.3354107737541199\n",
            "218 0.31773194670677185\n",
            "219 0.30091792345046997\n",
            "220 0.2850055694580078\n",
            "221 0.26992687582969666\n",
            "222 0.2556890845298767\n",
            "223 0.242207869887352\n",
            "224 0.22945892810821533\n",
            "225 0.21729928255081177\n",
            "226 0.2058909684419632\n",
            "227 0.19503308832645416\n",
            "228 0.18478958308696747\n",
            "229 0.1750953644514084\n",
            "230 0.16592498123645782\n",
            "231 0.1571698933839798\n",
            "232 0.148909792304039\n",
            "233 0.14109086990356445\n",
            "234 0.13371612131595612\n",
            "235 0.12670572102069855\n",
            "236 0.1200793981552124\n",
            "237 0.11376932263374329\n",
            "238 0.10782501101493835\n",
            "239 0.10221272706985474\n",
            "240 0.09685367345809937\n",
            "241 0.09183052182197571\n",
            "242 0.08703028410673141\n",
            "243 0.08248963952064514\n",
            "244 0.07823240011930466\n",
            "245 0.07413936406373978\n",
            "246 0.0703112781047821\n",
            "247 0.06662742793560028\n",
            "248 0.06318975239992142\n",
            "249 0.059885382652282715\n",
            "250 0.056793175637722015\n",
            "251 0.05386541038751602\n",
            "252 0.051076531410217285\n",
            "253 0.048415325582027435\n",
            "254 0.04592836648225784\n",
            "255 0.04353103041648865\n",
            "256 0.04128638654947281\n",
            "257 0.03915567323565483\n",
            "258 0.0371362566947937\n",
            "259 0.03522024303674698\n",
            "260 0.033405523747205734\n",
            "261 0.031681377440690994\n",
            "262 0.030046943575143814\n",
            "263 0.028509406372904778\n",
            "264 0.027039583772420883\n",
            "265 0.025656335055828094\n",
            "266 0.024356884881854057\n",
            "267 0.023094214498996735\n",
            "268 0.02190670743584633\n",
            "269 0.020806126296520233\n",
            "270 0.019740724936127663\n",
            "271 0.018731199204921722\n",
            "272 0.017780909314751625\n",
            "273 0.01686939224600792\n",
            "274 0.01602369174361229\n",
            "275 0.01520610973238945\n",
            "276 0.014438117854297161\n",
            "277 0.013703763484954834\n",
            "278 0.013008725829422474\n",
            "279 0.012351219542324543\n",
            "280 0.01172834075987339\n",
            "281 0.011140907183289528\n",
            "282 0.01057149562984705\n",
            "283 0.010039755143225193\n",
            "284 0.009537454694509506\n",
            "285 0.009058011695742607\n",
            "286 0.008609040640294552\n",
            "287 0.008181340992450714\n",
            "288 0.007781216874718666\n",
            "289 0.007390804588794708\n",
            "290 0.007023862097412348\n",
            "291 0.00667971046641469\n",
            "292 0.006350410170853138\n",
            "293 0.006048911716789007\n",
            "294 0.005747444462031126\n",
            "295 0.005467971321195364\n",
            "296 0.0052050016820430756\n",
            "297 0.004956829361617565\n",
            "298 0.0047113243490457535\n",
            "299 0.004480860661715269\n",
            "300 0.00426928885281086\n",
            "301 0.004066736903041601\n",
            "302 0.003875680034980178\n",
            "303 0.003693465143442154\n",
            "304 0.0035213776864111423\n",
            "305 0.003357913112267852\n",
            "306 0.0031982813961803913\n",
            "307 0.003052422311156988\n",
            "308 0.0029122806154191494\n",
            "309 0.0027781296521425247\n",
            "310 0.002648953814059496\n",
            "311 0.002529432065784931\n",
            "312 0.0024157040752470493\n",
            "313 0.002307338174432516\n",
            "314 0.0022048207465559244\n",
            "315 0.0021106041967868805\n",
            "316 0.0020118667744100094\n",
            "317 0.001925231539644301\n",
            "318 0.0018435745732858777\n",
            "319 0.0017630391521379352\n",
            "320 0.0016900334740057588\n",
            "321 0.0016149329021573067\n",
            "322 0.001548714004456997\n",
            "323 0.0014818916097283363\n",
            "324 0.001417839084751904\n",
            "325 0.0013593706535175443\n",
            "326 0.001304257777519524\n",
            "327 0.001252870773896575\n",
            "328 0.0012010346399620175\n",
            "329 0.001152015058323741\n",
            "330 0.0011060601100325584\n",
            "331 0.0010629678145051003\n",
            "332 0.0010215038200840354\n",
            "333 0.000980992685072124\n",
            "334 0.0009422399452887475\n",
            "335 0.0009061486925929785\n",
            "336 0.0008705314830876887\n",
            "337 0.0008367946138605475\n",
            "338 0.0008063443819992244\n",
            "339 0.0007766297203488648\n",
            "340 0.0007470325217582285\n",
            "341 0.0007192438351921737\n",
            "342 0.0006934525445103645\n",
            "343 0.0006671061855740845\n",
            "344 0.0006413221708498895\n",
            "345 0.0006202163640409708\n",
            "346 0.0005982699804008007\n",
            "347 0.0005767863476648927\n",
            "348 0.0005566871841438115\n",
            "349 0.000536278763320297\n",
            "350 0.0005182271706871688\n",
            "351 0.0005013991030864418\n",
            "352 0.0004843885835725814\n",
            "353 0.0004689431516453624\n",
            "354 0.0004540042718872428\n",
            "355 0.00043851850205101073\n",
            "356 0.000424911268055439\n",
            "357 0.00040989526314660907\n",
            "358 0.0003977231390308589\n",
            "359 0.0003849230706691742\n",
            "360 0.00037280170363374054\n",
            "361 0.0003613252192735672\n",
            "362 0.0003498356672935188\n",
            "363 0.0003392558137420565\n",
            "364 0.000328258698573336\n",
            "365 0.0003184473025612533\n",
            "366 0.0003089972597081214\n",
            "367 0.0002999400603584945\n",
            "368 0.00029159674886614084\n",
            "369 0.0002836161002051085\n",
            "370 0.00027484059683047235\n",
            "371 0.00026652030646800995\n",
            "372 0.00025901265325956047\n",
            "373 0.0002522088179830462\n",
            "374 0.0002453543711453676\n",
            "375 0.0002378991775913164\n",
            "376 0.00023119048273656517\n",
            "377 0.00022562159574590623\n",
            "378 0.0002191598032368347\n",
            "379 0.00021308055147528648\n",
            "380 0.00020791564020328224\n",
            "381 0.00020250689703971148\n",
            "382 0.00019721081480383873\n",
            "383 0.0001925879914779216\n",
            "384 0.0001880181662272662\n",
            "385 0.00018300203373655677\n",
            "386 0.0001783938641892746\n",
            "387 0.00017418619245290756\n",
            "388 0.00017026883142534643\n",
            "389 0.00016535251052118838\n",
            "390 0.00016131199663504958\n",
            "391 0.00015766819706186652\n",
            "392 0.00015398321556858718\n",
            "393 0.00015079764125403017\n",
            "394 0.0001470443094149232\n",
            "395 0.0001433386787539348\n",
            "396 0.00014016848581377417\n",
            "397 0.00013734272215515375\n",
            "398 0.0001346909411950037\n",
            "399 0.00013160952948965132\n",
            "400 0.0001283531601075083\n",
            "401 0.00012557754234876484\n",
            "402 0.00012298437650315464\n",
            "403 0.0001202289349748753\n",
            "404 0.00011761461792048067\n",
            "405 0.00011461755639174953\n",
            "406 0.00011224471381865442\n",
            "407 0.0001099451255868189\n",
            "408 0.0001076344633474946\n",
            "409 0.00010564697731751949\n",
            "410 0.00010345534246880561\n",
            "411 0.00010129110160050914\n",
            "412 9.954547567758709e-05\n",
            "413 9.734844206832349e-05\n",
            "414 9.533426782581955e-05\n",
            "415 9.350747859571129e-05\n",
            "416 9.128759120358154e-05\n",
            "417 8.944919682107866e-05\n",
            "418 8.797670307103544e-05\n",
            "419 8.631563105154783e-05\n",
            "420 8.463713311357424e-05\n",
            "421 8.309926488436759e-05\n",
            "422 8.165108738467097e-05\n",
            "423 7.993562030605972e-05\n",
            "424 7.832945266272873e-05\n",
            "425 7.67066449043341e-05\n",
            "426 7.54662323743105e-05\n",
            "427 7.421162445098162e-05\n",
            "428 7.275868847500533e-05\n",
            "429 7.145302515709773e-05\n",
            "430 7.055607420625165e-05\n",
            "431 6.914992991369218e-05\n",
            "432 6.798035610700026e-05\n",
            "433 6.716794450767338e-05\n",
            "434 6.597918400075287e-05\n",
            "435 6.474211841123179e-05\n",
            "436 6.338632374536246e-05\n",
            "437 6.259198562474921e-05\n",
            "438 6.136269075796008e-05\n",
            "439 6.00440580456052e-05\n",
            "440 5.904236968490295e-05\n",
            "441 5.8326775615569204e-05\n",
            "442 5.717315070796758e-05\n",
            "443 5.6030170526355505e-05\n",
            "444 5.540562415262684e-05\n",
            "445 5.440253880806267e-05\n",
            "446 5.356758993002586e-05\n",
            "447 5.2891420637024567e-05\n",
            "448 5.219377999310382e-05\n",
            "449 5.1530842029023916e-05\n",
            "450 5.077604146208614e-05\n",
            "451 4.9827816837932914e-05\n",
            "452 4.9283098633168265e-05\n",
            "453 4.8401689127786085e-05\n",
            "454 4.7968140279408544e-05\n",
            "455 4.726022598333657e-05\n",
            "456 4.6503722842317075e-05\n",
            "457 4.5969649363541976e-05\n",
            "458 4.5365100959315896e-05\n",
            "459 4.4569140300154686e-05\n",
            "460 4.3920274038100615e-05\n",
            "461 4.320685548009351e-05\n",
            "462 4.259963316144422e-05\n",
            "463 4.190610343357548e-05\n",
            "464 4.153366535319947e-05\n",
            "465 4.08553023589775e-05\n",
            "466 4.018644176539965e-05\n",
            "467 3.958538218284957e-05\n",
            "468 3.9001395634841174e-05\n",
            "469 3.854792157653719e-05\n",
            "470 3.784129148698412e-05\n",
            "471 3.74844457837753e-05\n",
            "472 3.70771304005757e-05\n",
            "473 3.6319652281235904e-05\n",
            "474 3.602907599997707e-05\n",
            "475 3.561732592061162e-05\n",
            "476 3.523945633787662e-05\n",
            "477 3.461480446276255e-05\n",
            "478 3.425975955906324e-05\n",
            "479 3.373573417775333e-05\n",
            "480 3.341339106555097e-05\n",
            "481 3.2860007195267826e-05\n",
            "482 3.233592724427581e-05\n",
            "483 3.1970404961612076e-05\n",
            "484 3.172029755660333e-05\n",
            "485 3.1462390325032175e-05\n",
            "486 3.089864185312763e-05\n",
            "487 3.063578697037883e-05\n",
            "488 3.0158211302477866e-05\n",
            "489 2.9816994356224313e-05\n",
            "490 2.944652078440413e-05\n",
            "491 2.9230359359644353e-05\n",
            "492 2.8869380912510678e-05\n",
            "493 2.8460106477723457e-05\n",
            "494 2.8159960493212566e-05\n",
            "495 2.795818909362424e-05\n",
            "496 2.746965765254572e-05\n",
            "497 2.7093039534520358e-05\n",
            "498 2.6858710043597966e-05\n",
            "499 2.667130684130825e-05\n"
          ]
        }
      ]
    },
    {
      "cell_type": "code",
      "source": [
        "x_test = torch.randn(32, D_in, device=device, dtype=dtype)\n",
        "y_test = torch.randn(32, D_out, device=device, dtype=dtype)"
      ],
      "metadata": {
        "id": "MTq1mPtHcRpN"
      },
      "execution_count": 113,
      "outputs": []
    },
    {
      "cell_type": "code",
      "source": [
        "h = x_test.mm(w1)\n",
        "h_relu = h.clamp(min=0)\n",
        "y_pred = h_relu.mm(w2)\n",
        "loss_test = (y_pred - y_test).pow(2).sum().item()\n",
        "print(loss_test)"
      ],
      "metadata": {
        "id": "JFDRwgTKchpR",
        "outputId": "d4734a33-f9eb-46b2-f603-6c519a4aeae3",
        "colab": {
          "base_uri": "https://localhost:8080/"
        }
      },
      "execution_count": 114,
      "outputs": [
        {
          "output_type": "stream",
          "name": "stdout",
          "text": [
            "7544131.5\n"
          ]
        }
      ]
    },
    {
      "cell_type": "markdown",
      "metadata": {
        "id": "ycwxAPHZLNST"
      },
      "source": [
        "\n",
        "\n",
        "---\n",
        "## Question 12\n",
        "\n",
        "In the code above, why do we have 2 in '2.0*(y_pred - y)`?\n",
        "\n",
        "## Question 13\n",
        "In the code above, what does `grad_h[h < 0] = 0` signify?\n",
        "\n",
        "## Question 14\n",
        "In the code above, how many \"epochs\" have we trained the model for? \n",
        "\n",
        "## Question 15\n",
        "In the code above, if we take the trained model, and run it on fresh  inputs, the trained model will be able to predict fresh output with high accuracy. \n",
        "\n",
        "## Question 16\n",
        "In the code above, if we dont use clone in `grad_h = grad_h_relu.clone()` the model will still train without any issues. "
      ]
    },
    {
      "cell_type": "code",
      "metadata": {
        "id": "PnJ49I07JJI6"
      },
      "source": [],
      "execution_count": null,
      "outputs": []
    }
  ]
}