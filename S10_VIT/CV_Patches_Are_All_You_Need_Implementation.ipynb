{
  "nbformat": 4,
  "nbformat_minor": 0,
  "metadata": {
    "colab": {
      "provenance": [],
      "authorship_tag": "ABX9TyPa+BKHyz+qIYhhAHoue8nM",
      "include_colab_link": true
    },
    "kernelspec": {
      "name": "python3",
      "display_name": "Python 3"
    },
    "language_info": {
      "name": "python"
    },
    "accelerator": "GPU",
    "gpuClass": "standard",
    "widgets": {
      "application/vnd.jupyter.widget-state+json": {
        "1dbc69f2cd24478889443f8ad7e3433a": {
          "model_module": "@jupyter-widgets/controls",
          "model_name": "HBoxModel",
          "model_module_version": "1.5.0",
          "state": {
            "_dom_classes": [],
            "_model_module": "@jupyter-widgets/controls",
            "_model_module_version": "1.5.0",
            "_model_name": "HBoxModel",
            "_view_count": null,
            "_view_module": "@jupyter-widgets/controls",
            "_view_module_version": "1.5.0",
            "_view_name": "HBoxView",
            "box_style": "",
            "children": [
              "IPY_MODEL_3d17a1280c014731b29108e205f57338",
              "IPY_MODEL_5efc74f3a8b54b3f919cef734c1d7a85",
              "IPY_MODEL_7a4432d36dd6436d8a16d63e9b4a52f9"
            ],
            "layout": "IPY_MODEL_ddda57d2677a426bb0d88f34dc92d398"
          }
        },
        "3d17a1280c014731b29108e205f57338": {
          "model_module": "@jupyter-widgets/controls",
          "model_name": "HTMLModel",
          "model_module_version": "1.5.0",
          "state": {
            "_dom_classes": [],
            "_model_module": "@jupyter-widgets/controls",
            "_model_module_version": "1.5.0",
            "_model_name": "HTMLModel",
            "_view_count": null,
            "_view_module": "@jupyter-widgets/controls",
            "_view_module_version": "1.5.0",
            "_view_name": "HTMLView",
            "description": "",
            "description_tooltip": null,
            "layout": "IPY_MODEL_9177f086482a41c9892062ef88cdbff6",
            "placeholder": "​",
            "style": "IPY_MODEL_1fc35e0428d44fd2a37efd2479d942bc",
            "value": "100%"
          }
        },
        "5efc74f3a8b54b3f919cef734c1d7a85": {
          "model_module": "@jupyter-widgets/controls",
          "model_name": "FloatProgressModel",
          "model_module_version": "1.5.0",
          "state": {
            "_dom_classes": [],
            "_model_module": "@jupyter-widgets/controls",
            "_model_module_version": "1.5.0",
            "_model_name": "FloatProgressModel",
            "_view_count": null,
            "_view_module": "@jupyter-widgets/controls",
            "_view_module_version": "1.5.0",
            "_view_name": "ProgressView",
            "bar_style": "success",
            "description": "",
            "description_tooltip": null,
            "layout": "IPY_MODEL_ffdebb55baf64028b9460e0ca9429216",
            "max": 170498071,
            "min": 0,
            "orientation": "horizontal",
            "style": "IPY_MODEL_441a7b0b24e04b1db05761b490ab3a85",
            "value": 170498071
          }
        },
        "7a4432d36dd6436d8a16d63e9b4a52f9": {
          "model_module": "@jupyter-widgets/controls",
          "model_name": "HTMLModel",
          "model_module_version": "1.5.0",
          "state": {
            "_dom_classes": [],
            "_model_module": "@jupyter-widgets/controls",
            "_model_module_version": "1.5.0",
            "_model_name": "HTMLModel",
            "_view_count": null,
            "_view_module": "@jupyter-widgets/controls",
            "_view_module_version": "1.5.0",
            "_view_name": "HTMLView",
            "description": "",
            "description_tooltip": null,
            "layout": "IPY_MODEL_305721d633e64141948762960206d3b6",
            "placeholder": "​",
            "style": "IPY_MODEL_41bee3d7ff0e49dcab5aaaded7c8a199",
            "value": " 170498071/170498071 [00:13&lt;00:00, 14557947.83it/s]"
          }
        },
        "ddda57d2677a426bb0d88f34dc92d398": {
          "model_module": "@jupyter-widgets/base",
          "model_name": "LayoutModel",
          "model_module_version": "1.2.0",
          "state": {
            "_model_module": "@jupyter-widgets/base",
            "_model_module_version": "1.2.0",
            "_model_name": "LayoutModel",
            "_view_count": null,
            "_view_module": "@jupyter-widgets/base",
            "_view_module_version": "1.2.0",
            "_view_name": "LayoutView",
            "align_content": null,
            "align_items": null,
            "align_self": null,
            "border": null,
            "bottom": null,
            "display": null,
            "flex": null,
            "flex_flow": null,
            "grid_area": null,
            "grid_auto_columns": null,
            "grid_auto_flow": null,
            "grid_auto_rows": null,
            "grid_column": null,
            "grid_gap": null,
            "grid_row": null,
            "grid_template_areas": null,
            "grid_template_columns": null,
            "grid_template_rows": null,
            "height": null,
            "justify_content": null,
            "justify_items": null,
            "left": null,
            "margin": null,
            "max_height": null,
            "max_width": null,
            "min_height": null,
            "min_width": null,
            "object_fit": null,
            "object_position": null,
            "order": null,
            "overflow": null,
            "overflow_x": null,
            "overflow_y": null,
            "padding": null,
            "right": null,
            "top": null,
            "visibility": null,
            "width": null
          }
        },
        "9177f086482a41c9892062ef88cdbff6": {
          "model_module": "@jupyter-widgets/base",
          "model_name": "LayoutModel",
          "model_module_version": "1.2.0",
          "state": {
            "_model_module": "@jupyter-widgets/base",
            "_model_module_version": "1.2.0",
            "_model_name": "LayoutModel",
            "_view_count": null,
            "_view_module": "@jupyter-widgets/base",
            "_view_module_version": "1.2.0",
            "_view_name": "LayoutView",
            "align_content": null,
            "align_items": null,
            "align_self": null,
            "border": null,
            "bottom": null,
            "display": null,
            "flex": null,
            "flex_flow": null,
            "grid_area": null,
            "grid_auto_columns": null,
            "grid_auto_flow": null,
            "grid_auto_rows": null,
            "grid_column": null,
            "grid_gap": null,
            "grid_row": null,
            "grid_template_areas": null,
            "grid_template_columns": null,
            "grid_template_rows": null,
            "height": null,
            "justify_content": null,
            "justify_items": null,
            "left": null,
            "margin": null,
            "max_height": null,
            "max_width": null,
            "min_height": null,
            "min_width": null,
            "object_fit": null,
            "object_position": null,
            "order": null,
            "overflow": null,
            "overflow_x": null,
            "overflow_y": null,
            "padding": null,
            "right": null,
            "top": null,
            "visibility": null,
            "width": null
          }
        },
        "1fc35e0428d44fd2a37efd2479d942bc": {
          "model_module": "@jupyter-widgets/controls",
          "model_name": "DescriptionStyleModel",
          "model_module_version": "1.5.0",
          "state": {
            "_model_module": "@jupyter-widgets/controls",
            "_model_module_version": "1.5.0",
            "_model_name": "DescriptionStyleModel",
            "_view_count": null,
            "_view_module": "@jupyter-widgets/base",
            "_view_module_version": "1.2.0",
            "_view_name": "StyleView",
            "description_width": ""
          }
        },
        "ffdebb55baf64028b9460e0ca9429216": {
          "model_module": "@jupyter-widgets/base",
          "model_name": "LayoutModel",
          "model_module_version": "1.2.0",
          "state": {
            "_model_module": "@jupyter-widgets/base",
            "_model_module_version": "1.2.0",
            "_model_name": "LayoutModel",
            "_view_count": null,
            "_view_module": "@jupyter-widgets/base",
            "_view_module_version": "1.2.0",
            "_view_name": "LayoutView",
            "align_content": null,
            "align_items": null,
            "align_self": null,
            "border": null,
            "bottom": null,
            "display": null,
            "flex": null,
            "flex_flow": null,
            "grid_area": null,
            "grid_auto_columns": null,
            "grid_auto_flow": null,
            "grid_auto_rows": null,
            "grid_column": null,
            "grid_gap": null,
            "grid_row": null,
            "grid_template_areas": null,
            "grid_template_columns": null,
            "grid_template_rows": null,
            "height": null,
            "justify_content": null,
            "justify_items": null,
            "left": null,
            "margin": null,
            "max_height": null,
            "max_width": null,
            "min_height": null,
            "min_width": null,
            "object_fit": null,
            "object_position": null,
            "order": null,
            "overflow": null,
            "overflow_x": null,
            "overflow_y": null,
            "padding": null,
            "right": null,
            "top": null,
            "visibility": null,
            "width": null
          }
        },
        "441a7b0b24e04b1db05761b490ab3a85": {
          "model_module": "@jupyter-widgets/controls",
          "model_name": "ProgressStyleModel",
          "model_module_version": "1.5.0",
          "state": {
            "_model_module": "@jupyter-widgets/controls",
            "_model_module_version": "1.5.0",
            "_model_name": "ProgressStyleModel",
            "_view_count": null,
            "_view_module": "@jupyter-widgets/base",
            "_view_module_version": "1.2.0",
            "_view_name": "StyleView",
            "bar_color": null,
            "description_width": ""
          }
        },
        "305721d633e64141948762960206d3b6": {
          "model_module": "@jupyter-widgets/base",
          "model_name": "LayoutModel",
          "model_module_version": "1.2.0",
          "state": {
            "_model_module": "@jupyter-widgets/base",
            "_model_module_version": "1.2.0",
            "_model_name": "LayoutModel",
            "_view_count": null,
            "_view_module": "@jupyter-widgets/base",
            "_view_module_version": "1.2.0",
            "_view_name": "LayoutView",
            "align_content": null,
            "align_items": null,
            "align_self": null,
            "border": null,
            "bottom": null,
            "display": null,
            "flex": null,
            "flex_flow": null,
            "grid_area": null,
            "grid_auto_columns": null,
            "grid_auto_flow": null,
            "grid_auto_rows": null,
            "grid_column": null,
            "grid_gap": null,
            "grid_row": null,
            "grid_template_areas": null,
            "grid_template_columns": null,
            "grid_template_rows": null,
            "height": null,
            "justify_content": null,
            "justify_items": null,
            "left": null,
            "margin": null,
            "max_height": null,
            "max_width": null,
            "min_height": null,
            "min_width": null,
            "object_fit": null,
            "object_position": null,
            "order": null,
            "overflow": null,
            "overflow_x": null,
            "overflow_y": null,
            "padding": null,
            "right": null,
            "top": null,
            "visibility": null,
            "width": null
          }
        },
        "41bee3d7ff0e49dcab5aaaded7c8a199": {
          "model_module": "@jupyter-widgets/controls",
          "model_name": "DescriptionStyleModel",
          "model_module_version": "1.5.0",
          "state": {
            "_model_module": "@jupyter-widgets/controls",
            "_model_module_version": "1.5.0",
            "_model_name": "DescriptionStyleModel",
            "_view_count": null,
            "_view_module": "@jupyter-widgets/base",
            "_view_module_version": "1.2.0",
            "_view_name": "StyleView",
            "description_width": ""
          }
        }
      }
    }
  },
  "cells": [
    {
      "cell_type": "markdown",
      "metadata": {
        "id": "view-in-github",
        "colab_type": "text"
      },
      "source": [
        "<a href=\"https://colab.research.google.com/github/navrat/EVA_phase1_2022_23/blob/main/S10_VIT/CV_Patches_Are_All_You_Need_Implementation.ipynb\" target=\"_parent\"><img src=\"https://colab.research.google.com/assets/colab-badge.svg\" alt=\"Open In Colab\"/></a>"
      ]
    },
    {
      "cell_type": "markdown",
      "source": [
        "https://arxiv.org/abs/2201.09792\n",
        "\n",
        "## Patches Are All You Need?\n",
        "### Asher Trockman, J. Zico Kolter\n"
      ],
      "metadata": {
        "id": "MBtZ8UYOFbch"
      }
    },
    {
      "cell_type": "code",
      "execution_count": 1,
      "metadata": {
        "id": "-kPS3UJfnNO1"
      },
      "outputs": [],
      "source": [
        "import torch\n",
        "import torch.nn as nn\n",
        "import torch.optim as optim\n",
        "import torchvision\n",
        "import torchvision.transforms as transforms\n",
        "import numpy as np\n",
        "import time\n",
        "import argparse"
      ]
    },
    {
      "cell_type": "code",
      "source": [
        "torch.cuda.is_available()"
      ],
      "metadata": {
        "colab": {
          "base_uri": "https://localhost:8080/"
        },
        "id": "S5XF5DLX_LmN",
        "outputId": "61c3a820-946c-40c6-eb93-1d243a6813ea"
      },
      "execution_count": 3,
      "outputs": [
        {
          "output_type": "execute_result",
          "data": {
            "text/plain": [
              "True"
            ]
          },
          "metadata": {},
          "execution_count": 3
        }
      ]
    },
    {
      "cell_type": "code",
      "source": [
        "class Residual(nn.Module):\n",
        "  def __init__(self, fn):\n",
        "    super().__init__()\n",
        "    self.fn = fn\n",
        "\n",
        "  def forward(self, x):\n",
        "    return self.fn(x) + x\n",
        "  \n",
        "def convmixer(dim, depth, kernel_size = 5, patch_size=2, n_classes=10):\n",
        "  return nn.Sequential(\n",
        "      nn.Conv2d(3, dim, kernel_size=patch_size, stride=patch_size), # 16X16 | kernel 2X2 with stride = 2 | 8X8 output\n",
        "      nn.GELU(),\n",
        "      nn.BatchNorm2d(dim),\n",
        "      *[\n",
        "          nn.Sequential(\n",
        "              Residual(\n",
        "                  nn.Sequential(nn.Conv2d(dim, dim, kernel_size, groups=dim, padding= \"same\"),\n",
        "                  nn.GELU(),\n",
        "                  nn.BatchNorm2d(dim)\n",
        "              )),          \n",
        "          nn.Conv2d(dim, dim, kernel_size =1),\n",
        "          nn.GELU(),\n",
        "          nn.BatchNorm2d(dim)\n",
        "          ) for i in range(depth)],\n",
        "      nn.AdaptiveAvgPool2d((1,1)),\n",
        "      nn.Flatten(),\n",
        "      nn.Linear(dim, n_classes)\n",
        "  )\n"
      ],
      "metadata": {
        "id": "RUsnyugRsxYR"
      },
      "execution_count": 10,
      "outputs": []
    },
    {
      "cell_type": "code",
      "source": [
        "cifar10_mean = (0.4914, 0.4822, 0.4465)\n",
        "cifar10_std = (0.2471, 0.2435, 0.2616)\n",
        "\n",
        "train_transform = transforms.Compose([\n",
        "    transforms.RandomResizedCrop(32, scale=(0.75, 1.0), ratio=(1.0, 1.0)),\n",
        "    transforms.RandomHorizontalFlip(p=0.5),\n",
        "    transforms.RandAugment(num_ops=1, magnitude=8),\n",
        "    transforms.ColorJitter(0.1, 0.1, 0.1),\n",
        "    transforms.ToTensor(),\n",
        "    transforms.Normalize(cifar10_mean, cifar10_std),\n",
        "    transforms.RandomErasing(p=0.25)\n",
        "])\n",
        "\n",
        "test_transform = transforms.Compose([\n",
        "    transforms.ToTensor(),\n",
        "    transforms.Normalize(cifar10_mean, cifar10_std)\n",
        "])\n",
        "\n",
        "epochs = 20\n",
        "batch_size =64\n",
        "\n",
        "trainset = torchvision.datasets.CIFAR10(root='./data', train=True,\n",
        "                                        download=True, transform=train_transform)\n",
        "trainloader = torch.utils.data.DataLoader(trainset, batch_size=batch_size,\n",
        "                                          shuffle=True, num_workers=4)\n",
        "\n",
        "testset = torchvision.datasets.CIFAR10(root='./data', train=False,\n",
        "                                       download=True, transform=test_transform)\n",
        "testloader = torch.utils.data.DataLoader(testset, batch_size=64,\n",
        "                                         shuffle=False, num_workers=4)"
      ],
      "metadata": {
        "colab": {
          "base_uri": "https://localhost:8080/",
          "height": 156,
          "referenced_widgets": [
            "1dbc69f2cd24478889443f8ad7e3433a",
            "3d17a1280c014731b29108e205f57338",
            "5efc74f3a8b54b3f919cef734c1d7a85",
            "7a4432d36dd6436d8a16d63e9b4a52f9",
            "ddda57d2677a426bb0d88f34dc92d398",
            "9177f086482a41c9892062ef88cdbff6",
            "1fc35e0428d44fd2a37efd2479d942bc",
            "ffdebb55baf64028b9460e0ca9429216",
            "441a7b0b24e04b1db05761b490ab3a85",
            "305721d633e64141948762960206d3b6",
            "41bee3d7ff0e49dcab5aaaded7c8a199"
          ]
        },
        "id": "r8PvpERzrGRP",
        "outputId": "59e204ac-5a72-4c4e-c0b6-1f8852eea81e"
      },
      "execution_count": 5,
      "outputs": [
        {
          "output_type": "stream",
          "name": "stdout",
          "text": [
            "Downloading https://www.cs.toronto.edu/~kriz/cifar-10-python.tar.gz to ./data/cifar-10-python.tar.gz\n"
          ]
        },
        {
          "output_type": "display_data",
          "data": {
            "text/plain": [
              "  0%|          | 0/170498071 [00:00<?, ?it/s]"
            ],
            "application/vnd.jupyter.widget-view+json": {
              "version_major": 2,
              "version_minor": 0,
              "model_id": "1dbc69f2cd24478889443f8ad7e3433a"
            }
          },
          "metadata": {}
        },
        {
          "output_type": "stream",
          "name": "stdout",
          "text": [
            "Extracting ./data/cifar-10-python.tar.gz to ./data\n"
          ]
        },
        {
          "output_type": "stream",
          "name": "stderr",
          "text": [
            "/usr/local/lib/python3.9/dist-packages/torch/utils/data/dataloader.py:554: UserWarning: This DataLoader will create 4 worker processes in total. Our suggested max number of worker in current system is 2, which is smaller than what this DataLoader is going to create. Please be aware that excessive worker creation might get DataLoader running slow or even freeze, lower the worker number to avoid potential slowness/freeze if necessary.\n",
            "  warnings.warn(_create_warning_msg(\n"
          ]
        },
        {
          "output_type": "stream",
          "name": "stdout",
          "text": [
            "Files already downloaded and verified\n"
          ]
        }
      ]
    },
    {
      "cell_type": "code",
      "source": [
        "lr_schedule = lambda t: np.interp([t], [0, sample_epochs*2//5, sample_epochs*4//5, sample_epochs], \n",
        "                                  [0, 0.01, 0.01/20.0, 0])[0]\n",
        "sample_epochs = 100\n",
        "print([0, sample_epochs*2//5, sample_epochs*4//5, sample_epochs])\n",
        "print(lr_schedule(10))\n",
        "print(lr_schedule(20))\n",
        "print(lr_schedule(40))\n",
        "print(lr_schedule(70))"
      ],
      "metadata": {
        "colab": {
          "base_uri": "https://localhost:8080/"
        },
        "id": "uVYhYFOysoHo",
        "outputId": "84a10517-1e43-42e0-a6f8-00d6489d1350"
      },
      "execution_count": 7,
      "outputs": [
        {
          "output_type": "stream",
          "name": "stdout",
          "text": [
            "[0, 40, 80, 100]\n",
            "0.0025\n",
            "0.005\n",
            "0.01\n",
            "0.002875\n"
          ]
        }
      ]
    },
    {
      "cell_type": "code",
      "source": [
        "lr_schedule = lambda t: np.interp([t], [0, epochs*2//5, epochs*4//5, epochs], [0,0.01, 0.01/20.0, 0])[0]\n",
        "\n",
        "depth = 10\n",
        "hdim = 256\n",
        "psize = 2\n",
        "conv_ks = 5\n",
        "clip_norm = True\n",
        "\n",
        "model_conv = convmixer(hdim, depth, patch_size=psize, kernel_size = conv_ks, n_classes=10)\n",
        "model = nn.DataParallel(model_conv, device_ids = [0]).cuda()\n",
        "\n",
        "opt = optim.AdamW(model.parameters(), lr=0.01, weight_decay=0.01)\n",
        "criterion = nn.CrossEntropyLoss()\n",
        "scaler = torch.cuda.amp.GradScaler()\n",
        "\n",
        "for epoch in range(epochs):\n",
        "  start = time.time()\n",
        "  train_loss, train_acc, n = 0, 0, 0\n",
        "  for i, (X, y) in enumerate(trainloader):\n",
        "    model.train()\n",
        "    X, y = X.cuda(), y.cuda()\n",
        "    lr = lr_schedule(epoch + (i+1)/len(trainloader))\n",
        "    opt.param_groups[0].update(lr=lr)\n",
        "\n",
        "    opt.zero_grad()\n",
        "\n",
        "    with torch.cuda.amp.autocast():\n",
        "      output = model(X)\n",
        "      loss = criterion(output, y)\n",
        "\n",
        "    scaler.scale(loss).backward()\n",
        "    if clip_norm:\n",
        "      scaler.unscale_(opt)\n",
        "      nn.utils.clip_grad_norm_(model.parameters(), 1.0)\n",
        "      scaler.update()\n",
        "\n",
        "    train_loss += loss.item() * y.size(0)\n",
        "    train_acc += (output.max(1)[1] == y).sum().item()\n",
        "    n += y.size(0)\n",
        "  \n",
        "  model.eval()\n",
        "  test_acc, m = 0, 0\n",
        "  with torch.no_grad():\n",
        "    for i, (X, y) in enumerate(testloader):\n",
        "      X, y = X.cuda(), y.cuda()\n",
        "      with torch.cuda.amp.autocast():\n",
        "        output = model(X)\n",
        "        test_acc += (output.max(1)[1] == y).sum().item()\n",
        "        m += y.size(0)\n",
        "\n",
        "  print(f'ConvMixer: Epoch: {epoch} | Train Acc: {train_acc/n: .4f}, Test_Acc: {test_acc/m: .4f}, Time: {time.time() - start: .1f}, lr: {lr: .6f}')\n"
      ],
      "metadata": {
        "colab": {
          "base_uri": "https://localhost:8080/",
          "height": 661
        },
        "id": "RsIncs3Eb0Se",
        "outputId": "b0ae1acd-063a-4aea-f088-c24fa3724104"
      },
      "execution_count": 11,
      "outputs": [
        {
          "output_type": "stream",
          "name": "stderr",
          "text": [
            "/usr/local/lib/python3.9/dist-packages/torch/utils/data/dataloader.py:554: UserWarning: This DataLoader will create 4 worker processes in total. Our suggested max number of worker in current system is 2, which is smaller than what this DataLoader is going to create. Please be aware that excessive worker creation might get DataLoader running slow or even freeze, lower the worker number to avoid potential slowness/freeze if necessary.\n",
            "  warnings.warn(_create_warning_msg(\n"
          ]
        },
        {
          "output_type": "stream",
          "name": "stdout",
          "text": [
            "ConvMixer: Epoch: 0 | Train Acc:  0.1071, Test_Acc:  0.1119, Time:  62.6, lr:  0.001250\n",
            "ConvMixer: Epoch: 1 | Train Acc:  0.1068, Test_Acc:  0.1128, Time:  63.5, lr:  0.002500\n",
            "ConvMixer: Epoch: 2 | Train Acc:  0.1090, Test_Acc:  0.1112, Time:  63.5, lr:  0.003750\n",
            "ConvMixer: Epoch: 3 | Train Acc:  0.1078, Test_Acc:  0.1111, Time:  63.5, lr:  0.005000\n",
            "ConvMixer: Epoch: 4 | Train Acc:  0.1068, Test_Acc:  0.1110, Time:  63.7, lr:  0.006250\n",
            "ConvMixer: Epoch: 5 | Train Acc:  0.1090, Test_Acc:  0.1106, Time:  63.7, lr:  0.007500\n",
            "ConvMixer: Epoch: 6 | Train Acc:  0.1085, Test_Acc:  0.1136, Time:  64.1, lr:  0.008750\n",
            "ConvMixer: Epoch: 7 | Train Acc:  0.1087, Test_Acc:  0.1127, Time:  63.9, lr:  0.010000\n",
            "ConvMixer: Epoch: 8 | Train Acc:  0.1094, Test_Acc:  0.1119, Time:  63.7, lr:  0.008813\n",
            "ConvMixer: Epoch: 9 | Train Acc:  0.1075, Test_Acc:  0.1116, Time:  64.1, lr:  0.007625\n",
            "ConvMixer: Epoch: 10 | Train Acc:  0.1113, Test_Acc:  0.1129, Time:  64.8, lr:  0.006438\n",
            "ConvMixer: Epoch: 11 | Train Acc:  0.1067, Test_Acc:  0.1137, Time:  66.6, lr:  0.005250\n"
          ]
        },
        {
          "output_type": "error",
          "ename": "KeyboardInterrupt",
          "evalue": "ignored",
          "traceback": [
            "\u001b[0;31m---------------------------------------------------------------------------\u001b[0m",
            "\u001b[0;31mKeyboardInterrupt\u001b[0m                         Traceback (most recent call last)",
            "\u001b[0;32m<ipython-input-11-36a4f1a42c4b>\u001b[0m in \u001b[0;36m<module>\u001b[0;34m\u001b[0m\n\u001b[1;32m     29\u001b[0m       \u001b[0mloss\u001b[0m \u001b[0;34m=\u001b[0m \u001b[0mcriterion\u001b[0m\u001b[0;34m(\u001b[0m\u001b[0moutput\u001b[0m\u001b[0;34m,\u001b[0m \u001b[0my\u001b[0m\u001b[0;34m)\u001b[0m\u001b[0;34m\u001b[0m\u001b[0;34m\u001b[0m\u001b[0m\n\u001b[1;32m     30\u001b[0m \u001b[0;34m\u001b[0m\u001b[0m\n\u001b[0;32m---> 31\u001b[0;31m     \u001b[0mscaler\u001b[0m\u001b[0;34m.\u001b[0m\u001b[0mscale\u001b[0m\u001b[0;34m(\u001b[0m\u001b[0mloss\u001b[0m\u001b[0;34m)\u001b[0m\u001b[0;34m.\u001b[0m\u001b[0mbackward\u001b[0m\u001b[0;34m(\u001b[0m\u001b[0;34m)\u001b[0m\u001b[0;34m\u001b[0m\u001b[0;34m\u001b[0m\u001b[0m\n\u001b[0m\u001b[1;32m     32\u001b[0m     \u001b[0;32mif\u001b[0m \u001b[0mclip_norm\u001b[0m\u001b[0;34m:\u001b[0m\u001b[0;34m\u001b[0m\u001b[0;34m\u001b[0m\u001b[0m\n\u001b[1;32m     33\u001b[0m       \u001b[0mscaler\u001b[0m\u001b[0;34m.\u001b[0m\u001b[0munscale_\u001b[0m\u001b[0;34m(\u001b[0m\u001b[0mopt\u001b[0m\u001b[0;34m)\u001b[0m\u001b[0;34m\u001b[0m\u001b[0;34m\u001b[0m\u001b[0m\n",
            "\u001b[0;32m/usr/local/lib/python3.9/dist-packages/torch/_tensor.py\u001b[0m in \u001b[0;36mbackward\u001b[0;34m(self, gradient, retain_graph, create_graph, inputs)\u001b[0m\n\u001b[1;32m    486\u001b[0m                 \u001b[0minputs\u001b[0m\u001b[0;34m=\u001b[0m\u001b[0minputs\u001b[0m\u001b[0;34m,\u001b[0m\u001b[0;34m\u001b[0m\u001b[0;34m\u001b[0m\u001b[0m\n\u001b[1;32m    487\u001b[0m             )\n\u001b[0;32m--> 488\u001b[0;31m         torch.autograd.backward(\n\u001b[0m\u001b[1;32m    489\u001b[0m             \u001b[0mself\u001b[0m\u001b[0;34m,\u001b[0m \u001b[0mgradient\u001b[0m\u001b[0;34m,\u001b[0m \u001b[0mretain_graph\u001b[0m\u001b[0;34m,\u001b[0m \u001b[0mcreate_graph\u001b[0m\u001b[0;34m,\u001b[0m \u001b[0minputs\u001b[0m\u001b[0;34m=\u001b[0m\u001b[0minputs\u001b[0m\u001b[0;34m\u001b[0m\u001b[0;34m\u001b[0m\u001b[0m\n\u001b[1;32m    490\u001b[0m         )\n",
            "\u001b[0;32m/usr/local/lib/python3.9/dist-packages/torch/autograd/__init__.py\u001b[0m in \u001b[0;36mbackward\u001b[0;34m(tensors, grad_tensors, retain_graph, create_graph, grad_variables, inputs)\u001b[0m\n\u001b[1;32m    195\u001b[0m     \u001b[0;31m# some Python versions print out the first line of a multi-line function\u001b[0m\u001b[0;34m\u001b[0m\u001b[0;34m\u001b[0m\u001b[0m\n\u001b[1;32m    196\u001b[0m     \u001b[0;31m# calls in the traceback and some print out the last line\u001b[0m\u001b[0;34m\u001b[0m\u001b[0;34m\u001b[0m\u001b[0m\n\u001b[0;32m--> 197\u001b[0;31m     Variable._execution_engine.run_backward(  # Calls into the C++ engine to run the backward pass\n\u001b[0m\u001b[1;32m    198\u001b[0m         \u001b[0mtensors\u001b[0m\u001b[0;34m,\u001b[0m \u001b[0mgrad_tensors_\u001b[0m\u001b[0;34m,\u001b[0m \u001b[0mretain_graph\u001b[0m\u001b[0;34m,\u001b[0m \u001b[0mcreate_graph\u001b[0m\u001b[0;34m,\u001b[0m \u001b[0minputs\u001b[0m\u001b[0;34m,\u001b[0m\u001b[0;34m\u001b[0m\u001b[0;34m\u001b[0m\u001b[0m\n\u001b[1;32m    199\u001b[0m         allow_unreachable=True, accumulate_grad=True)  # Calls into the C++ engine to run the backward pass\n",
            "\u001b[0;31mKeyboardInterrupt\u001b[0m: "
          ]
        }
      ]
    },
    {
      "cell_type": "code",
      "source": [
        "## The abvoe code has very limited accuracy boost per epoch"
      ],
      "metadata": {
        "id": "uUPM6An_DhGo"
      },
      "execution_count": null,
      "outputs": []
    },
    {
      "cell_type": "code",
      "source": [],
      "metadata": {
        "id": "VeBcgkjZDhJH"
      },
      "execution_count": null,
      "outputs": []
    },
    {
      "cell_type": "code",
      "source": [
        "## The below code has been picked from the paper directly and shows immediate accuracy boost per epoch"
      ],
      "metadata": {
        "id": "eWcKr6KrDhL1"
      },
      "execution_count": null,
      "outputs": []
    },
    {
      "cell_type": "code",
      "source": [
        "class Residual(nn.Module):\n",
        "  def __init__(self, fn):\n",
        "    super().__init__()\n",
        "    self.fn = fn \n",
        "  def forward(self, x):\n",
        "    return self.fn(x) + x\n",
        "\n",
        "\n",
        "def ConvMixer(dim, depth, kernel_size=5, patch_size=2, n_classes=10):\n",
        "  return nn.Sequential(\n",
        "      nn.Conv2d(3, dim, kernel_size=patch_size, stride=patch_size),\n",
        "      nn.GELU(),\n",
        "      nn.BatchNorm2d(dim),\n",
        "      *[nn.Sequential(\n",
        "          Residual(nn.Sequential(\n",
        "              nn.Conv2d(dim, dim, kernel_size, groups=dim, padding=\"same\"),\n",
        "              nn.GELU(),\n",
        "              nn.BatchNorm2d(dim)\n",
        "          )),\n",
        "          nn.Conv2d(dim, dim, kernel_size=1),\n",
        "          nn.GELU(),\n",
        "          nn.BatchNorm2d(dim)\n",
        "      ) for i in range(depth)],\n",
        "      nn.AdaptiveAvgPool2d((1, 1)),\n",
        "      nn.Flatten(),\n",
        "      nn.Linear(dim, n_classes)\n",
        "  )"
      ],
      "metadata": {
        "id": "uTTM-SaxDhN3"
      },
      "execution_count": 12,
      "outputs": []
    },
    {
      "cell_type": "code",
      "source": [
        "cifar10_mean = (0.4914, 0.4822, 0.4465)\n",
        "cifar10_std = (0.2471, 0.2435, 0.2616)\n",
        "\n",
        "train_transform = transforms.Compose([\n",
        "    transforms.RandomResizedCrop(32, scale=(0.75, 1.0), ratio=(1.0, 1.0)),\n",
        "    transforms.RandomHorizontalFlip(p=0.5),\n",
        "    transforms.RandAugment(num_ops=1, magnitude=8),\n",
        "    transforms.ColorJitter(0.1, 0.1, 0.1),\n",
        "    transforms.ToTensor(),\n",
        "    transforms.Normalize(cifar10_mean, cifar10_std),\n",
        "    transforms.RandomErasing(p=0.25)\n",
        "])\n",
        "\n",
        "test_transform = transforms.Compose([\n",
        "    transforms.ToTensor(),\n",
        "    transforms.Normalize(cifar10_mean, cifar10_std)\n",
        "])\n",
        "\n",
        "epochs = 25\n",
        "batch_size =512\n",
        "\n",
        "trainset = torchvision.datasets.CIFAR10(root='./data', train=True,\n",
        "                                        download=True, transform=train_transform)\n",
        "trainloader = torch.utils.data.DataLoader(trainset, batch_size=batch_size,\n",
        "                                          shuffle=True, num_workers=4)\n",
        "\n",
        "testset = torchvision.datasets.CIFAR10(root='./data', train=False,\n",
        "                                       download=True, transform=test_transform)\n",
        "testloader = torch.utils.data.DataLoader(testset, batch_size=64,\n",
        "                                         shuffle=False, num_workers=4)"
      ],
      "metadata": {
        "colab": {
          "base_uri": "https://localhost:8080/"
        },
        "id": "77dCq1FyDhRD",
        "outputId": "0bcf1e7e-e830-41f9-fed7-38ebd798b104"
      },
      "execution_count": 13,
      "outputs": [
        {
          "output_type": "stream",
          "name": "stdout",
          "text": [
            "Files already downloaded and verified\n",
            "Files already downloaded and verified\n"
          ]
        }
      ]
    },
    {
      "cell_type": "code",
      "source": [
        "lr_schedule = lambda t: np.interp([t], [0, epochs*2//5, epochs*4//5, epochs], \n",
        "                                  [0, 0.01, 0.01/20.0, 0])[0]\n",
        "\n",
        "depth = 10\n",
        "hdim = 256\n",
        "psize = 2\n",
        "conv_ks = 5\n",
        "clip_norm = True\n",
        "\n",
        "model = ConvMixer(hdim, depth, patch_size=psize, kernel_size=conv_ks, n_classes=10)\n",
        "model = nn.DataParallel(model, device_ids=[0]).cuda()\n",
        "\n",
        "opt = optim.AdamW(model.parameters(), lr=0.01, weight_decay=0.01)\n",
        "criterion = nn.CrossEntropyLoss()\n",
        "scaler = torch.cuda.amp.GradScaler()\n",
        "\n",
        "for epoch in range(epochs):\n",
        "    start = time.time()\n",
        "    train_loss, train_acc, n = 0, 0, 0\n",
        "    for i, (X, y) in enumerate(trainloader):\n",
        "        model.train()\n",
        "        X, y = X.cuda(), y.cuda()\n",
        "\n",
        "        lr = lr_schedule(epoch + (i + 1)/len(trainloader))\n",
        "        opt.param_groups[0].update(lr=lr)\n",
        "\n",
        "        opt.zero_grad()\n",
        "        with torch.cuda.amp.autocast():\n",
        "            output = model(X)\n",
        "            loss = criterion(output, y)\n",
        "\n",
        "        scaler.scale(loss).backward()\n",
        "        if clip_norm:\n",
        "            scaler.unscale_(opt)\n",
        "            nn.utils.clip_grad_norm_(model.parameters(), 1.0)\n",
        "        scaler.step(opt)\n",
        "        scaler.update()\n",
        "        \n",
        "        train_loss += loss.item() * y.size(0)\n",
        "        train_acc += (output.max(1)[1] == y).sum().item()\n",
        "        n += y.size(0)\n",
        "        \n",
        "    model.eval()\n",
        "    test_acc, m = 0, 0\n",
        "    with torch.no_grad():\n",
        "        for i, (X, y) in enumerate(testloader):\n",
        "            X, y = X.cuda(), y.cuda()\n",
        "            with torch.cuda.amp.autocast():\n",
        "                output = model(X)\n",
        "            test_acc += (output.max(1)[1] == y).sum().item()\n",
        "            m += y.size(0)\n",
        "\n",
        "    print(f'ConvMixer: Epoch: {epoch} | Train Acc: {train_acc/n:.4f}, Test Acc: {test_acc/m:.4f}, Time: {time.time() - start:.1f}, lr: {lr:.6f}')\n",
        "\n"
      ],
      "metadata": {
        "colab": {
          "base_uri": "https://localhost:8080/"
        },
        "id": "LE8JKZ9dDdYq",
        "outputId": "887064f6-9c97-4391-c35f-7757005d98d3"
      },
      "execution_count": 14,
      "outputs": [
        {
          "output_type": "stream",
          "name": "stdout",
          "text": [
            "ConvMixer: Epoch: 0 | Train Acc: 0.3425, Test Acc: 0.4941, Time: 62.8, lr: 0.001000\n",
            "ConvMixer: Epoch: 1 | Train Acc: 0.5456, Test Acc: 0.5807, Time: 54.1, lr: 0.002000\n",
            "ConvMixer: Epoch: 2 | Train Acc: 0.6424, Test Acc: 0.6467, Time: 54.9, lr: 0.003000\n",
            "ConvMixer: Epoch: 3 | Train Acc: 0.7056, Test Acc: 0.7444, Time: 54.8, lr: 0.004000\n",
            "ConvMixer: Epoch: 4 | Train Acc: 0.7443, Test Acc: 0.7637, Time: 55.3, lr: 0.005000\n",
            "ConvMixer: Epoch: 5 | Train Acc: 0.7632, Test Acc: 0.7765, Time: 54.5, lr: 0.006000\n",
            "ConvMixer: Epoch: 6 | Train Acc: 0.7796, Test Acc: 0.8000, Time: 54.8, lr: 0.007000\n",
            "ConvMixer: Epoch: 7 | Train Acc: 0.7933, Test Acc: 0.7926, Time: 55.0, lr: 0.008000\n",
            "ConvMixer: Epoch: 8 | Train Acc: 0.8048, Test Acc: 0.8024, Time: 59.4, lr: 0.009000\n",
            "ConvMixer: Epoch: 9 | Train Acc: 0.8136, Test Acc: 0.8317, Time: 54.6, lr: 0.010000\n",
            "ConvMixer: Epoch: 10 | Train Acc: 0.8273, Test Acc: 0.8463, Time: 55.3, lr: 0.009050\n",
            "ConvMixer: Epoch: 11 | Train Acc: 0.8444, Test Acc: 0.8464, Time: 55.3, lr: 0.008100\n",
            "ConvMixer: Epoch: 12 | Train Acc: 0.8587, Test Acc: 0.8568, Time: 55.8, lr: 0.007150\n",
            "ConvMixer: Epoch: 13 | Train Acc: 0.8677, Test Acc: 0.8727, Time: 56.9, lr: 0.006200\n",
            "ConvMixer: Epoch: 14 | Train Acc: 0.8779, Test Acc: 0.8860, Time: 55.9, lr: 0.005250\n",
            "ConvMixer: Epoch: 15 | Train Acc: 0.8913, Test Acc: 0.8794, Time: 55.1, lr: 0.004300\n",
            "ConvMixer: Epoch: 16 | Train Acc: 0.9008, Test Acc: 0.8972, Time: 55.6, lr: 0.003350\n",
            "ConvMixer: Epoch: 17 | Train Acc: 0.9109, Test Acc: 0.9063, Time: 55.2, lr: 0.002400\n",
            "ConvMixer: Epoch: 18 | Train Acc: 0.9208, Test Acc: 0.9063, Time: 55.3, lr: 0.001450\n",
            "ConvMixer: Epoch: 19 | Train Acc: 0.9286, Test Acc: 0.9108, Time: 55.2, lr: 0.000500\n",
            "ConvMixer: Epoch: 20 | Train Acc: 0.9354, Test Acc: 0.9116, Time: 56.4, lr: 0.000400\n",
            "ConvMixer: Epoch: 21 | Train Acc: 0.9363, Test Acc: 0.9118, Time: 54.8, lr: 0.000300\n",
            "ConvMixer: Epoch: 22 | Train Acc: 0.9381, Test Acc: 0.9127, Time: 55.0, lr: 0.000200\n",
            "ConvMixer: Epoch: 23 | Train Acc: 0.9401, Test Acc: 0.9130, Time: 56.8, lr: 0.000100\n",
            "ConvMixer: Epoch: 24 | Train Acc: 0.9410, Test Acc: 0.9124, Time: 56.1, lr: 0.000000\n"
          ]
        }
      ]
    },
    {
      "cell_type": "code",
      "source": [],
      "metadata": {
        "id": "YpgOEJENro7K"
      },
      "execution_count": null,
      "outputs": []
    },
    {
      "cell_type": "code",
      "source": [],
      "metadata": {
        "id": "oTamPPgHro98"
      },
      "execution_count": null,
      "outputs": []
    }
  ]
}