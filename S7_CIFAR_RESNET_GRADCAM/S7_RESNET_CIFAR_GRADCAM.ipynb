{
  "nbformat": 4,
  "nbformat_minor": 0,
  "metadata": {
    "colab": {
      "provenance": [],
      "authorship_tag": "ABX9TyOk6FBA8ao1dpY6ukUXYqWt",
      "include_colab_link": true
    },
    "kernelspec": {
      "name": "python3",
      "display_name": "Python 3"
    },
    "language_info": {
      "name": "python"
    }
  },
  "cells": [
    {
      "cell_type": "markdown",
      "metadata": {
        "id": "view-in-github",
        "colab_type": "text"
      },
      "source": [
        "<a href=\"https://colab.research.google.com/github/navrat/EVA_phase1_2022_23/blob/main/S7_CIFAR_RESNET_GRADCAM/S7_RESNET_CIFAR_GRADCAM.ipynb\" target=\"_parent\"><img src=\"https://colab.research.google.com/assets/colab-badge.svg\" alt=\"Open In Colab\"/></a>"
      ]
    },
    {
      "cell_type": "code",
      "execution_count": null,
      "metadata": {
        "id": "wUJg_Moy3HhG"
      },
      "outputs": [],
      "source": [
        "%load_ext autoreload\n",
        "%autoreload 2"
      ]
    },
    {
      "cell_type": "code",
      "source": [
        "autoreload 2\n",
        "# Future print function\n",
        "from __future__ import print_function\n",
        "\n",
        "# Load modules/models from EVA course\n",
        "!git clone https://github.com/sujitojha1/pytorch-eva8 -q --quiet\n",
        "!mv pytorch-eva8/* .\n",
        "print(\"Loaded EVA8 Modules and Models\")\n",
        "\n",
        "!rm -rf pytorch-eva8\n",
        "\n",
        "# Installing latest Albumentation library\n",
        "!pip install -U git+https://github.com/albu/albumentations -q --quiet\n",
        "\n",
        "# For inline matplotlib plotting\n",
        "%matplotlib inline"
      ],
      "metadata": {
        "id": "t5z_b6xD3I0W"
      },
      "execution_count": null,
      "outputs": []
    },
    {
      "cell_type": "code",
      "source": [
        "from utils import *\n",
        "\n",
        "# Loading test and train data & dataloader\n",
        "cifar10 = dataset_cifar10(batch_size=128)\n",
        "\n",
        "# Train dataloader\n",
        "trainloader = cifar10.loader(train_flag=True)\n",
        "\n",
        "# Test dataloader\n",
        "testloader = cifar10.loader(train_flag=False)\n",
        "\n",
        "classes = cifar10.classes"
      ],
      "metadata": {
        "id": "SCO6gZY93I3B"
      },
      "execution_count": null,
      "outputs": []
    },
    {
      "cell_type": "code",
      "source": [
        "cifar10.data_summary_stats()\n",
        "#print(vars(train))"
      ],
      "metadata": {
        "id": "YLx8_dBL3I5N"
      },
      "execution_count": null,
      "outputs": []
    },
    {
      "cell_type": "code",
      "source": [
        "from models.resnet import *\n",
        "import torch\n",
        "\n",
        "# Loading ResNet18 Model\n",
        "net = ResNet18()\n",
        "\n",
        "# Using cuda if available\n",
        "use_cuda = torch.cuda.is_available()\n",
        "device = torch.device(\"cuda\" if use_cuda else \"cpu\")\n",
        "print(device)\n",
        "\n",
        "# Sending network to device\n",
        "net = net.to(device)"
      ],
      "metadata": {
        "id": "WQ07YidU3I7Q"
      },
      "execution_count": null,
      "outputs": []
    },
    {
      "cell_type": "code",
      "source": [
        "!pip install torchsummary\n",
        "from torchsummary import summary\n",
        "\n",
        "# Model Summary\n",
        "summary(net, input_size=(3, 32, 32))"
      ],
      "metadata": {
        "id": "03tNrtCO3I9a"
      },
      "execution_count": null,
      "outputs": []
    },
    {
      "cell_type": "code",
      "source": [
        "# Load train and test model\n",
        "from main import trainNetwork\n",
        "\n",
        "trainObj, testObj = trainNetwork(net, device, trainloader, testloader, EPOCHS=20, lr=0.01)"
      ],
      "metadata": {
        "id": "BGweheoQ3JAK"
      },
      "execution_count": null,
      "outputs": []
    },
    {
      "cell_type": "code",
      "source": [
        "from utils import plot_loss_accuracy_graph\n",
        "plot_loss_accuracy_graph(trainObj, testObj,EPOCHS=20)"
      ],
      "metadata": {
        "id": "gqLzVhKz3JCG"
      },
      "execution_count": null,
      "outputs": []
    },
    {
      "cell_type": "code",
      "source": [
        "def calClassAccuracy(net, dataloader, classes, device):\n",
        "    class_correct = list(0. for i in range(10))\n",
        "    class_total = list(0. for i in range(10))\n",
        "    with torch.no_grad():\n",
        "        for data in dataloader:\n",
        "            images, labels = data\n",
        "            images,labels = images.to(device),labels.to(device)\n",
        "            outputs = net(images)\n",
        "            _, predicted = torch.max(outputs, 1)\n",
        "            c = (predicted == labels).squeeze()\n",
        "            for i in range(4):\n",
        "                label = labels[i]\n",
        "                class_correct[label] += c[i].item()\n",
        "                class_total[label] += 1\n",
        "\n",
        "\n",
        "    for i in range(10):\n",
        "        print('Accuracy of %5s : %2d %%' % (\n",
        "            classes[i], 100 * class_correct[i] / class_total[i]))"
      ],
      "metadata": {
        "id": "VTfLpyQl3JGM"
      },
      "execution_count": null,
      "outputs": []
    },
    {
      "cell_type": "code",
      "source": [
        "from utils import plot_misclassified_images\n",
        "plot_misclassified_images(net, testloader, classes, device)"
      ],
      "metadata": {
        "id": "RAbdT0Hk3JKl"
      },
      "execution_count": null,
      "outputs": []
    },
    {
      "cell_type": "code",
      "source": [
        "from utils import plotGradCAM\n",
        "# initialize a model, model_dict and gradcam\n",
        "plotGradCAM(net, testloader, classes, device)"
      ],
      "metadata": {
        "id": "Oo3LFsTf3JOZ"
      },
      "execution_count": null,
      "outputs": []
    },
    {
      "cell_type": "markdown",
      "source": [
        "##END"
      ],
      "metadata": {
        "id": "_tMK-84C3dYt"
      }
    }
  ]
}